{
 "cells": [
  {
   "cell_type": "markdown",
   "metadata": {},
   "source": [
    "# Milestone P4 - A comparative approach on chilling effect, from Wikipedia to Google Trend\n",
    "\n",
    "## Course CS-401 - Applied Data Analysis\n",
    "\n",
    "### Instructor : [Robert West](https://dlab.epfl.ch/people/west/)\n",
    "\n",
    "### Author :  \n",
    "- **Chraibi Ghali**  \n",
    "    SCIPER: 262251\n",
    "- **Jesslen Artur**  \n",
    "    SCIPER: 270642\n",
    "- **Michels Luc**  \n",
    "    SCIPER: ????????????  \n",
    "\n",
    "#### Due date: 18 Dec 2020"
   ]
  },
  {
   "cell_type": "markdown",
   "metadata": {},
   "source": [
    "---\n",
    "### Context"
   ]
  },
  {
   "cell_type": "markdown",
   "metadata": {},
   "source": [
    "Lorem ipsum"
   ]
  },
  {
   "cell_type": "markdown",
   "metadata": {},
   "source": [
    "### Data"
   ]
  },
  {
   "cell_type": "markdown",
   "metadata": {},
   "source": [
    "Lorem ipsum"
   ]
  },
  {
   "cell_type": "markdown",
   "metadata": {},
   "source": [
    "### Imports"
   ]
  },
  {
   "cell_type": "code",
   "execution_count": 10,
   "metadata": {},
   "outputs": [],
   "source": [
    "import matplotlib.pyplot as plt\n",
    "import scipy.stats as stats\n",
    "import pandas as pd\n",
    "import numpy as np\n",
    "\n",
    "from os import path"
   ]
  },
  {
   "cell_type": "markdown",
   "metadata": {},
   "source": [
    "---\n",
    "### Replicate the experiment of the paper"
   ]
  },
  {
   "cell_type": "markdown",
   "metadata": {},
   "source": [
    "#### Load data"
   ]
  },
  {
   "cell_type": "code",
   "execution_count": 2,
   "metadata": {},
   "outputs": [],
   "source": [
    "data_path = 'data/'\n",
    "\n",
    "if path.exists(data_path):\n",
    "    terrorism_df = pd.read_pickle(data_path+\"terrorism.pkl\")\n",
    "    domestic_df = pd.read_pickle(data_path+\"domestic.pkl\")\n",
    "    top_30_terrorism_df = pd.read_pickle(data_path+\"top_30_terrorism.pkl\")\n",
    "else:\n",
    "    raise NotADirectoryError"
   ]
  },
  {
   "cell_type": "code",
   "execution_count": 3,
   "metadata": {},
   "outputs": [
    {
     "name": "stdout",
     "output_type": "stream",
     "text": [
      "(6020, 3)\n"
     ]
    },
    {
     "data": {
      "text/html": [
       "<div>\n",
       "<style scoped>\n",
       "    .dataframe tbody tr th:only-of-type {\n",
       "        vertical-align: middle;\n",
       "    }\n",
       "\n",
       "    .dataframe tbody tr th {\n",
       "        vertical-align: top;\n",
       "    }\n",
       "\n",
       "    .dataframe thead th {\n",
       "        text-align: right;\n",
       "    }\n",
       "</style>\n",
       "<table border=\"1\" class=\"dataframe\">\n",
       "  <thead>\n",
       "    <tr style=\"text-align: right;\">\n",
       "      <th></th>\n",
       "      <th>date</th>\n",
       "      <th>max_ratio</th>\n",
       "      <th>topic_name</th>\n",
       "    </tr>\n",
       "  </thead>\n",
       "  <tbody>\n",
       "    <tr>\n",
       "      <th>0</th>\n",
       "      <td>2012-01-01</td>\n",
       "      <td>1.033386</td>\n",
       "      <td>Al-Qaeda</td>\n",
       "    </tr>\n",
       "    <tr>\n",
       "      <th>1</th>\n",
       "      <td>2012-01-08</td>\n",
       "      <td>1.192369</td>\n",
       "      <td>Al-Qaeda</td>\n",
       "    </tr>\n",
       "    <tr>\n",
       "      <th>2</th>\n",
       "      <td>2012-01-15</td>\n",
       "      <td>1.271860</td>\n",
       "      <td>Al-Qaeda</td>\n",
       "    </tr>\n",
       "    <tr>\n",
       "      <th>3</th>\n",
       "      <td>2012-01-22</td>\n",
       "      <td>1.192369</td>\n",
       "      <td>Al-Qaeda</td>\n",
       "    </tr>\n",
       "    <tr>\n",
       "      <th>4</th>\n",
       "      <td>2012-01-29</td>\n",
       "      <td>1.192369</td>\n",
       "      <td>Al-Qaeda</td>\n",
       "    </tr>\n",
       "  </tbody>\n",
       "</table>\n",
       "</div>"
      ],
      "text/plain": [
       "        date  max_ratio topic_name\n",
       "0 2012-01-01   1.033386   Al-Qaeda\n",
       "1 2012-01-08   1.192369   Al-Qaeda\n",
       "2 2012-01-15   1.271860   Al-Qaeda\n",
       "3 2012-01-22   1.192369   Al-Qaeda\n",
       "4 2012-01-29   1.192369   Al-Qaeda"
      ]
     },
     "execution_count": 3,
     "metadata": {},
     "output_type": "execute_result"
    }
   ],
   "source": [
    "terrorism_df = terrorism_df[['date', 'max_ratio', 'topic_name']]\n",
    "print(terrorism_df.shape)\n",
    "terrorism_df.head(5)"
   ]
  },
  {
   "cell_type": "markdown",
   "metadata": {},
   "source": [
    "#### Analyse data"
   ]
  },
  {
   "cell_type": "markdown",
   "metadata": {},
   "source": [
    " "
   ]
  },
  {
   "cell_type": "code",
   "execution_count": 4,
   "metadata": {},
   "outputs": [],
   "source": [
    "# Define a constant for the date of revelation\n",
    "revelation_date = pd.Timestamp('2013-06-15')"
   ]
  },
  {
   "cell_type": "code",
   "execution_count": 5,
   "metadata": {},
   "outputs": [],
   "source": [
    "# Organise the data in a time series with the ratio of total views per week\n",
    "terrorism_ts = terrorism_df.groupby(by='date').sum()\n",
    "terrorism_ts = terrorism_ts.reset_index().rename(columns={'index': 'date'})\n",
    "\n",
    "# Separate the data in two to perform an ITS analysis\n",
    "terrorism_pre_june_ts = terrorism_ts[terrorism_ts['date'] < revelation_date]\n",
    "terrorism_post_june_ts = terrorism_ts[terrorism_ts['date'] > revelation_date]"
   ]
  },
  {
   "cell_type": "markdown",
   "metadata": {},
   "source": [
    "Step 1"
   ]
  },
  {
   "cell_type": "code",
   "execution_count": 6,
   "metadata": {},
   "outputs": [
    {
     "name": "stdout",
     "output_type": "stream",
     "text": [
      "144.39245350898165\n",
      "155.2993829143416\n",
      "(64, 2)\n"
     ]
    },
    {
     "data": {
      "text/html": [
       "<div>\n",
       "<style scoped>\n",
       "    .dataframe tbody tr th:only-of-type {\n",
       "        vertical-align: middle;\n",
       "    }\n",
       "\n",
       "    .dataframe tbody tr th {\n",
       "        vertical-align: top;\n",
       "    }\n",
       "\n",
       "    .dataframe thead th {\n",
       "        text-align: right;\n",
       "    }\n",
       "</style>\n",
       "<table border=\"1\" class=\"dataframe\">\n",
       "  <thead>\n",
       "    <tr style=\"text-align: right;\">\n",
       "      <th></th>\n",
       "      <th>date</th>\n",
       "      <th>max_ratio</th>\n",
       "    </tr>\n",
       "  </thead>\n",
       "  <tbody>\n",
       "    <tr>\n",
       "      <th>0</th>\n",
       "      <td>2012-01-01</td>\n",
       "      <td>147.268060</td>\n",
       "    </tr>\n",
       "    <tr>\n",
       "      <th>1</th>\n",
       "      <td>2012-01-08</td>\n",
       "      <td>169.352696</td>\n",
       "    </tr>\n",
       "    <tr>\n",
       "      <th>2</th>\n",
       "      <td>2012-01-15</td>\n",
       "      <td>148.067427</td>\n",
       "    </tr>\n",
       "    <tr>\n",
       "      <th>3</th>\n",
       "      <td>2012-01-22</td>\n",
       "      <td>149.562785</td>\n",
       "    </tr>\n",
       "    <tr>\n",
       "      <th>4</th>\n",
       "      <td>2012-01-29</td>\n",
       "      <td>162.182179</td>\n",
       "    </tr>\n",
       "    <tr>\n",
       "      <th>...</th>\n",
       "      <td>...</td>\n",
       "      <td>...</td>\n",
       "    </tr>\n",
       "    <tr>\n",
       "      <th>71</th>\n",
       "      <td>2013-05-12</td>\n",
       "      <td>153.738519</td>\n",
       "    </tr>\n",
       "    <tr>\n",
       "      <th>72</th>\n",
       "      <td>2013-05-19</td>\n",
       "      <td>152.116111</td>\n",
       "    </tr>\n",
       "    <tr>\n",
       "      <th>73</th>\n",
       "      <td>2013-05-26</td>\n",
       "      <td>144.090906</td>\n",
       "    </tr>\n",
       "    <tr>\n",
       "      <th>74</th>\n",
       "      <td>2013-06-02</td>\n",
       "      <td>132.843838</td>\n",
       "    </tr>\n",
       "    <tr>\n",
       "      <th>75</th>\n",
       "      <td>2013-06-09</td>\n",
       "      <td>136.505355</td>\n",
       "    </tr>\n",
       "  </tbody>\n",
       "</table>\n",
       "<p>76 rows × 2 columns</p>\n",
       "</div>"
      ],
      "text/plain": [
       "         date   max_ratio\n",
       "0  2012-01-01  147.268060\n",
       "1  2012-01-08  169.352696\n",
       "2  2012-01-15  148.067427\n",
       "3  2012-01-22  149.562785\n",
       "4  2012-01-29  162.182179\n",
       "..        ...         ...\n",
       "71 2013-05-12  153.738519\n",
       "72 2013-05-19  152.116111\n",
       "73 2013-05-26  144.090906\n",
       "74 2013-06-02  132.843838\n",
       "75 2013-06-09  136.505355\n",
       "\n",
       "[76 rows x 2 columns]"
      ]
     },
     "execution_count": 6,
     "metadata": {},
     "output_type": "execute_result"
    }
   ],
   "source": [
    "print(np.mean(terrorism_pre_june_ts['max_ratio']))\n",
    "print(np.mean(terrorism_post_june_ts['max_ratio']))\n",
    "print(terrorism_post_june_ts.shape)\n",
    "terrorism_pre_june_ts"
   ]
  },
  {
   "cell_type": "code",
   "execution_count": null,
   "metadata": {},
   "outputs": [],
   "source": [
    "# TODO Histogram"
   ]
  },
  {
   "cell_type": "markdown",
   "metadata": {},
   "source": [
    "Step 2"
   ]
  },
  {
   "cell_type": "code",
   "execution_count": 28,
   "metadata": {},
   "outputs": [
    {
     "data": {
      "image/png": "[encoded data removed]",
      "text/plain": [
       "<Figure size 720x432 with 1 Axes>"
      ]
     },
     "metadata": {
      "needs_background": "light"
     },
     "output_type": "display_data"
    }
   ],
   "source": [
    "### TODO Modify description of the plot\n",
    "\n",
    "# Visualisation of full time series\n",
    "fig, ax = plt.subplots(figsize=(10, 6))\n",
    "\n",
    "ax.set_title('Figure 2. Pre and Post June 2013 Topic Ratio Trends \\n\\n', fontsize=14)\n",
    "ax.set_xlabel('\\nTime (?Weeks?)', fontsize=11)\n",
    "ax.set_ylabel('Total views (All ?48? Google Articles)\\n', fontsize=11)\n",
    "\n",
    "ax.scatter(terrorism_ts.index, terrorism_ts['max_ratio'], label='Total Articles Views (By Month)', color='black')\n",
    "\n",
    "# Draw the regressions\n",
    "slope_pre_june, intercept_pre_june, _, _, _ = stats.linregress(terrorism_pre_june_ts.index, \n",
    "                                                               terrorism_pre_june_ts['max_ratio'])\n",
    "slope_post_june, intercept_post_june, _, _, _ = stats.linregress(terrorism_post_june_ts.index,\n",
    "                                                                 terrorism_post_june_ts['max_ratio'])\n",
    "x1 = terrorism_pre_june_ts.index\n",
    "ax.plot(x1, intercept_pre_june + slope_pre_june*x1, color='black', linewidth='3', label='Trend Pre-June 2013')\n",
    "x2 = terrorism_post_june_ts.index\n",
    "ax.plot(x2, intercept_post_june + slope_post_june*x2, color='gray', linewidth='3', label='Trend Post-June 2013')\n",
    "\n",
    "# Emphasise when the revelations occured \n",
    "revelation_date_integer = 16.5\n",
    "ax.axvline(x=revelation_date_integer, ymin=0, ymax=280, color='black', linewidth='3')\n",
    "\n",
    "x_text_offset = 14.5\n",
    "y_text_offset = 285\n",
    "ax.text(x_text_offset, y_text_offset, 'Mid June 2013', fontsize=10)\n",
    "\n",
    "ax.legend(loc='lower left')\n",
    "plt.show()"
   ]
  },
  {
   "cell_type": "markdown",
   "metadata": {},
   "source": [
    "Step 3 - Compare"
   ]
  },
  {
   "cell_type": "code",
   "execution_count": null,
   "metadata": {},
   "outputs": [],
   "source": []
  },
  {
   "cell_type": "code",
   "execution_count": null,
   "metadata": {},
   "outputs": [],
   "source": []
  },
  {
   "cell_type": "code",
   "execution_count": null,
   "metadata": {},
   "outputs": [],
   "source": []
  }
 ],
 "metadata": {
  "kernelspec": {
   "display_name": "Python 3",
   "language": "python",
   "name": "python3"
  },
  "language_info": {
   "codemirror_mode": {
    "name": "ipython",
    "version": 3
   },
   "file_extension": ".py",
   "mimetype": "text/x-python",
   "name": "python",
   "nbconvert_exporter": "python",
   "pygments_lexer": "ipython3",
   "version": "3.8.5"
  }
 },
 "nbformat": 4,
 "nbformat_minor": 4
}
