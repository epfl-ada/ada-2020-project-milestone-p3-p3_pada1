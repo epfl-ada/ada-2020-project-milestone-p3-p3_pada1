{
 "cells": [
  {
   "cell_type": "markdown",
   "metadata": {},
   "source": [
    "# Data Wrangling\n",
    "\n",
    "In this notebook we will create the following datasets:\n",
    "\n",
    "    - 48 Terrorism related search queries [2012-01-01 -> 2014-08-31]\n",
    "    - 25 Domestic related search queries [2012-01-01 -> 2014-08-31]\n",
    "    - top 30 MTurk evaluation terrorism related search queries [2012-01-01 -> 2014-08-31]\n"
   ]
  },
  {
   "cell_type": "markdown",
   "metadata": {},
   "source": [
    "### Imports"
   ]
  },
  {
   "cell_type": "code",
   "execution_count": 10,
   "metadata": {},
   "outputs": [
    {
     "name": "stdout",
     "output_type": "stream",
     "text": [
      "Requirement already satisfied: gtab in d:\\programdata\\anaconda3\\lib\\site-packages (0.4)\n",
      "Requirement already satisfied: tqdm in d:\\programdata\\anaconda3\\lib\\site-packages (from gtab) (4.49.0)\n",
      "Requirement already satisfied: numpy in d:\\programdata\\anaconda3\\lib\\site-packages (from gtab) (1.19.1)\n",
      "Requirement already satisfied: pandas in d:\\programdata\\anaconda3\\lib\\site-packages (from gtab) (1.1.1)\n",
      "Requirement already satisfied: pytrends in d:\\programdata\\anaconda3\\lib\\site-packages (from gtab) (4.7.3)\n",
      "Requirement already satisfied: networkx in d:\\programdata\\anaconda3\\lib\\site-packages (from gtab) (2.5)\n",
      "Requirement already satisfied: pytz>=2017.2 in d:\\programdata\\anaconda3\\lib\\site-packages (from pandas->gtab) (2020.1)\n",
      "Requirement already satisfied: python-dateutil>=2.7.3 in d:\\programdata\\anaconda3\\lib\\site-packages (from pandas->gtab) (2.8.1)\n",
      "Requirement already satisfied: requests in d:\\programdata\\anaconda3\\lib\\site-packages (from pytrends->gtab) (2.24.0)\n",
      "Requirement already satisfied: lxml in d:\\programdata\\anaconda3\\lib\\site-packages (from pytrends->gtab) (4.5.2)\n",
      "Requirement already satisfied: decorator>=4.3.0 in d:\\programdata\\anaconda3\\lib\\site-packages (from networkx->gtab) (4.4.2)\n",
      "Requirement already satisfied: six>=1.5 in d:\\programdata\\anaconda3\\lib\\site-packages (from python-dateutil>=2.7.3->pandas->gtab) (1.15.0)\n",
      "Requirement already satisfied: chardet<4,>=3.0.2 in d:\\programdata\\anaconda3\\lib\\site-packages (from requests->pytrends->gtab) (3.0.4)\n",
      "Requirement already satisfied: idna<3,>=2.5 in d:\\programdata\\anaconda3\\lib\\site-packages (from requests->pytrends->gtab) (2.10)\n",
      "Requirement already satisfied: certifi>=2017.4.17 in d:\\programdata\\anaconda3\\lib\\site-packages (from requests->pytrends->gtab) (2020.6.20)\n",
      "Requirement already satisfied: urllib3!=1.25.0,!=1.25.1,<1.26,>=1.21.1 in d:\\programdata\\anaconda3\\lib\\site-packages (from requests->pytrends->gtab) (1.25.10)\n"
     ]
    }
   ],
   "source": [
    "!pip install gtab\n",
    "import gtab\n",
    "import matplotlib.pyplot as plt\n",
    "import pandas as pd\n",
    "import numpy as np\n",
    "\n"
   ]
  },
  {
   "cell_type": "code",
   "execution_count": null,
   "metadata": {},
   "outputs": [],
   "source": [
    "# Create directory for gtab data\n",
    "my_path = \"gtab_data\"\n",
    "t = gtab.GTAB(dir_path=my_path)"
   ]
  },
  {
   "cell_type": "code",
   "execution_count": 2,
   "metadata": {},
   "outputs": [],
   "source": [
    "#TODO: should we include until present time for an extended analysis?\n",
    "# Create time frame corresponding to the paper study\n",
    "start_timeframe = \"2012-01-01\"\n",
    "end_timeframe   = \"2014-08-31\" #TODO: si cest borne inclu (ca a l'air detre le cas) sinon =>\"2014-09-01\"\n",
    "timeframe = start_timeframe + \" \" + end_timeframe\n",
    "\n",
    "# We choose the worldwide geolocalisation to mimic wikipedia\n",
    "worldwide = \"\""
   ]
  },
  {
   "cell_type": "code",
   "execution_count": 3,
   "metadata": {},
   "outputs": [
    {
     "name": "stdout",
     "output_type": "stream",
     "text": [
      "Existing GTABs:\n",
      "\tgoogle_anchorbank_geo=IT_timeframe=2019-01-01 2020-08-01.tsv\n",
      "\tgoogle_anchorbank_geo=_timeframe=2019-01-01 2020-08-01.tsv\n",
      "Active anchorbank: google_anchorbank_geo=_timeframe=2019-01-01 2020-08-01.tsv\n"
     ]
    }
   ],
   "source": [
    "# List all existing anchorbanks\n",
    "t.list_gtabs()"
   ]
  },
  {
   "cell_type": "markdown",
   "metadata": {},
   "source": [
    "**As you can see the anchorbank which we require does not exist yet. Therefore we will create it!**"
   ]
  },
  {
   "cell_type": "code",
   "execution_count": 4,
   "metadata": {},
   "outputs": [],
   "source": [
    "t.set_options(pytrends_config={\"geo\": worldwide, \"timeframe\": timeframe})"
   ]
  },
  {
   "cell_type": "code",
   "execution_count": 6,
   "metadata": {},
   "outputs": [
    {
     "name": "stderr",
     "output_type": "stream",
     "text": [
      "\r",
      "  0%|                                                                                          | 0/568 [00:00<?, ?it/s]"
     ]
    },
    {
     "name": "stdout",
     "output_type": "stream",
     "text": [
      "Start AnchorBank init for region  in timeframe 2012-01-01 2014-08-31...\n",
      "Sampling keywords...\n"
     ]
    },
    {
     "name": "stderr",
     "output_type": "stream",
     "text": [
      " 10%|███████▊                                                                         | 55/568 [01:41<13:02,  1.52s/it]"
     ]
    },
    {
     "name": "stdout",
     "output_type": "stream",
     "text": [
      "\n",
      "Bad keyword '/m/0fjfh', because The request failed: Google returned a response with code 400.\n"
     ]
    },
    {
     "name": "stderr",
     "output_type": "stream",
     "text": [
      " 10%|████████▍                                                                        | 59/568 [01:47<13:12,  1.56s/it]"
     ]
    },
    {
     "name": "stdout",
     "output_type": "stream",
     "text": [
      "\n",
      "Bad keyword '/m/013v0m', because The request failed: Google returned a response with code 400.\n"
     ]
    },
    {
     "name": "stderr",
     "output_type": "stream",
     "text": [
      " 13%|██████████▌                                                                      | 74/568 [02:15<12:57,  1.57s/it]"
     ]
    },
    {
     "name": "stdout",
     "output_type": "stream",
     "text": [
      "\n",
      "Bad keyword '/m/02nm6c', because The request failed: Google returned a response with code 400.\n"
     ]
    },
    {
     "name": "stderr",
     "output_type": "stream",
     "text": [
      " 14%|██████████▉                                                                      | 77/568 [02:19<12:42,  1.55s/it]"
     ]
    },
    {
     "name": "stdout",
     "output_type": "stream",
     "text": [
      "\n",
      "Bad keyword '/m/084cz', because The request failed: Google returned a response with code 400.\n"
     ]
    },
    {
     "name": "stderr",
     "output_type": "stream",
     "text": [
      " 26%|█████████████████████▏                                                          | 150/568 [04:41<12:48,  1.84s/it]"
     ]
    },
    {
     "name": "stdout",
     "output_type": "stream",
     "text": [
      "\n",
      "Bad keyword '/m/0k0mp', because The request failed: Google returned a response with code 400.\n"
     ]
    },
    {
     "name": "stderr",
     "output_type": "stream",
     "text": [
      " 27%|█████████████████████▍                                                          | 152/568 [04:43<10:42,  1.55s/it]"
     ]
    },
    {
     "name": "stdout",
     "output_type": "stream",
     "text": [
      "\n",
      "Bad keyword '/m/01bp2v', because The request failed: Google returned a response with code 400.\n"
     ]
    },
    {
     "name": "stderr",
     "output_type": "stream",
     "text": [
      " 44%|███████████████████████████████████▍                                            | 252/568 [08:13<08:48,  1.67s/it]"
     ]
    },
    {
     "name": "stdout",
     "output_type": "stream",
     "text": [
      "\n",
      "Bad keyword '/m/06n9fv', because The request failed: Google returned a response with code 400.\n"
     ]
    },
    {
     "name": "stderr",
     "output_type": "stream",
     "text": [
      " 45%|████████████████████████████████████▏                                           | 257/568 [08:21<08:31,  1.64s/it]"
     ]
    },
    {
     "name": "stdout",
     "output_type": "stream",
     "text": [
      "\n",
      "Bad keyword '/m/04qgp', because The request failed: Google returned a response with code 400.\n"
     ]
    },
    {
     "name": "stderr",
     "output_type": "stream",
     "text": [
      " 54%|███████████████████████████████████████████                                     | 306/568 [10:01<07:28,  1.71s/it]"
     ]
    },
    {
     "name": "stdout",
     "output_type": "stream",
     "text": [
      "\n",
      "Bad keyword '/m/04fzqn3', because The request failed: Google returned a response with code 400.\n"
     ]
    },
    {
     "name": "stderr",
     "output_type": "stream",
     "text": [
      " 57%|█████████████████████████████████████████████▊                                  | 325/568 [10:39<06:28,  1.60s/it]"
     ]
    },
    {
     "name": "stdout",
     "output_type": "stream",
     "text": [
      "\n",
      "Bad keyword '/m/0dfxdrn', because The request failed: Google returned a response with code 400.\n"
     ]
    },
    {
     "name": "stderr",
     "output_type": "stream",
     "text": [
      " 61%|████████████████████████████████████████████████▌                               | 345/568 [11:18<06:31,  1.75s/it]"
     ]
    },
    {
     "name": "stdout",
     "output_type": "stream",
     "text": [
      "\n",
      "Bad keyword '/m/05hxz3p', because The request failed: Google returned a response with code 400.\n"
     ]
    },
    {
     "name": "stderr",
     "output_type": "stream",
     "text": [
      " 61%|████████████████████████████████████████████████▊                               | 347/568 [11:22<06:12,  1.68s/it]"
     ]
    },
    {
     "name": "stdout",
     "output_type": "stream",
     "text": [
      "\n",
      "Bad keyword '/m/09nn_9', because The request failed: Google returned a response with code 400.\n"
     ]
    },
    {
     "name": "stderr",
     "output_type": "stream",
     "text": [
      " 64%|███████████████████████████████████████████████████▍                            | 365/568 [12:01<06:30,  1.92s/it]"
     ]
    },
    {
     "name": "stdout",
     "output_type": "stream",
     "text": [
      "\n",
      "Bad keyword '/m/05n1l9l', because The request failed: Google returned a response with code 400.\n"
     ]
    },
    {
     "name": "stderr",
     "output_type": "stream",
     "text": [
      " 70%|███████████████████████████████████████████████████████▉                        | 397/568 [13:07<05:19,  1.87s/it]"
     ]
    },
    {
     "name": "stdout",
     "output_type": "stream",
     "text": [
      "\n",
      "Bad keyword '/m/02q64zt', because The request failed: Google returned a response with code 400.\n"
     ]
    },
    {
     "name": "stderr",
     "output_type": "stream",
     "text": [
      " 71%|█████████████████████████████████████████████████████████▏                      | 406/568 [13:25<05:10,  1.92s/it]"
     ]
    },
    {
     "name": "stdout",
     "output_type": "stream",
     "text": [
      "\n",
      "Bad keyword '/m/04rc3w', because The request failed: Google returned a response with code 400.\n"
     ]
    },
    {
     "name": "stderr",
     "output_type": "stream",
     "text": [
      " 73%|██████████████████████████████████████████████████████████                      | 412/568 [13:37<04:28,  1.72s/it]"
     ]
    },
    {
     "name": "stdout",
     "output_type": "stream",
     "text": [
      "\n",
      "Bad keyword '/m/05lv45q', because The request failed: Google returned a response with code 400.\n"
     ]
    },
    {
     "name": "stderr",
     "output_type": "stream",
     "text": [
      " 75%|████████████████████████████████████████████████████████████▏                   | 427/568 [14:07<04:11,  1.78s/it]"
     ]
    },
    {
     "name": "stdout",
     "output_type": "stream",
     "text": [
      "\n",
      "Bad keyword '/m/09j5n2', because The request failed: Google returned a response with code 400.\n"
     ]
    },
    {
     "name": "stderr",
     "output_type": "stream",
     "text": [
      " 79%|██████████████████████████████████████████████████████████████▉                 | 447/568 [14:47<03:34,  1.77s/it]"
     ]
    },
    {
     "name": "stdout",
     "output_type": "stream",
     "text": [
      "\n",
      "Bad keyword '/m/0gl3_vx', because The request failed: Google returned a response with code 400.\n"
     ]
    },
    {
     "name": "stderr",
     "output_type": "stream",
     "text": [
      " 80%|████████████████████████████████████████████████████████████████▏               | 456/568 [15:05<03:17,  1.77s/it]"
     ]
    },
    {
     "name": "stdout",
     "output_type": "stream",
     "text": [
      "\n",
      "Bad keyword '/m/06b_y2', because The request failed: Google returned a response with code 400.\n"
     ]
    },
    {
     "name": "stderr",
     "output_type": "stream",
     "text": [
      " 83%|██████████████████████████████████████████████████████████████████▌             | 473/568 [15:41<03:02,  1.92s/it]"
     ]
    },
    {
     "name": "stdout",
     "output_type": "stream",
     "text": [
      "\n",
      "Bad keyword '/m/04y5kpr', because The request failed: Google returned a response with code 400.\n"
     ]
    },
    {
     "name": "stderr",
     "output_type": "stream",
     "text": [
      " 86%|█████████████████████████████████████████████████████████████████████           | 490/568 [16:19<02:35,  1.99s/it]"
     ]
    },
    {
     "name": "stdout",
     "output_type": "stream",
     "text": [
      "\n",
      "Bad keyword '/m/05n4pk1', because The request failed: Google returned a response with code 400.\n"
     ]
    },
    {
     "name": "stderr",
     "output_type": "stream",
     "text": [
      " 89%|██████████████████████████████████████████████████████████████████████▊         | 503/568 [16:45<02:02,  1.88s/it]"
     ]
    },
    {
     "name": "stdout",
     "output_type": "stream",
     "text": [
      "\n",
      "Bad keyword '/m/02pxh01', because The request failed: Google returned a response with code 400.\n"
     ]
    },
    {
     "name": "stderr",
     "output_type": "stream",
     "text": [
      "\r",
      " 89%|██████████████████████████████████████████████████████████████████████▉         | 504/568 [16:46<01:45,  1.64s/it]"
     ]
    },
    {
     "name": "stdout",
     "output_type": "stream",
     "text": [
      "\n",
      "Bad keyword '/m/04bdjb', because The request failed: Google returned a response with code 400.\n"
     ]
    },
    {
     "name": "stderr",
     "output_type": "stream",
     "text": [
      " 89%|███████████████████████████████████████████████████████████████████████▌        | 508/568 [16:55<01:53,  1.90s/it]"
     ]
    },
    {
     "name": "stdout",
     "output_type": "stream",
     "text": [
      "\n",
      "Bad keyword '/m/03ct2_8', because The request failed: Google returned a response with code 400.\n"
     ]
    },
    {
     "name": "stderr",
     "output_type": "stream",
     "text": [
      "\r",
      " 90%|███████████████████████████████████████████████████████████████████████▋        | 509/568 [16:56<01:37,  1.65s/it]"
     ]
    },
    {
     "name": "stdout",
     "output_type": "stream",
     "text": [
      "\n",
      "Bad keyword '/m/083tpm', because The request failed: Google returned a response with code 400.\n"
     ]
    },
    {
     "name": "stderr",
     "output_type": "stream",
     "text": [
      " 91%|████████████████████████████████████████████████████████████████████████▉       | 518/568 [17:17<01:38,  1.98s/it]"
     ]
    },
    {
     "name": "stdout",
     "output_type": "stream",
     "text": [
      "\n",
      "Bad keyword '/m/05n9bv7', because The request failed: Google returned a response with code 400.\n"
     ]
    },
    {
     "name": "stderr",
     "output_type": "stream",
     "text": [
      " 93%|██████████████████████████████████████████████████████████████████████████▏     | 527/568 [17:35<01:15,  1.83s/it]"
     ]
    },
    {
     "name": "stdout",
     "output_type": "stream",
     "text": [
      "\n",
      "Bad keyword '/m/05n7n62', because The request failed: Google returned a response with code 400.\n"
     ]
    },
    {
     "name": "stderr",
     "output_type": "stream",
     "text": [
      " 93%|██████████████████████████████████████████████████████████████████████████▊     | 531/568 [17:43<01:03,  1.71s/it]"
     ]
    },
    {
     "name": "stdout",
     "output_type": "stream",
     "text": [
      "\n",
      "Bad keyword '/m/05n6lws', because The request failed: Google returned a response with code 400.\n"
     ]
    },
    {
     "name": "stderr",
     "output_type": "stream",
     "text": [
      " 95%|███████████████████████████████████████████████████████████████████████████▋    | 537/568 [17:53<00:49,  1.61s/it]"
     ]
    },
    {
     "name": "stdout",
     "output_type": "stream",
     "text": [
      "\n",
      "Bad keyword '/m/07b2rg', because The request failed: Google returned a response with code 400.\n"
     ]
    },
    {
     "name": "stderr",
     "output_type": "stream",
     "text": [
      " 95%|████████████████████████████████████████████████████████████████████████████▏   | 541/568 [18:01<00:47,  1.75s/it]"
     ]
    },
    {
     "name": "stdout",
     "output_type": "stream",
     "text": [
      "\n",
      "Bad keyword '/m/0bq4bp', because The request failed: Google returned a response with code 400.\n"
     ]
    },
    {
     "name": "stderr",
     "output_type": "stream",
     "text": [
      " 96%|█████████████████████████████████████████████████████████████████████████████▏  | 548/568 [18:15<00:34,  1.74s/it]"
     ]
    },
    {
     "name": "stdout",
     "output_type": "stream",
     "text": [
      "\n",
      "Bad keyword '/m/0dfxdcv', because The request failed: Google returned a response with code 400.\n"
     ]
    },
    {
     "name": "stderr",
     "output_type": "stream",
     "text": [
      " 97%|█████████████████████████████████████████████████████████████████████████████▍  | 550/568 [18:18<00:29,  1.65s/it]"
     ]
    },
    {
     "name": "stdout",
     "output_type": "stream",
     "text": [
      "\n",
      "Bad keyword '/m/04f182w', because The request failed: Google returned a response with code 400.\n"
     ]
    },
    {
     "name": "stderr",
     "output_type": "stream",
     "text": [
      "\r",
      " 97%|█████████████████████████████████████████████████████████████████████████████▌  | 551/568 [18:19<00:25,  1.48s/it]"
     ]
    },
    {
     "name": "stdout",
     "output_type": "stream",
     "text": [
      "\n",
      "Bad keyword '/m/05n2v4t', because The request failed: Google returned a response with code 400.\n"
     ]
    },
    {
     "name": "stderr",
     "output_type": "stream",
     "text": [
      " 97%|█████████████████████████████████████████████████████████████████████████████▉  | 553/568 [18:23<00:23,  1.54s/it]"
     ]
    },
    {
     "name": "stdout",
     "output_type": "stream",
     "text": [
      "\n",
      "Bad keyword '/m/05v67qk', because The request failed: Google returned a response with code 400.\n"
     ]
    },
    {
     "name": "stderr",
     "output_type": "stream",
     "text": [
      " 98%|██████████████████████████████████████████████████████████████████████████████▍ | 557/568 [18:31<00:19,  1.74s/it]"
     ]
    },
    {
     "name": "stdout",
     "output_type": "stream",
     "text": [
      "\n",
      "Bad keyword '/m/05n8041', because The request failed: Google returned a response with code 400.\n"
     ]
    },
    {
     "name": "stderr",
     "output_type": "stream",
     "text": [
      " 99%|███████████████████████████████████████████████████████████████████████████████ | 561/568 [18:39<00:12,  1.78s/it]"
     ]
    },
    {
     "name": "stdout",
     "output_type": "stream",
     "text": [
      "\n",
      "Bad keyword '/m/0c0ff8', because The request failed: Google returned a response with code 400.\n"
     ]
    },
    {
     "name": "stderr",
     "output_type": "stream",
     "text": [
      " 99%|███████████████████████████████████████████████████████████████████████████████▍| 564/568 [18:44<00:06,  1.74s/it]"
     ]
    },
    {
     "name": "stdout",
     "output_type": "stream",
     "text": [
      "\n",
      "Bad keyword '/m/0c_lmc1', because The request failed: Google returned a response with code 400.\n"
     ]
    },
    {
     "name": "stderr",
     "output_type": "stream",
     "text": [
      "\r",
      " 99%|███████████████████████████████████████████████████████████████████████████████▌| 565/568 [18:45<00:04,  1.56s/it]"
     ]
    },
    {
     "name": "stdout",
     "output_type": "stream",
     "text": [
      "\n",
      "Bad keyword '/m/05n35c8', because The request failed: Google returned a response with code 400.\n"
     ]
    },
    {
     "name": "stderr",
     "output_type": "stream",
     "text": [
      "100%|████████████████████████████████████████████████████████████████████████████████| 568/568 [18:51<00:00,  1.99s/it]\n",
      "  0%|                                                                                          | 0/525 [00:00<?, ?it/s]"
     ]
    },
    {
     "name": "stdout",
     "output_type": "stream",
     "text": [
      "Querying google...\n"
     ]
    },
    {
     "name": "stderr",
     "output_type": "stream",
     "text": [
      "100%|████████████████████████████████████████████████████████████████████████████████| 525/525 [07:44<00:00,  1.13it/s]\n"
     ]
    },
    {
     "name": "stdout",
     "output_type": "stream",
     "text": [
      "Removing bad queries...\n"
     ]
    },
    {
     "name": "stderr",
     "output_type": "stream",
     "text": [
      "\r",
      "  0%|                                                                                            | 0/4 [00:00<?, ?it/s]"
     ]
    },
    {
     "name": "stdout",
     "output_type": "stream",
     "text": [
      "Total bad: 97\n"
     ]
    },
    {
     "name": "stderr",
     "output_type": "stream",
     "text": [
      "100%|████████████████████████████████████████████████████████████████████████████████████| 4/4 [00:03<00:00,  1.20it/s]\n",
      "100%|████████████████████████████████████████████████████████████████████████████████████| 4/4 [00:03<00:00,  1.17it/s]\n",
      "100%|████████████████████████████████████████████████████████████████████████████████████| 8/8 [00:06<00:00,  1.15it/s]\n",
      "100%|████████████████████████████████████████████████████████████████████████████████████| 4/4 [00:03<00:00,  1.11it/s]\n",
      "100%|████████████████████████████████████████████████████████████████████████████████████| 5/5 [00:04<00:00,  1.20it/s]\n",
      "100%|████████████████████████████████████████████████████████████████████████████████████| 5/5 [00:04<00:00,  1.12it/s]\n",
      "100%|████████████████████████████████████████████████████████████████████████████████████| 4/4 [00:03<00:00,  1.11it/s]\n",
      "100%|████████████████████████████████████████████████████████████████████████████████████| 4/4 [00:03<00:00,  1.18it/s]\n",
      "100%|████████████████████████████████████████████████████████████████████████████████████| 4/4 [00:03<00:00,  1.14it/s]\n",
      "100%|████████████████████████████████████████████████████████████████████████████████████| 6/6 [00:05<00:00,  1.13it/s]\n",
      "100%|████████████████████████████████████████████████████████████████████████████████████| 5/5 [00:04<00:00,  1.20it/s]\n",
      "100%|████████████████████████████████████████████████████████████████████████████████████| 7/7 [00:05<00:00,  1.18it/s]\n",
      "100%|████████████████████████████████████████████████████████████████████████████████████| 4/4 [00:03<00:00,  1.18it/s]\n",
      "100%|██████████████████████████████████████████████████████████████████████████████████| 15/15 [00:13<00:00,  1.12it/s]\n",
      "100%|████████████████████████████████████████████████████████████████████████████████████| 4/4 [00:03<00:00,  1.06it/s]\n",
      "100%|████████████████████████████████████████████████████████████████████████████████████| 4/4 [00:03<00:00,  1.18it/s]\n",
      "100%|████████████████████████████████████████████████████████████████████████████████████| 4/4 [00:03<00:00,  1.06it/s]\n",
      "100%|████████████████████████████████████████████████████████████████████████████████████| 9/9 [00:07<00:00,  1.15it/s]\n",
      "100%|████████████████████████████████████████████████████████████████████████████████████| 4/4 [00:03<00:00,  1.20it/s]\n",
      "100%|████████████████████████████████████████████████████████████████████████████████████| 4/4 [00:03<00:00,  1.15it/s]\n",
      "100%|████████████████████████████████████████████████████████████████████████████████████| 6/6 [00:05<00:00,  1.16it/s]\n",
      "100%|████████████████████████████████████████████████████████████████████████████████████| 4/4 [00:03<00:00,  1.05it/s]\n",
      "100%|████████████████████████████████████████████████████████████████████████████████████| 4/4 [00:03<00:00,  1.11it/s]\n",
      "100%|████████████████████████████████████████████████████████████████████████████████████| 7/7 [00:06<00:00,  1.12it/s]\n",
      "100%|████████████████████████████████████████████████████████████████████████████████████| 9/9 [00:07<00:00,  1.15it/s]\n",
      "100%|████████████████████████████████████████████████████████████████████████████████████| 4/4 [00:03<00:00,  1.15it/s]\n",
      "100%|████████████████████████████████████████████████████████████████████████████████████| 5/5 [00:04<00:00,  1.13it/s]\n",
      "100%|██████████████████████████████████████████████████████████████████████████████████| 10/10 [00:08<00:00,  1.12it/s]\n",
      "100%|████████████████████████████████████████████████████████████████████████████████████| 6/6 [00:05<00:00,  1.14it/s]\n",
      "100%|████████████████████████████████████████████████████████████████████████████████████| 6/6 [00:05<00:00,  1.17it/s]\n",
      "100%|████████████████████████████████████████████████████████████████████████████████████| 4/4 [00:03<00:00,  1.15it/s]\n",
      "100%|████████████████████████████████████████████████████████████████████████████████████| 4/4 [00:03<00:00,  1.19it/s]\n",
      "100%|████████████████████████████████████████████████████████████████████████████████████| 4/4 [00:03<00:00,  1.10it/s]\n",
      "100%|████████████████████████████████████████████████████████████████████████████████████| 4/4 [00:03<00:00,  1.09it/s]\n",
      "100%|████████████████████████████████████████████████████████████████████████████████████| 6/6 [00:05<00:00,  1.08it/s]\n",
      "100%|████████████████████████████████████████████████████████████████████████████████████| 4/4 [00:03<00:00,  1.16it/s]\n",
      "100%|████████████████████████████████████████████████████████████████████████████████████| 4/4 [00:03<00:00,  1.17it/s]\n",
      "100%|████████████████████████████████████████████████████████████████████████████████████| 4/4 [00:03<00:00,  1.14it/s]\n",
      "100%|████████████████████████████████████████████████████████████████████████████████████| 8/8 [00:06<00:00,  1.15it/s]\n",
      "  0%|                                                                                            | 0/4 [00:00<?, ?it/s]"
     ]
    },
    {
     "name": "stdout",
     "output_type": "stream",
     "text": [
      "Total bad: 6\n"
     ]
    },
    {
     "name": "stderr",
     "output_type": "stream",
     "text": [
      "100%|████████████████████████████████████████████████████████████████████████████████████| 4/4 [00:03<00:00,  1.22it/s]\n",
      "100%|████████████████████████████████████████████████████████████████████████████████████| 4/4 [00:03<00:00,  1.11it/s]\n",
      "100%|████████████████████████████████████████████████████████████████████████████████████| 7/7 [00:06<00:00,  1.17it/s]\n",
      "100%|████████████████████████████████████████████████████████████████████████████████████| 4/4 [00:03<00:00,  1.14it/s]\n",
      "100%|████████████████████████████████████████████████████████████████████████████████████| 4/4 [00:03<00:00,  1.21it/s]\n"
     ]
    },
    {
     "name": "stdout",
     "output_type": "stream",
     "text": [
      "Total bad: 0\n",
      "Diagnostics done!\n",
      "A total of 103 bad keywords removed.\n",
      "Saving google results as 'gtab_data\\data\\internal\\google_results\\google_results_geo=_timeframe=2012-01-01 2014-08-31.pkl'...\n",
      "Total queries (groups of 5 keywords): 440\n"
     ]
    },
    {
     "name": "stderr",
     "output_type": "stream",
     "text": [
      "\r",
      "  0%|                                                                                          | 0/442 [00:00<?, ?it/s]"
     ]
    },
    {
     "name": "stdout",
     "output_type": "stream",
     "text": [
      "Finding paths...\n"
     ]
    },
    {
     "name": "stderr",
     "output_type": "stream",
     "text": [
      "100%|████████████████████████████████████████████████████████████████████████████████| 442/442 [01:30<00:00,  4.88it/s]\n"
     ]
    },
    {
     "name": "stdout",
     "output_type": "stream",
     "text": [
      "Paths done!\n",
      "Err: 5.10702591327572e-15\n"
     ]
    },
    {
     "name": "stderr",
     "output_type": "stream",
     "text": [
      "\r",
      "  0%|                                                                                           | 0/13 [00:00<?, ?it/s]"
     ]
    },
    {
     "name": "stdout",
     "output_type": "stream",
     "text": [
      "Querying pairs...\n"
     ]
    },
    {
     "name": "stderr",
     "output_type": "stream",
     "text": [
      "100%|██████████████████████████████████████████████████████████████████████████████████| 13/13 [00:10<00:00,  1.20it/s]"
     ]
    },
    {
     "name": "stdout",
     "output_type": "stream",
     "text": [
      "Total range: 1.5705319238665063e-06\n",
      "Saving anchorbank as 'gtab_data\\output\\google_anchorbanks\\google_anchorbank_geo=_timeframe=2012-01-01 2014-08-31.tsv'...\n",
      "AnchorBank init done.\n"
     ]
    },
    {
     "name": "stderr",
     "output_type": "stream",
     "text": [
      "\n"
     ]
    }
   ],
   "source": [
    "#t.create_anchorbank() # takes a while to run since it queries Google Trends. # je sais pas si ca rerun et jai pas envie dessayer"
   ]
  },
  {
   "cell_type": "code",
   "execution_count": 7,
   "metadata": {},
   "outputs": [
    {
     "name": "stdout",
     "output_type": "stream",
     "text": [
      "Active anchorbank changed to: google_anchorbank_geo=_timeframe=2012-01-01 2014-08-31.tsv\n",
      "\n"
     ]
    }
   ],
   "source": [
    "# We apply the global anchor and paper timeframe to gtab \n",
    "t.set_active_gtab(f\"google_anchorbank_geo={worldwide}_timeframe={timeframe}.tsv\")"
   ]
  },
  {
   "cell_type": "markdown",
   "metadata": {},
   "source": [
    "### Terrorism dataset\n",
    "\n",
    "48 Terrorism related search queries [2012-01-01 -> 2014-08-31]"
   ]
  },
  {
   "cell_type": "code",
   "execution_count": 8,
   "metadata": {},
   "outputs": [
    {
     "data": {
      "text/plain": [
       "48"
      ]
     },
     "execution_count": 8,
     "metadata": {},
     "output_type": "execute_result"
    }
   ],
   "source": [
    "# Create the list of all terrorism search queries\n",
    "#TODO: should we preprocess the queries ie. remove uppercase?\n",
    "terrorism_search_queries = [\"Al-Qaeda\",\n",
    "                          \"terrorism\",\n",
    "                          \"terror\",\n",
    "                          \"attack\",\n",
    "                          \"iraq\",\n",
    "                          \"afghanistan\",\n",
    "                          \"iran\",\n",
    "                          \"Pakistan\",\n",
    "                          \"Agro\",\n",
    "                          \"Environmental Terrorism\",\n",
    "                          \"Eco-Terrorism\",\n",
    "                          \"Conventional Weapon\",\n",
    "                          \"Weapons Grade\",\n",
    "                          \"Dirty Bomb\",\n",
    "                          \"Nuclear Enrichment\",\n",
    "                          \"Nuclear\",\n",
    "                          \"Chemical Weapon\",\n",
    "                          \"Biological Weapon\",\n",
    "                          \"Ammonium nitrate\",\n",
    "                          \"Improvised Explosive Device\",\n",
    "                          \"Abu Sayyaf\",\n",
    "                          \"Hamas\",\n",
    "                          \"FARC\",\n",
    "                          \"Irish Republican Army\",\n",
    "                          \"Euskadi ta Askatasuna \",\n",
    "                          \"Hezbollah\",\n",
    "                          \"Tamil Tigers\",\n",
    "                          \"PLO\",\n",
    "                          \"Palestine Liberation Front\",\n",
    "                          \"Car bomb\",\n",
    "                          \"Jihad\",\n",
    "                          \"Taliban\",\n",
    "                          \"Suicide bomber\",\n",
    "                          \"Suicide attack\",\n",
    "                          \"AL Qaeda in the Arabian Peninsula\",\n",
    "                          \"Al Qaeda in the Islamic Maghreb\",\n",
    "                          \"Tehrik-i-Taliban Pakistan\",\n",
    "                          \"Yemen\",\n",
    "                          \"Pirates\",\n",
    "                          \"Extremism\",\n",
    "                          \"Somalia\",\n",
    "                          \"Nigeria\",\n",
    "                          \"Political radicalism\",\n",
    "                          \"Al-Shabaab\",\n",
    "                          \"Nationalism\",\n",
    "                          \"Recruitment\",\n",
    "                          \"Fundamentalism\",\n",
    "                          \"Islamist\"]\n",
    "len(terrorism_search_queries)"
   ]
  },
  {
   "cell_type": "code",
   "execution_count": 9,
   "metadata": {},
   "outputs": [
    {
     "name": "stdout",
     "output_type": "stream",
     "text": [
      "Using gtab_data\\output\\google_anchorbanks\\google_anchorbank_geo=_timeframe=2012-01-01 2014-08-31.tsv\n",
      "New query 'Al-Qaeda'\n",
      "New query calibrated!\n",
      "Using gtab_data\\output\\google_anchorbanks\\google_anchorbank_geo=_timeframe=2012-01-01 2014-08-31.tsv\n",
      "New query 'terrorism'\n",
      "New query calibrated!\n",
      "Using gtab_data\\output\\google_anchorbanks\\google_anchorbank_geo=_timeframe=2012-01-01 2014-08-31.tsv\n",
      "New query 'terror'\n",
      "New query calibrated!\n",
      "Using gtab_data\\output\\google_anchorbanks\\google_anchorbank_geo=_timeframe=2012-01-01 2014-08-31.tsv\n",
      "New query 'attack'\n",
      "New query calibrated!\n",
      "Using gtab_data\\output\\google_anchorbanks\\google_anchorbank_geo=_timeframe=2012-01-01 2014-08-31.tsv\n",
      "New query 'iraq'\n",
      "New query calibrated!\n",
      "Using gtab_data\\output\\google_anchorbanks\\google_anchorbank_geo=_timeframe=2012-01-01 2014-08-31.tsv\n",
      "New query 'afghanistan'\n",
      "New query calibrated!\n",
      "Using gtab_data\\output\\google_anchorbanks\\google_anchorbank_geo=_timeframe=2012-01-01 2014-08-31.tsv\n",
      "New query 'iran'\n",
      "New query calibrated!\n",
      "Using gtab_data\\output\\google_anchorbanks\\google_anchorbank_geo=_timeframe=2012-01-01 2014-08-31.tsv\n",
      "New query 'Pakistan'\n",
      "New query calibrated!\n",
      "Using gtab_data\\output\\google_anchorbanks\\google_anchorbank_geo=_timeframe=2012-01-01 2014-08-31.tsv\n",
      "New query 'Agro'\n",
      "New query calibrated!\n",
      "Using gtab_data\\output\\google_anchorbanks\\google_anchorbank_geo=_timeframe=2012-01-01 2014-08-31.tsv\n",
      "New query 'Environmental Terrorism'\n",
      "New query calibrated!\n",
      "Using gtab_data\\output\\google_anchorbanks\\google_anchorbank_geo=_timeframe=2012-01-01 2014-08-31.tsv\n",
      "New query 'Eco-Terrorism'\n",
      "New query calibrated!\n",
      "Using gtab_data\\output\\google_anchorbanks\\google_anchorbank_geo=_timeframe=2012-01-01 2014-08-31.tsv\n",
      "New query 'Conventional Weapon'\n",
      "New query calibrated!\n",
      "Using gtab_data\\output\\google_anchorbanks\\google_anchorbank_geo=_timeframe=2012-01-01 2014-08-31.tsv\n",
      "New query 'Weapons Grade'\n",
      "New query calibrated!\n",
      "Using gtab_data\\output\\google_anchorbanks\\google_anchorbank_geo=_timeframe=2012-01-01 2014-08-31.tsv\n",
      "New query 'Dirty Bomb'\n",
      "New query calibrated!\n",
      "Using gtab_data\\output\\google_anchorbanks\\google_anchorbank_geo=_timeframe=2012-01-01 2014-08-31.tsv\n",
      "New query 'Nuclear Enrichment'\n",
      "New query calibrated!\n",
      "Using gtab_data\\output\\google_anchorbanks\\google_anchorbank_geo=_timeframe=2012-01-01 2014-08-31.tsv\n",
      "New query 'Nuclear'\n",
      "New query calibrated!\n",
      "Using gtab_data\\output\\google_anchorbanks\\google_anchorbank_geo=_timeframe=2012-01-01 2014-08-31.tsv\n",
      "New query 'Chemical Weapon'\n",
      "New query calibrated!\n",
      "Using gtab_data\\output\\google_anchorbanks\\google_anchorbank_geo=_timeframe=2012-01-01 2014-08-31.tsv\n",
      "New query 'Biological Weapon'\n",
      "New query calibrated!\n",
      "Using gtab_data\\output\\google_anchorbanks\\google_anchorbank_geo=_timeframe=2012-01-01 2014-08-31.tsv\n",
      "New query 'Ammonium nitrate'\n",
      "New query calibrated!\n",
      "Using gtab_data\\output\\google_anchorbanks\\google_anchorbank_geo=_timeframe=2012-01-01 2014-08-31.tsv\n",
      "New query 'Improvised Explosive Device'\n",
      "New query calibrated!\n",
      "Using gtab_data\\output\\google_anchorbanks\\google_anchorbank_geo=_timeframe=2012-01-01 2014-08-31.tsv\n",
      "New query 'Abu Sayyaf'\n",
      "New query calibrated!\n",
      "Using gtab_data\\output\\google_anchorbanks\\google_anchorbank_geo=_timeframe=2012-01-01 2014-08-31.tsv\n",
      "New query 'Hamas'\n",
      "New query calibrated!\n",
      "Using gtab_data\\output\\google_anchorbanks\\google_anchorbank_geo=_timeframe=2012-01-01 2014-08-31.tsv\n",
      "New query 'FARC'\n",
      "New query calibrated!\n",
      "Using gtab_data\\output\\google_anchorbanks\\google_anchorbank_geo=_timeframe=2012-01-01 2014-08-31.tsv\n",
      "New query 'Irish Republican Army'\n",
      "New query calibrated!\n",
      "Using gtab_data\\output\\google_anchorbanks\\google_anchorbank_geo=_timeframe=2012-01-01 2014-08-31.tsv\n",
      "New query 'Euskadi ta Askatasuna '\n",
      "New query calibrated!\n",
      "Using gtab_data\\output\\google_anchorbanks\\google_anchorbank_geo=_timeframe=2012-01-01 2014-08-31.tsv\n",
      "New query 'Hezbollah'\n",
      "New query calibrated!\n",
      "Using gtab_data\\output\\google_anchorbanks\\google_anchorbank_geo=_timeframe=2012-01-01 2014-08-31.tsv\n",
      "New query 'Tamil Tigers'\n",
      "New query calibrated!\n",
      "Using gtab_data\\output\\google_anchorbanks\\google_anchorbank_geo=_timeframe=2012-01-01 2014-08-31.tsv\n",
      "New query 'PLO'\n",
      "New query calibrated!\n",
      "Using gtab_data\\output\\google_anchorbanks\\google_anchorbank_geo=_timeframe=2012-01-01 2014-08-31.tsv\n",
      "New query 'Palestine Liberation Front'\n",
      "New query calibrated!\n",
      "Using gtab_data\\output\\google_anchorbanks\\google_anchorbank_geo=_timeframe=2012-01-01 2014-08-31.tsv\n",
      "New query 'Car bomb'\n",
      "New query calibrated!\n",
      "Using gtab_data\\output\\google_anchorbanks\\google_anchorbank_geo=_timeframe=2012-01-01 2014-08-31.tsv\n",
      "New query 'Jihad'\n",
      "New query calibrated!\n",
      "Using gtab_data\\output\\google_anchorbanks\\google_anchorbank_geo=_timeframe=2012-01-01 2014-08-31.tsv\n",
      "New query 'Taliban'\n",
      "New query calibrated!\n",
      "Using gtab_data\\output\\google_anchorbanks\\google_anchorbank_geo=_timeframe=2012-01-01 2014-08-31.tsv\n",
      "New query 'Suicide bomber'\n",
      "New query calibrated!\n",
      "Using gtab_data\\output\\google_anchorbanks\\google_anchorbank_geo=_timeframe=2012-01-01 2014-08-31.tsv\n",
      "New query 'Suicide attack'\n",
      "New query calibrated!\n",
      "Using gtab_data\\output\\google_anchorbanks\\google_anchorbank_geo=_timeframe=2012-01-01 2014-08-31.tsv\n",
      "New query 'AL Qaeda in the Arabian Peninsula'\n",
      "New query calibrated!\n",
      "Using gtab_data\\output\\google_anchorbanks\\google_anchorbank_geo=_timeframe=2012-01-01 2014-08-31.tsv\n",
      "New query 'Al Qaeda in the Islamic Maghreb'\n",
      "New query calibrated!\n",
      "Using gtab_data\\output\\google_anchorbanks\\google_anchorbank_geo=_timeframe=2012-01-01 2014-08-31.tsv\n",
      "New query 'Tehrik-i-Taliban Pakistan'\n",
      "New query calibrated!\n",
      "Using gtab_data\\output\\google_anchorbanks\\google_anchorbank_geo=_timeframe=2012-01-01 2014-08-31.tsv\n",
      "New query 'Yemen'\n",
      "New query calibrated!\n",
      "Using gtab_data\\output\\google_anchorbanks\\google_anchorbank_geo=_timeframe=2012-01-01 2014-08-31.tsv\n",
      "New query 'Pirates'\n",
      "New query calibrated!\n",
      "Using gtab_data\\output\\google_anchorbanks\\google_anchorbank_geo=_timeframe=2012-01-01 2014-08-31.tsv\n",
      "New query 'Extremism'\n",
      "New query calibrated!\n",
      "Using gtab_data\\output\\google_anchorbanks\\google_anchorbank_geo=_timeframe=2012-01-01 2014-08-31.tsv\n",
      "New query 'Somalia'\n",
      "New query calibrated!\n",
      "Using gtab_data\\output\\google_anchorbanks\\google_anchorbank_geo=_timeframe=2012-01-01 2014-08-31.tsv\n",
      "New query 'Nigeria'\n",
      "New query calibrated!\n",
      "Using gtab_data\\output\\google_anchorbanks\\google_anchorbank_geo=_timeframe=2012-01-01 2014-08-31.tsv\n",
      "New query 'Political radicalism'\n",
      "New query calibrated!\n",
      "Using gtab_data\\output\\google_anchorbanks\\google_anchorbank_geo=_timeframe=2012-01-01 2014-08-31.tsv\n",
      "New query 'Al-Shabaab'\n",
      "New query calibrated!\n",
      "Using gtab_data\\output\\google_anchorbanks\\google_anchorbank_geo=_timeframe=2012-01-01 2014-08-31.tsv\n",
      "New query 'Nationalism'\n",
      "New query calibrated!\n",
      "Using gtab_data\\output\\google_anchorbanks\\google_anchorbank_geo=_timeframe=2012-01-01 2014-08-31.tsv\n",
      "New query 'Recruitment'\n",
      "New query calibrated!\n",
      "Using gtab_data\\output\\google_anchorbanks\\google_anchorbank_geo=_timeframe=2012-01-01 2014-08-31.tsv\n",
      "New query 'Fundamentalism'\n",
      "\n",
      "Bad keyword 'Fundamentalism', because The request failed: Google returned a response with code 429.\n"
     ]
    },
    {
     "ename": "ConnectionError",
     "evalue": "Code 429: Query limit reached on this IP!",
     "output_type": "error",
     "traceback": [
      "\u001b[1;31m---------------------------------------------------------------------------\u001b[0m",
      "\u001b[1;31mResponseError\u001b[0m                             Traceback (most recent call last)",
      "\u001b[1;32mD:\\ProgramData\\Anaconda3\\lib\\site-packages\\gtab\\core.py\u001b[0m in \u001b[0;36m_check_keyword\u001b[1;34m(self, keyword)\u001b[0m\n\u001b[0;32m    132\u001b[0m         \u001b[1;32mtry\u001b[0m\u001b[1;33m:\u001b[0m\u001b[1;33m\u001b[0m\u001b[1;33m\u001b[0m\u001b[0m\n\u001b[1;32m--> 133\u001b[1;33m             \u001b[0mrez\u001b[0m \u001b[1;33m=\u001b[0m \u001b[0mself\u001b[0m\u001b[1;33m.\u001b[0m\u001b[0m_query_google\u001b[0m\u001b[1;33m(\u001b[0m\u001b[0mkeywords\u001b[0m\u001b[1;33m=\u001b[0m\u001b[0mkeyword\u001b[0m\u001b[1;33m)\u001b[0m\u001b[1;33m\u001b[0m\u001b[1;33m\u001b[0m\u001b[0m\n\u001b[0m\u001b[0;32m    134\u001b[0m             \u001b[1;32mreturn\u001b[0m \u001b[0mself\u001b[0m\u001b[1;33m.\u001b[0m\u001b[0m_is_not_blacklisted\u001b[0m\u001b[1;33m(\u001b[0m\u001b[0mkeyword\u001b[0m\u001b[1;33m)\u001b[0m \u001b[1;32mand\u001b[0m \u001b[1;32mnot\u001b[0m \u001b[0mrez\u001b[0m\u001b[1;33m.\u001b[0m\u001b[0mempty\u001b[0m\u001b[1;33m\u001b[0m\u001b[1;33m\u001b[0m\u001b[0m\n",
      "\u001b[1;32mD:\\ProgramData\\Anaconda3\\lib\\site-packages\\gtab\\core.py\u001b[0m in \u001b[0;36m_query_google\u001b[1;34m(self, keywords)\u001b[0m\n\u001b[0;32m    122\u001b[0m \u001b[1;33m\u001b[0m\u001b[0m\n\u001b[1;32m--> 123\u001b[1;33m         \u001b[0mself\u001b[0m\u001b[1;33m.\u001b[0m\u001b[0mpytrends\u001b[0m\u001b[1;33m.\u001b[0m\u001b[0mbuild_payload\u001b[0m\u001b[1;33m(\u001b[0m\u001b[0mkw_list\u001b[0m\u001b[1;33m=\u001b[0m\u001b[0mkeywords\u001b[0m\u001b[1;33m,\u001b[0m \u001b[1;33m**\u001b[0m\u001b[0mself\u001b[0m\u001b[1;33m.\u001b[0m\u001b[0mCONFIG\u001b[0m\u001b[1;33m[\u001b[0m\u001b[1;34m'PYTRENDS'\u001b[0m\u001b[1;33m]\u001b[0m\u001b[1;33m)\u001b[0m\u001b[1;33m\u001b[0m\u001b[1;33m\u001b[0m\u001b[0m\n\u001b[0m\u001b[0;32m    124\u001b[0m         \u001b[0mret\u001b[0m \u001b[1;33m=\u001b[0m \u001b[0mself\u001b[0m\u001b[1;33m.\u001b[0m\u001b[0mpytrends\u001b[0m\u001b[1;33m.\u001b[0m\u001b[0minterest_over_time\u001b[0m\u001b[1;33m(\u001b[0m\u001b[1;33m)\u001b[0m\u001b[1;33m\u001b[0m\u001b[1;33m\u001b[0m\u001b[0m\n",
      "\u001b[1;32mD:\\ProgramData\\Anaconda3\\lib\\site-packages\\pytrends\\request.py\u001b[0m in \u001b[0;36mbuild_payload\u001b[1;34m(self, kw_list, cat, timeframe, geo, gprop)\u001b[0m\n\u001b[0;32m    168\u001b[0m         \u001b[1;31m# get tokens\u001b[0m\u001b[1;33m\u001b[0m\u001b[1;33m\u001b[0m\u001b[1;33m\u001b[0m\u001b[0m\n\u001b[1;32m--> 169\u001b[1;33m         \u001b[0mself\u001b[0m\u001b[1;33m.\u001b[0m\u001b[0m_tokens\u001b[0m\u001b[1;33m(\u001b[0m\u001b[1;33m)\u001b[0m\u001b[1;33m\u001b[0m\u001b[1;33m\u001b[0m\u001b[0m\n\u001b[0m\u001b[0;32m    170\u001b[0m         \u001b[1;32mreturn\u001b[0m\u001b[1;33m\u001b[0m\u001b[1;33m\u001b[0m\u001b[0m\n",
      "\u001b[1;32mD:\\ProgramData\\Anaconda3\\lib\\site-packages\\pytrends\\request.py\u001b[0m in \u001b[0;36m_tokens\u001b[1;34m(self)\u001b[0m\n\u001b[0;32m    174\u001b[0m         \u001b[1;31m# make the request and parse the returned json\u001b[0m\u001b[1;33m\u001b[0m\u001b[1;33m\u001b[0m\u001b[1;33m\u001b[0m\u001b[0m\n\u001b[1;32m--> 175\u001b[1;33m         widget_dict = self._get_data(\n\u001b[0m\u001b[0;32m    176\u001b[0m             \u001b[0murl\u001b[0m\u001b[1;33m=\u001b[0m\u001b[0mTrendReq\u001b[0m\u001b[1;33m.\u001b[0m\u001b[0mGENERAL_URL\u001b[0m\u001b[1;33m,\u001b[0m\u001b[1;33m\u001b[0m\u001b[1;33m\u001b[0m\u001b[0m\n",
      "\u001b[1;32mD:\\ProgramData\\Anaconda3\\lib\\site-packages\\pytrends\\request.py\u001b[0m in \u001b[0;36m_get_data\u001b[1;34m(self, url, method, trim_chars, **kwargs)\u001b[0m\n\u001b[0;32m    144\u001b[0m             \u001b[1;31m# error\u001b[0m\u001b[1;33m\u001b[0m\u001b[1;33m\u001b[0m\u001b[1;33m\u001b[0m\u001b[0m\n\u001b[1;32m--> 145\u001b[1;33m             raise exceptions.ResponseError(\n\u001b[0m\u001b[0;32m    146\u001b[0m                 \u001b[1;34m'The request failed: Google returned a '\u001b[0m\u001b[1;33m\u001b[0m\u001b[1;33m\u001b[0m\u001b[0m\n",
      "\u001b[1;31mResponseError\u001b[0m: The request failed: Google returned a response with code 429.",
      "\nDuring handling of the above exception, another exception occurred:\n",
      "\u001b[1;31mConnectionError\u001b[0m                           Traceback (most recent call last)",
      "\u001b[1;32m<ipython-input-9-862e3ad5ade3>\u001b[0m in \u001b[0;36m<module>\u001b[1;34m\u001b[0m\n\u001b[0;32m      1\u001b[0m \u001b[1;31m# For each terrorism related search query create the corresponding interest over time google trends data\u001b[0m\u001b[1;33m\u001b[0m\u001b[1;33m\u001b[0m\u001b[1;33m\u001b[0m\u001b[0m\n\u001b[1;32m----> 2\u001b[1;33m \u001b[0mall_interest_over_time_dbs\u001b[0m \u001b[1;33m=\u001b[0m \u001b[1;33m[\u001b[0m\u001b[0mt\u001b[0m\u001b[1;33m.\u001b[0m\u001b[0mnew_query\u001b[0m\u001b[1;33m(\u001b[0m\u001b[0msearch_query\u001b[0m\u001b[1;33m)\u001b[0m \u001b[1;32mfor\u001b[0m \u001b[0msearch_query\u001b[0m \u001b[1;32min\u001b[0m \u001b[0mterrorism_search_queries\u001b[0m\u001b[1;33m]\u001b[0m\u001b[1;33m\u001b[0m\u001b[1;33m\u001b[0m\u001b[0m\n\u001b[0m",
      "\u001b[1;32m<ipython-input-9-862e3ad5ade3>\u001b[0m in \u001b[0;36m<listcomp>\u001b[1;34m(.0)\u001b[0m\n\u001b[0;32m      1\u001b[0m \u001b[1;31m# For each terrorism related search query create the corresponding interest over time google trends data\u001b[0m\u001b[1;33m\u001b[0m\u001b[1;33m\u001b[0m\u001b[1;33m\u001b[0m\u001b[0m\n\u001b[1;32m----> 2\u001b[1;33m \u001b[0mall_interest_over_time_dbs\u001b[0m \u001b[1;33m=\u001b[0m \u001b[1;33m[\u001b[0m\u001b[0mt\u001b[0m\u001b[1;33m.\u001b[0m\u001b[0mnew_query\u001b[0m\u001b[1;33m(\u001b[0m\u001b[0msearch_query\u001b[0m\u001b[1;33m)\u001b[0m \u001b[1;32mfor\u001b[0m \u001b[0msearch_query\u001b[0m \u001b[1;32min\u001b[0m \u001b[0mterrorism_search_queries\u001b[0m\u001b[1;33m]\u001b[0m\u001b[1;33m\u001b[0m\u001b[1;33m\u001b[0m\u001b[0m\n\u001b[0m",
      "\u001b[1;32mD:\\ProgramData\\Anaconda3\\lib\\site-packages\\gtab\\core.py\u001b[0m in \u001b[0;36mnew_query\u001b[1;34m(self, query, first_comparison, thresh, verbose, complete)\u001b[0m\n\u001b[0;32m    895\u001b[0m             \u001b[1;32mreturn\u001b[0m \u001b[1;33m-\u001b[0m\u001b[1;36m2\u001b[0m\u001b[1;33m\u001b[0m\u001b[1;33m\u001b[0m\u001b[0m\n\u001b[0;32m    896\u001b[0m \u001b[1;33m\u001b[0m\u001b[0m\n\u001b[1;32m--> 897\u001b[1;33m         \u001b[1;32mif\u001b[0m \u001b[1;32mnot\u001b[0m \u001b[0mself\u001b[0m\u001b[1;33m.\u001b[0m\u001b[0m_check_keyword\u001b[0m\u001b[1;33m(\u001b[0m\u001b[0mquery\u001b[0m\u001b[1;33m)\u001b[0m\u001b[1;33m:\u001b[0m\u001b[1;33m\u001b[0m\u001b[1;33m\u001b[0m\u001b[0m\n\u001b[0m\u001b[0;32m    898\u001b[0m             \u001b[0mself\u001b[0m\u001b[1;33m.\u001b[0m\u001b[0m_print_and_log\u001b[0m\u001b[1;33m(\u001b[0m\u001b[1;34mf\"Keyword {query} is bad!\"\u001b[0m\u001b[1;33m)\u001b[0m\u001b[1;33m\u001b[0m\u001b[1;33m\u001b[0m\u001b[0m\n\u001b[0;32m    899\u001b[0m             \u001b[1;32mreturn\u001b[0m \u001b[1;33m-\u001b[0m\u001b[1;36m1\u001b[0m\u001b[1;33m\u001b[0m\u001b[1;33m\u001b[0m\u001b[0m\n",
      "\u001b[1;32mD:\\ProgramData\\Anaconda3\\lib\\site-packages\\gtab\\core.py\u001b[0m in \u001b[0;36m_check_keyword\u001b[1;34m(self, keyword)\u001b[0m\n\u001b[0;32m    139\u001b[0m             \u001b[1;32mif\u001b[0m \u001b[1;34m\"response\"\u001b[0m \u001b[1;32min\u001b[0m \u001b[0mdir\u001b[0m\u001b[1;33m(\u001b[0m\u001b[0me\u001b[0m\u001b[1;33m)\u001b[0m\u001b[1;33m:\u001b[0m\u001b[1;33m\u001b[0m\u001b[1;33m\u001b[0m\u001b[0m\n\u001b[0;32m    140\u001b[0m                 \u001b[1;32mif\u001b[0m \u001b[0me\u001b[0m\u001b[1;33m.\u001b[0m\u001b[0mresponse\u001b[0m\u001b[1;33m.\u001b[0m\u001b[0mstatus_code\u001b[0m \u001b[1;33m==\u001b[0m \u001b[1;36m429\u001b[0m\u001b[1;33m:\u001b[0m\u001b[1;33m\u001b[0m\u001b[1;33m\u001b[0m\u001b[0m\n\u001b[1;32m--> 141\u001b[1;33m                     \u001b[1;32mraise\u001b[0m \u001b[0mConnectionError\u001b[0m\u001b[1;33m(\u001b[0m\u001b[1;34m\"Code 429: Query limit reached on this IP!\"\u001b[0m\u001b[1;33m)\u001b[0m\u001b[1;33m\u001b[0m\u001b[1;33m\u001b[0m\u001b[0m\n\u001b[0m\u001b[0;32m    142\u001b[0m \u001b[1;33m\u001b[0m\u001b[0m\n\u001b[0;32m    143\u001b[0m             \u001b[1;32mreturn\u001b[0m \u001b[1;32mFalse\u001b[0m\u001b[1;33m\u001b[0m\u001b[1;33m\u001b[0m\u001b[0m\n",
      "\u001b[1;31mConnectionError\u001b[0m: Code 429: Query limit reached on this IP!"
     ]
    }
   ],
   "source": [
    "# For each terrorism related search query create the corresponding interest over time google trends data\n",
    "all_interest_over_time_dbs = [t.new_query(search_query) for search_query in terrorism_search_queries]"
   ]
  },
  {
   "cell_type": "markdown",
   "metadata": {},
   "source": [
    "### Domestic dataset\n",
    "\n",
    "25 Domestic related search queries [2012-01-01 -> 2014-08-31]"
   ]
  },
  {
   "cell_type": "code",
   "execution_count": 11,
   "metadata": {},
   "outputs": [
    {
     "data": {
      "text/plain": [
       "25"
      ]
     },
     "execution_count": 11,
     "metadata": {},
     "output_type": "execute_result"
    }
   ],
   "source": [
    "# Create the list of all terrorism search queries\n",
    "#TODO: should we preprocess the queries ie. remove uppercase?\n",
    "domestic_search_queries = [\"Department of Homeland Security\",\n",
    "                          \"Federal Emergency Management Agency\",\n",
    "                          \"Coast Guard\",\n",
    "                          \"Customs and Border Protection \",\n",
    "                          \"Border patrol\",\n",
    "                          \"Secret Service\",\n",
    "                          \"Bureau of Land Management\",\n",
    "                          \"Homeland defense\",\n",
    "                          \"Agent/Espionage\", #TODO: On le separe?\n",
    "                          \"Task Force 88\",\n",
    "                          \"Central Intelligence Agency\",\n",
    "                          \"Fusion center\",\n",
    "                          \"DEA\",\n",
    "                          \"Secure Border Initiative \",\n",
    "                          \"Federal Bureau of Investigation\", #TODO: on remplace par FBI?\n",
    "                          \"Alcohol and Tobacco Tax and Trade Bureau\", #TODO: IDEM y a peutetre un acronyme\n",
    "                          \"U.S. Citizenship and Immigration Services\",\n",
    "                          \"Federal Air Marshal Service \",\n",
    "                          \"Transportation Security Administration\",\n",
    "                          \"Air Marshal\",\n",
    "                          \"Federal Aviation Administration\",\n",
    "                          \"National Guard \",\n",
    "                          \"Disaster Relief / Emergency Management\", #TODO: separe?\n",
    "                          \"U.S. Immigration and Customs Enforcement\",\n",
    "                          \"United Nations\"]\n",
    "len(domestic_search_queries)"
   ]
  },
  {
   "cell_type": "markdown",
   "metadata": {},
   "source": [
    "### Top 30 Terrorism dataset\n",
    "\n",
    "top 30 MTurk evaluation terrorism related search queries [2012-01-01 -> 2014-08-31]"
   ]
  },
  {
   "cell_type": "code",
   "execution_count": null,
   "metadata": {},
   "outputs": [],
   "source": [
    "# Create the list of all terrorism search queries\n",
    "#TODO: should we preprocess the queries ie. remove uppercase?\n",
    "top_30_terrorism_search_queries = [\"Al Qaeda\",\n",
    "                          \"Terrorism\",\n",
    "                          \"Terror\",\n",
    "                          \"Environmental Terrorism\",\n",
    "                          \"Eco-terrorism\",\n",
    "                          \"Pakistan\",\n",
    "                          \"Agro\",\n",
    "                          \"Environmental Terrorism\",\n",
    "                          \"Eco-Terrorism\",\n",
    "                          \"Conventional Weapon\",\n",
    "                          \"Weapons Grade\",\n",
    "                          \"Dirty Bomb\",\n",
    "                          \"Nuclear Enrichment\",\n",
    "                          \"Nuclear\",\n",
    "                          \"Chemical Weapon\",\n",
    "                          \"Biological Weapon\",\n",
    "                          \"Improvised Explosive Device\",\n",
    "                          \"Abu Sayyaf\",\n",
    "                          \"FARC\",\n",
    "                          \"Euskadi ta Askatasuna \",\n",
    "                          \"Hezbollah\",\n",
    "                          \"Palestine Liberation Front\",\n",
    "                          \"Car bomb\",\n",
    "                          \"Jihad\",\n",
    "                          \"Taliban\",\n",
    "                          \"Suicide bomber\",\n",
    "                          \"Suicide attack\",\n",
    "                          \"AL Qaeda in the Arabian Peninsula\",\n",
    "                          \"Al Qaeda in the Islamic Maghreb\",\n",
    "                          \"Tehrik-i-Taliban Pakistan\",\n",
    "                          \"Political radicalism\",\n",
    "                          \"Al-Shabaab\",\n",
    "                          \"Recruitment\",\n",
    "                          \"Islamist\"]\n",
    "len(top_30_terrorism_search_queries)"
   ]
  },
  {
   "cell_type": "code",
   "execution_count": null,
   "metadata": {},
   "outputs": [],
   "source": [
    "# create all queries\n",
    "query_facebook = t.new_query(\"facebook\")\n",
    "query_google = t.new_query(\"google\")"
   ]
  },
  {
   "cell_type": "code",
   "execution_count": null,
   "metadata": {},
   "outputs": [],
   "source": [
    "plt.plot(query_google.max_ratio  )\n",
    "plt.plot(query_facebook.max_ratio)"
   ]
  },
  {
   "cell_type": "code",
   "execution_count": null,
   "metadata": {},
   "outputs": [],
   "source": []
  },
  {
   "cell_type": "code",
   "execution_count": null,
   "metadata": {},
   "outputs": [],
   "source": []
  }
 ],
 "metadata": {
  "kernelspec": {
   "display_name": "Python 3",
   "language": "python",
   "name": "python3"
  },
  "language_info": {
   "codemirror_mode": {
    "name": "ipython",
    "version": 3
   },
   "file_extension": ".py",
   "mimetype": "text/x-python",
   "name": "python",
   "nbconvert_exporter": "python",
   "pygments_lexer": "ipython3",
   "version": "3.8.5"
  }
 },
 "nbformat": 4,
 "nbformat_minor": 4
}
