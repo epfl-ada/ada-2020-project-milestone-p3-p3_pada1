{
 "cells": [
  {
   "cell_type": "markdown",
   "metadata": {},
   "source": [
    "# Data Wrangling\n",
    "\n",
    "In this notebook we will create the following datasets:\n",
    "\n",
    "    - 48 Terrorism related search queries [2012-01-01 -> 2014-08-31]\n",
    "    - 25 Domestic related search queries [2012-01-01 -> 2014-08-31]\n",
    "    - top 30 MTurk evaluation terrorism related search queries [2012-01-01 -> 2014-08-31]\n"
   ]
  },
  {
   "cell_type": "markdown",
   "metadata": {},
   "source": [
    "### Imports"
   ]
  },
  {
   "cell_type": "code",
   "execution_count": 13,
   "metadata": {},
   "outputs": [
    {
     "name": "stdout",
     "output_type": "stream",
     "text": [
      "Requirement already satisfied: gtab in d:\\programdata\\anaconda3\\lib\\site-packages (0.4)\n",
      "Requirement already satisfied: tqdm in d:\\programdata\\anaconda3\\lib\\site-packages (from gtab) (4.49.0)\n",
      "Requirement already satisfied: networkx in d:\\programdata\\anaconda3\\lib\\site-packages (from gtab) (2.5)\n",
      "Requirement already satisfied: pandas in d:\\programdata\\anaconda3\\lib\\site-packages (from gtab) (1.1.1)\n",
      "Requirement already satisfied: numpy in d:\\programdata\\anaconda3\\lib\\site-packages (from gtab) (1.19.1)\n",
      "Requirement already satisfied: pytrends in d:\\programdata\\anaconda3\\lib\\site-packages (from gtab) (4.7.3)\n",
      "Requirement already satisfied: decorator>=4.3.0 in d:\\programdata\\anaconda3\\lib\\site-packages (from networkx->gtab) (4.4.2)\n",
      "Requirement already satisfied: python-dateutil>=2.7.3 in d:\\programdata\\anaconda3\\lib\\site-packages (from pandas->gtab) (2.8.1)\n",
      "Requirement already satisfied: pytz>=2017.2 in d:\\programdata\\anaconda3\\lib\\site-packages (from pandas->gtab) (2020.1)\n",
      "Requirement already satisfied: requests in d:\\programdata\\anaconda3\\lib\\site-packages (from pytrends->gtab) (2.24.0)\n",
      "Requirement already satisfied: lxml in d:\\programdata\\anaconda3\\lib\\site-packages (from pytrends->gtab) (4.5.2)\n",
      "Requirement already satisfied: six>=1.5 in d:\\programdata\\anaconda3\\lib\\site-packages (from python-dateutil>=2.7.3->pandas->gtab) (1.15.0)\n",
      "Requirement already satisfied: urllib3!=1.25.0,!=1.25.1,<1.26,>=1.21.1 in d:\\programdata\\anaconda3\\lib\\site-packages (from requests->pytrends->gtab) (1.25.10)\n",
      "Requirement already satisfied: idna<3,>=2.5 in d:\\programdata\\anaconda3\\lib\\site-packages (from requests->pytrends->gtab) (2.10)\n",
      "Requirement already satisfied: certifi>=2017.4.17 in d:\\programdata\\anaconda3\\lib\\site-packages (from requests->pytrends->gtab) (2020.6.20)\n",
      "Requirement already satisfied: chardet<4,>=3.0.2 in d:\\programdata\\anaconda3\\lib\\site-packages (from requests->pytrends->gtab) (3.0.4)\n"
     ]
    }
   ],
   "source": [
    "!pip install gtab\n",
    "import gtab\n",
    "import matplotlib.pyplot as plt\n",
    "import pandas as pd\n",
    "import numpy as np"
   ]
  },
  {
   "cell_type": "code",
   "execution_count": 14,
   "metadata": {},
   "outputs": [],
   "source": [
    "# Directory to save data\n",
    "data_path = \"data/\""
   ]
  },
  {
   "cell_type": "markdown",
   "metadata": {},
   "source": [
    "### Create and set GoogleTrendsAnchorBank for queries"
   ]
  },
  {
   "cell_type": "code",
   "execution_count": 15,
   "metadata": {},
   "outputs": [],
   "source": [
    "def create_and_set_gtab(start_timeframe, end_timeframe, geo, gtab_path = \"gtab_data\"):\n",
    "    \"\"\"Creates and sets a gtab to the required options.\n",
    "    This functions takes a lot of time if the anchorbank was not yet created.\n",
    "    It also creates a directory if needed to the gtab_path\n",
    "\n",
    "    Args:\n",
    "        start_timeframe (str): start of the timeframe for the queries (included)\n",
    "        end_timeframe (str): end of the timeframe for the queries (included)\n",
    "        geo (str): geolocalisation of the search query\n",
    "        gtab_path (str): path to already existing data\n",
    "\n",
    "    Returns:\n",
    "        t (GTAB): GoogleTrendsAnchorBank to use for the queries, consistent with the provided options\n",
    "\n",
    "    \"\"\"\n",
    "    t = gtab.GTAB(dir_path=my_path)\n",
    "    # Create time frame\n",
    "    timeframe = start_timeframe + \" \" + end_timeframe\n",
    "    \n",
    "    # Set required options\n",
    "    t.set_options(pytrends_config={\"geo\": geo, \"timeframe\": timeframe})  \n",
    "    \n",
    "    # Create anchorbank if it doesn't already exist\n",
    "    t.create_anchorbank() # takes a while to run since it queries Google Trends. \n",
    "    \n",
    "    # We apply the anchorbank\n",
    "    t.set_active_gtab(f\"google_anchorbank_geo={worldwide}_timeframe={timeframe}.tsv\")\n",
    "    \n",
    "    return t"
   ]
  },
  {
   "cell_type": "code",
   "execution_count": 16,
   "metadata": {},
   "outputs": [
    {
     "name": "stdout",
     "output_type": "stream",
     "text": [
      "Directory already exists, loading data from it.\n",
      "Using directory 'gtab_data'\n",
      "Active anchorbank changed to: google_anchorbank_geo=_timeframe=2019-01-01 2020-08-01.tsv\n",
      "\n",
      "Start AnchorBank init for region  in timeframe 2012-01-01 2014-08-31...\n",
      "GTAB with such parameters already exists! Load it with 'set_active_gtab(filename)' or rename/delete it to create another one with this name.\n",
      "Active anchorbank changed to: google_anchorbank_geo=_timeframe=2012-01-01 2014-08-31.tsv\n",
      "\n"
     ]
    }
   ],
   "source": [
    "#TODO: should we include until present time for an extended analysis?\n",
    "# Create time frame corresponding to the paper study\n",
    "start_timeframe = \"2012-01-01\"\n",
    "end_timeframe   = \"2014-08-31\" #TODO: si cest borne inclu (ca a l'air detre le cas) sinon =>\"2014-09-01\"\n",
    "timeframe = start_timeframe + \" \" + end_timeframe\n",
    "\n",
    "# We choose the worldwide geolocalisation to mimic wikipedia\n",
    "worldwide = \"\" # empty string corresponds to worldwide\n",
    "\n",
    "t = create_and_set_gtab(start_timeframe, end_timeframe, worldwide)"
   ]
  },
  {
   "cell_type": "markdown",
   "metadata": {},
   "source": [
    "## Create all dataframes"
   ]
  },
  {
   "cell_type": "code",
   "execution_count": 32,
   "metadata": {},
   "outputs": [],
   "source": [
    "def create_dataframe(search_queries, geo, t):\n",
    "    \"\"\"Creates a dataframe concatenating all search queries interest over time data from google\n",
    "    trends. The data will have as an added collumn the names of the original search and the \n",
    "    geolocalisation of the search query.\n",
    "    The returned dataframe has attributes:\n",
    "    {date, max_ratio  max_ratio_hi  max_ratio_l, article_name, geo}\n",
    "\n",
    "    Args:\n",
    "        search_queries (list[string]): List of all required search queries for the full dataframe\n",
    "        geo (str): geolocalisation of the search query\n",
    "        t (GTAB): GoogleTrendsAnchorBank to use for the queries it needs to be consistent with the geo parameter\n",
    "\n",
    "    Returns:\n",
    "        dataframe: dataframe concatenating all search queries interest over time data from google\n",
    "    trends\n",
    "\n",
    "    \"\"\"\n",
    "    # For each terrorism related search query create the corresponding interest over time google trends data\n",
    "    all_interest_over_time_dfs = [t.new_query(search_query) for search_query in search_queries]\n",
    "    \n",
    "    # Remove all queries who failed\n",
    "    all_interest_over_time_dfs = [df for df in all_interest_over_time_dfs if type(df) != type(-1)]\n",
    "    \n",
    "    # Append the name and location to all dataframes\n",
    "    for i, df in enumerate(all_interest_over_time_dfs):\n",
    "        # Add the article name collumn \n",
    "        df[\"article_name\"] = [search_queries[i]]*len(df)\n",
    "        # Add the localisation collumn\n",
    "        df[\"geo\"] = [\"worldwide\"]*len(df)        \n",
    "    \n",
    "    # Concatenate all dfs into one centrale one\n",
    "    return pd.concat(all_interest_over_time_dfs).reset_index()"
   ]
  },
  {
   "cell_type": "code",
   "execution_count": 33,
   "metadata": {},
   "outputs": [],
   "source": [
    "def get_topics(domain_name, data_path):\n",
    "    \"\"\"Gives the list of all topics corresponding to the search queries for the specific domain.\n",
    "    \n",
    "    Args:\n",
    "         domain_name (str): domain name of the search queries (i.e: terrorism, domestic, top_30_terrorism)\n",
    "         data_path (str): directory path containing the mapping pickle file \n",
    "    \n",
    "    Returns:\n",
    "        list of all topics for this domain\n",
    "    \"\"\"\n",
    "    \n",
    "    mapping_df = pd.read_pickle(data_path+\"mapping.pkl\")\n",
    "    \n",
    "    return mapping_df[mapping_df[\"domain_name\"] == domain_name][\"node_equivalent\"].tolist()"
   ]
  },
  {
   "cell_type": "markdown",
   "metadata": {},
   "source": [
    "### Terrorism dataset\n",
    "\n",
    "48 Terrorism related search queries [2012-01-01 -> 2014-08-31]"
   ]
  },
  {
   "cell_type": "code",
   "execution_count": 34,
   "metadata": {},
   "outputs": [],
   "source": [
    "# Find all topics for this dataset\n",
    "terrorism_topic_queries = get_topics(\"terrorism\", data_path)"
   ]
  },
  {
   "cell_type": "code",
   "execution_count": 35,
   "metadata": {},
   "outputs": [
    {
     "name": "stdout",
     "output_type": "stream",
     "text": [
      "Using gtab_data\\output\\google_anchorbanks\\google_anchorbank_geo=_timeframe=2012-01-01 2014-08-31.tsv\n",
      "New query '/m/0v74'\n",
      "New query calibrated!\n",
      "Using gtab_data\\output\\google_anchorbanks\\google_anchorbank_geo=_timeframe=2012-01-01 2014-08-31.tsv\n",
      "New query '/m/07jq_'\n",
      "New query calibrated!\n",
      "Using gtab_data\\output\\google_anchorbanks\\google_anchorbank_geo=_timeframe=2012-01-01 2014-08-31.tsv\n",
      "New query '/m/07jq_'\n",
      "New query calibrated!\n",
      "Using gtab_data\\output\\google_anchorbanks\\google_anchorbank_geo=_timeframe=2012-01-01 2014-08-31.tsv\n",
      "New query '/m/0gtxdb2'\n",
      "New query calibrated!\n",
      "Using gtab_data\\output\\google_anchorbanks\\google_anchorbank_geo=_timeframe=2012-01-01 2014-08-31.tsv\n",
      "New query '/m/0d05q4'\n",
      "New query calibrated!\n",
      "Using gtab_data\\output\\google_anchorbanks\\google_anchorbank_geo=_timeframe=2012-01-01 2014-08-31.tsv\n",
      "New query '/m/0jdd'\n",
      "New query calibrated!\n",
      "Using gtab_data\\output\\google_anchorbanks\\google_anchorbank_geo=_timeframe=2012-01-01 2014-08-31.tsv\n",
      "New query '/m/03shp'\n",
      "New query calibrated!\n",
      "Using gtab_data\\output\\google_anchorbanks\\google_anchorbank_geo=_timeframe=2012-01-01 2014-08-31.tsv\n",
      "New query '/m/05sb1'\n",
      "New query calibrated!\n",
      "Using gtab_data\\output\\google_anchorbanks\\google_anchorbank_geo=_timeframe=2012-01-01 2014-08-31.tsv\n",
      "New query '/m/019jkv'\n",
      "New query calibrated!\n",
      "Using gtab_data\\output\\google_anchorbanks\\google_anchorbank_geo=_timeframe=2012-01-01 2014-08-31.tsv\n",
      "New query '/m/02w1mcd'\n",
      "\n",
      "Bad keyword '/m/02w1mcd', because The request failed: Google returned a response with code 400.\n",
      "Keyword /m/02w1mcd is bad!\n",
      "Using gtab_data\\output\\google_anchorbanks\\google_anchorbank_geo=_timeframe=2012-01-01 2014-08-31.tsv\n",
      "New query '/m/01s60b'\n",
      "New query calibrated!\n",
      "Using gtab_data\\output\\google_anchorbanks\\google_anchorbank_geo=_timeframe=2012-01-01 2014-08-31.tsv\n",
      "New query '/m/02t93h'\n",
      "New query calibrated!\n",
      "Using gtab_data\\output\\google_anchorbanks\\google_anchorbank_geo=_timeframe=2012-01-01 2014-08-31.tsv\n",
      "New query '/m/0blqm8'\n",
      "New query calibrated!\n",
      "Using gtab_data\\output\\google_anchorbanks\\google_anchorbank_geo=_timeframe=2012-01-01 2014-08-31.tsv\n",
      "New query '/m/0fjf_'\n",
      "New query calibrated!\n",
      "Using gtab_data\\output\\google_anchorbanks\\google_anchorbank_geo=_timeframe=2012-01-01 2014-08-31.tsv\n",
      "New query '/m/04xkp'\n",
      "New query calibrated!\n",
      "Using gtab_data\\output\\google_anchorbanks\\google_anchorbank_geo=_timeframe=2012-01-01 2014-08-31.tsv\n",
      "New query '/m/0bwkbcx'\n",
      "New query calibrated!\n",
      "Using gtab_data\\output\\google_anchorbanks\\google_anchorbank_geo=_timeframe=2012-01-01 2014-08-31.tsv\n",
      "New query '/m/01xmw0'\n",
      "New query calibrated!\n",
      "Using gtab_data\\output\\google_anchorbanks\\google_anchorbank_geo=_timeframe=2012-01-01 2014-08-31.tsv\n",
      "New query '/m/0ny03'\n",
      "New query calibrated!\n",
      "Using gtab_data\\output\\google_anchorbanks\\google_anchorbank_geo=_timeframe=2012-01-01 2014-08-31.tsv\n",
      "New query '/m/01n8xw'\n",
      "New query calibrated!\n",
      "Using gtab_data\\output\\google_anchorbanks\\google_anchorbank_geo=_timeframe=2012-01-01 2014-08-31.tsv\n",
      "New query '/m/0xq_'\n",
      "New query calibrated!\n",
      "Using gtab_data\\output\\google_anchorbanks\\google_anchorbank_geo=_timeframe=2012-01-01 2014-08-31.tsv\n",
      "New query '/m/03m6j'\n",
      "New query calibrated!\n",
      "Using gtab_data\\output\\google_anchorbanks\\google_anchorbank_geo=_timeframe=2012-01-01 2014-08-31.tsv\n",
      "New query '/m/011ys5'\n",
      "New query calibrated!\n",
      "Using gtab_data\\output\\google_anchorbanks\\google_anchorbank_geo=_timeframe=2012-01-01 2014-08-31.tsv\n",
      "New query '/m/05sz6'\n",
      "New query calibrated!\n",
      "Using gtab_data\\output\\google_anchorbanks\\google_anchorbank_geo=_timeframe=2012-01-01 2014-08-31.tsv\n",
      "New query '/m/02pvw'\n",
      "New query calibrated!\n",
      "Using gtab_data\\output\\google_anchorbanks\\google_anchorbank_geo=_timeframe=2012-01-01 2014-08-31.tsv\n",
      "New query '/m/03m7d'\n",
      "New query calibrated!\n",
      "Using gtab_data\\output\\google_anchorbanks\\google_anchorbank_geo=_timeframe=2012-01-01 2014-08-31.tsv\n",
      "New query '/m/04q9w'\n",
      "New query calibrated!\n",
      "Using gtab_data\\output\\google_anchorbanks\\google_anchorbank_geo=_timeframe=2012-01-01 2014-08-31.tsv\n",
      "New query '/m/0jz65'\n",
      "New query calibrated!\n",
      "Using gtab_data\\output\\google_anchorbanks\\google_anchorbank_geo=_timeframe=2012-01-01 2014-08-31.tsv\n",
      "New query '/m/01d_w8'\n",
      "New query calibrated!\n",
      "Using gtab_data\\output\\google_anchorbanks\\google_anchorbank_geo=_timeframe=2012-01-01 2014-08-31.tsv\n",
      "New query '/m/014bmh'\n",
      "New query calibrated!\n",
      "Using gtab_data\\output\\google_anchorbanks\\google_anchorbank_geo=_timeframe=2012-01-01 2014-08-31.tsv\n",
      "New query '/m/0445s'\n",
      "New query calibrated!\n",
      "Using gtab_data\\output\\google_anchorbanks\\google_anchorbank_geo=_timeframe=2012-01-01 2014-08-31.tsv\n",
      "New query '/m/07jqh'\n",
      "New query calibrated!\n",
      "Using gtab_data\\output\\google_anchorbanks\\google_anchorbank_geo=_timeframe=2012-01-01 2014-08-31.tsv\n",
      "New query '/m/078f4'\n",
      "New query calibrated!\n",
      "Using gtab_data\\output\\google_anchorbanks\\google_anchorbank_geo=_timeframe=2012-01-01 2014-08-31.tsv\n",
      "New query '/m/02psd87'\n",
      "New query calibrated!\n",
      "Using gtab_data\\output\\google_anchorbanks\\google_anchorbank_geo=_timeframe=2012-01-01 2014-08-31.tsv\n",
      "New query '/m/02qr9gb'\n",
      "New query calibrated!\n",
      "Using gtab_data\\output\\google_anchorbanks\\google_anchorbank_geo=_timeframe=2012-01-01 2014-08-31.tsv\n",
      "New query '/m/04jhbb_'\n",
      "New query calibrated!\n",
      "Using gtab_data\\output\\google_anchorbanks\\google_anchorbank_geo=_timeframe=2012-01-01 2014-08-31.tsv\n",
      "New query '/m/01z88t'\n",
      "New query calibrated!\n",
      "Using gtab_data\\output\\google_anchorbanks\\google_anchorbank_geo=_timeframe=2012-01-01 2014-08-31.tsv\n",
      "New query '/m/01vksx'\n",
      "New query calibrated!\n",
      "Using gtab_data\\output\\google_anchorbanks\\google_anchorbank_geo=_timeframe=2012-01-01 2014-08-31.tsv\n",
      "New query '/m/027947'\n",
      "New query calibrated!\n",
      "Using gtab_data\\output\\google_anchorbanks\\google_anchorbank_geo=_timeframe=2012-01-01 2014-08-31.tsv\n",
      "New query '/m/06tgw'\n",
      "New query calibrated!\n",
      "Using gtab_data\\output\\google_anchorbanks\\google_anchorbank_geo=_timeframe=2012-01-01 2014-08-31.tsv\n",
      "New query '/m/05cgv'\n",
      "New query calibrated!\n",
      "Using gtab_data\\output\\google_anchorbanks\\google_anchorbank_geo=_timeframe=2012-01-01 2014-08-31.tsv\n",
      "New query '/m/03mhnhh'\n",
      "New query calibrated!\n",
      "Using gtab_data\\output\\google_anchorbanks\\google_anchorbank_geo=_timeframe=2012-01-01 2014-08-31.tsv\n",
      "New query '/m/027ggxz'\n",
      "New query calibrated!\n",
      "Using gtab_data\\output\\google_anchorbanks\\google_anchorbank_geo=_timeframe=2012-01-01 2014-08-31.tsv\n",
      "New query '/m/05gd9'\n",
      "New query calibrated!\n",
      "Using gtab_data\\output\\google_anchorbanks\\google_anchorbank_geo=_timeframe=2012-01-01 2014-08-31.tsv\n",
      "New query '/m/03nw7w'\n",
      "New query calibrated!\n",
      "Using gtab_data\\output\\google_anchorbanks\\google_anchorbank_geo=_timeframe=2012-01-01 2014-08-31.tsv\n",
      "New query '/m/032b8'\n",
      "New query calibrated!\n",
      "Using gtab_data\\output\\google_anchorbanks\\google_anchorbank_geo=_timeframe=2012-01-01 2014-08-31.tsv\n",
      "New query '/m/02qs3j'\n",
      "New query calibrated!\n"
     ]
    }
   ],
   "source": [
    "# Create terrorism dataframe\n",
    "terrorism_df = create_dataframe(terrorism_topic_queries, worldwide, t)\n"
   ]
  },
  {
   "cell_type": "code",
   "execution_count": 36,
   "metadata": {},
   "outputs": [
    {
     "data": {
      "text/html": [
       "<div>\n",
       "<style scoped>\n",
       "    .dataframe tbody tr th:only-of-type {\n",
       "        vertical-align: middle;\n",
       "    }\n",
       "\n",
       "    .dataframe tbody tr th {\n",
       "        vertical-align: top;\n",
       "    }\n",
       "\n",
       "    .dataframe thead th {\n",
       "        text-align: right;\n",
       "    }\n",
       "</style>\n",
       "<table border=\"1\" class=\"dataframe\">\n",
       "  <thead>\n",
       "    <tr style=\"text-align: right;\">\n",
       "      <th></th>\n",
       "      <th>date</th>\n",
       "      <th>max_ratio</th>\n",
       "      <th>max_ratio_hi</th>\n",
       "      <th>max_ratio_lo</th>\n",
       "      <th>article_name</th>\n",
       "      <th>geo</th>\n",
       "    </tr>\n",
       "  </thead>\n",
       "  <tbody>\n",
       "    <tr>\n",
       "      <th>0</th>\n",
       "      <td>2012-01-01</td>\n",
       "      <td>2.934609</td>\n",
       "      <td>3.123105</td>\n",
       "      <td>2.757999</td>\n",
       "      <td>/m/0v74</td>\n",
       "      <td>worldwide</td>\n",
       "    </tr>\n",
       "    <tr>\n",
       "      <th>1</th>\n",
       "      <td>2012-01-08</td>\n",
       "      <td>3.317384</td>\n",
       "      <td>3.521799</td>\n",
       "      <td>3.125733</td>\n",
       "      <td>/m/0v74</td>\n",
       "      <td>worldwide</td>\n",
       "    </tr>\n",
       "    <tr>\n",
       "      <th>2</th>\n",
       "      <td>2012-01-15</td>\n",
       "      <td>3.827751</td>\n",
       "      <td>4.053392</td>\n",
       "      <td>3.616044</td>\n",
       "      <td>/m/0v74</td>\n",
       "      <td>worldwide</td>\n",
       "    </tr>\n",
       "    <tr>\n",
       "      <th>3</th>\n",
       "      <td>2012-01-22</td>\n",
       "      <td>3.572568</td>\n",
       "      <td>3.787596</td>\n",
       "      <td>3.370888</td>\n",
       "      <td>/m/0v74</td>\n",
       "      <td>worldwide</td>\n",
       "    </tr>\n",
       "    <tr>\n",
       "      <th>4</th>\n",
       "      <td>2012-01-29</td>\n",
       "      <td>3.444976</td>\n",
       "      <td>3.654698</td>\n",
       "      <td>3.248310</td>\n",
       "      <td>/m/0v74</td>\n",
       "      <td>worldwide</td>\n",
       "    </tr>\n",
       "  </tbody>\n",
       "</table>\n",
       "</div>"
      ],
      "text/plain": [
       "        date  max_ratio  max_ratio_hi  max_ratio_lo article_name        geo\n",
       "0 2012-01-01   2.934609      3.123105      2.757999      /m/0v74  worldwide\n",
       "1 2012-01-08   3.317384      3.521799      3.125733      /m/0v74  worldwide\n",
       "2 2012-01-15   3.827751      4.053392      3.616044      /m/0v74  worldwide\n",
       "3 2012-01-22   3.572568      3.787596      3.370888      /m/0v74  worldwide\n",
       "4 2012-01-29   3.444976      3.654698      3.248310      /m/0v74  worldwide"
      ]
     },
     "execution_count": 36,
     "metadata": {},
     "output_type": "execute_result"
    }
   ],
   "source": [
    "# View of created df\n",
    "terrorism_df.head()"
   ]
  },
  {
   "cell_type": "code",
   "execution_count": 57,
   "metadata": {},
   "outputs": [],
   "source": [
    "# Save dataframe to pickle\n",
    "terrorism_df.to_pickle(data_path+\"terrorism.pkl\")"
   ]
  },
  {
   "cell_type": "markdown",
   "metadata": {},
   "source": [
    "### Domestic dataset\n",
    "\n",
    "25 Domestic related search queries [2012-01-01 -> 2014-08-31]"
   ]
  },
  {
   "cell_type": "code",
   "execution_count": 50,
   "metadata": {},
   "outputs": [
    {
     "data": {
      "text/plain": [
       "25"
      ]
     },
     "execution_count": 50,
     "metadata": {},
     "output_type": "execute_result"
    }
   ],
   "source": [
    "# Find all topics for this dataset\n",
    "domestic_topic_queries = get_topics(\"domestic\", data_path)"
   ]
  },
  {
   "cell_type": "code",
   "execution_count": null,
   "metadata": {},
   "outputs": [],
   "source": [
    "# Create dommestic dataframe\n",
    "dommestic_df = create_dataframe(domestic_topic_queries, geo, t)"
   ]
  },
  {
   "cell_type": "code",
   "execution_count": null,
   "metadata": {},
   "outputs": [],
   "source": [
    "# View of created df\n",
    "dommestic_df.head()"
   ]
  },
  {
   "cell_type": "code",
   "execution_count": null,
   "metadata": {},
   "outputs": [],
   "source": [
    "# Save dataframe to pickle\n",
    "dommestic_df.to_pickle(data_path+\"dommestic.pkl\")"
   ]
  },
  {
   "cell_type": "markdown",
   "metadata": {},
   "source": [
    "### Top 30 Terrorism dataset\n",
    "\n",
    "top 30 MTurk evaluation terrorism related search queries [2012-01-01 -> 2014-08-31]"
   ]
  },
  {
   "cell_type": "code",
   "execution_count": 58,
   "metadata": {},
   "outputs": [
    {
     "data": {
      "text/plain": [
       "34"
      ]
     },
     "execution_count": 58,
     "metadata": {},
     "output_type": "execute_result"
    }
   ],
   "source": [
    "# Create the list of all terrorism search queries\n",
    "#TODO: should we preprocess the queries ie. remove uppercase?\n",
    "\n",
    "len(top_30_terrorism_search_queries)"
   ]
  },
  {
   "cell_type": "code",
   "execution_count": 59,
   "metadata": {
    "scrolled": true
   },
   "outputs": [
    {
     "name": "stdout",
     "output_type": "stream",
     "text": [
      "Using gtab_data\\output\\google_anchorbanks\\google_anchorbank_geo=_timeframe=2012-01-01 2014-08-31.tsv\n",
      "New query 'Al Qaeda'\n",
      "New query calibrated!\n",
      "Using gtab_data\\output\\google_anchorbanks\\google_anchorbank_geo=_timeframe=2012-01-01 2014-08-31.tsv\n",
      "New query 'Terrorism'\n",
      "New query calibrated!\n",
      "Using gtab_data\\output\\google_anchorbanks\\google_anchorbank_geo=_timeframe=2012-01-01 2014-08-31.tsv\n",
      "New query 'Terror'\n",
      "New query calibrated!\n",
      "Using gtab_data\\output\\google_anchorbanks\\google_anchorbank_geo=_timeframe=2012-01-01 2014-08-31.tsv\n",
      "New query 'Environmental Terrorism'\n",
      "New query calibrated!\n",
      "Using gtab_data\\output\\google_anchorbanks\\google_anchorbank_geo=_timeframe=2012-01-01 2014-08-31.tsv\n",
      "New query 'Eco-terrorism'\n",
      "New query calibrated!\n",
      "Using gtab_data\\output\\google_anchorbanks\\google_anchorbank_geo=_timeframe=2012-01-01 2014-08-31.tsv\n",
      "New query 'Pakistan'\n",
      "New query calibrated!\n",
      "Using gtab_data\\output\\google_anchorbanks\\google_anchorbank_geo=_timeframe=2012-01-01 2014-08-31.tsv\n",
      "New query 'Agro'\n",
      "New query calibrated!\n",
      "Using gtab_data\\output\\google_anchorbanks\\google_anchorbank_geo=_timeframe=2012-01-01 2014-08-31.tsv\n",
      "New query 'Environmental Terrorism'\n",
      "New query calibrated!\n",
      "Using gtab_data\\output\\google_anchorbanks\\google_anchorbank_geo=_timeframe=2012-01-01 2014-08-31.tsv\n",
      "New query 'Eco-Terrorism'\n",
      "New query calibrated!\n",
      "Using gtab_data\\output\\google_anchorbanks\\google_anchorbank_geo=_timeframe=2012-01-01 2014-08-31.tsv\n",
      "New query 'Conventional Weapon'\n",
      "New query calibrated!\n",
      "Using gtab_data\\output\\google_anchorbanks\\google_anchorbank_geo=_timeframe=2012-01-01 2014-08-31.tsv\n",
      "New query 'Weapons Grade'\n",
      "New query calibrated!\n",
      "Using gtab_data\\output\\google_anchorbanks\\google_anchorbank_geo=_timeframe=2012-01-01 2014-08-31.tsv\n",
      "New query 'Dirty Bomb'\n",
      "New query calibrated!\n",
      "Using gtab_data\\output\\google_anchorbanks\\google_anchorbank_geo=_timeframe=2012-01-01 2014-08-31.tsv\n",
      "New query 'Nuclear Enrichment'\n",
      "New query calibrated!\n",
      "Using gtab_data\\output\\google_anchorbanks\\google_anchorbank_geo=_timeframe=2012-01-01 2014-08-31.tsv\n",
      "New query 'Nuclear'\n",
      "New query calibrated!\n",
      "Using gtab_data\\output\\google_anchorbanks\\google_anchorbank_geo=_timeframe=2012-01-01 2014-08-31.tsv\n",
      "New query 'Chemical Weapon'\n",
      "New query calibrated!\n",
      "Using gtab_data\\output\\google_anchorbanks\\google_anchorbank_geo=_timeframe=2012-01-01 2014-08-31.tsv\n",
      "New query 'Biological Weapon'\n",
      "New query calibrated!\n",
      "Using gtab_data\\output\\google_anchorbanks\\google_anchorbank_geo=_timeframe=2012-01-01 2014-08-31.tsv\n",
      "New query 'Improvised Explosive Device'\n",
      "New query calibrated!\n",
      "Using gtab_data\\output\\google_anchorbanks\\google_anchorbank_geo=_timeframe=2012-01-01 2014-08-31.tsv\n",
      "New query 'Abu Sayyaf'\n",
      "New query calibrated!\n",
      "Using gtab_data\\output\\google_anchorbanks\\google_anchorbank_geo=_timeframe=2012-01-01 2014-08-31.tsv\n",
      "New query 'FARC'\n",
      "New query calibrated!\n",
      "Using gtab_data\\output\\google_anchorbanks\\google_anchorbank_geo=_timeframe=2012-01-01 2014-08-31.tsv\n",
      "New query 'Euskadi ta Askatasuna '\n",
      "New query calibrated!\n",
      "Using gtab_data\\output\\google_anchorbanks\\google_anchorbank_geo=_timeframe=2012-01-01 2014-08-31.tsv\n",
      "New query 'Hezbollah'\n",
      "New query calibrated!\n",
      "Using gtab_data\\output\\google_anchorbanks\\google_anchorbank_geo=_timeframe=2012-01-01 2014-08-31.tsv\n",
      "New query 'Palestine Liberation Front'\n",
      "New query calibrated!\n",
      "Using gtab_data\\output\\google_anchorbanks\\google_anchorbank_geo=_timeframe=2012-01-01 2014-08-31.tsv\n",
      "New query 'Car bomb'\n",
      "New query calibrated!\n",
      "Using gtab_data\\output\\google_anchorbanks\\google_anchorbank_geo=_timeframe=2012-01-01 2014-08-31.tsv\n",
      "New query 'Jihad'\n",
      "New query calibrated!\n",
      "Using gtab_data\\output\\google_anchorbanks\\google_anchorbank_geo=_timeframe=2012-01-01 2014-08-31.tsv\n",
      "New query 'Taliban'\n",
      "New query calibrated!\n",
      "Using gtab_data\\output\\google_anchorbanks\\google_anchorbank_geo=_timeframe=2012-01-01 2014-08-31.tsv\n",
      "New query 'Suicide bomber'\n",
      "New query calibrated!\n",
      "Using gtab_data\\output\\google_anchorbanks\\google_anchorbank_geo=_timeframe=2012-01-01 2014-08-31.tsv\n",
      "New query 'Suicide attack'\n",
      "New query calibrated!\n",
      "Using gtab_data\\output\\google_anchorbanks\\google_anchorbank_geo=_timeframe=2012-01-01 2014-08-31.tsv\n",
      "New query 'AL Qaeda in the Arabian Peninsula'\n",
      "New query calibrated!\n",
      "Using gtab_data\\output\\google_anchorbanks\\google_anchorbank_geo=_timeframe=2012-01-01 2014-08-31.tsv\n",
      "New query 'Al Qaeda in the Islamic Maghreb'\n",
      "New query calibrated!\n",
      "Using gtab_data\\output\\google_anchorbanks\\google_anchorbank_geo=_timeframe=2012-01-01 2014-08-31.tsv\n",
      "New query 'Tehrik-i-Taliban Pakistan'\n",
      "New query calibrated!\n",
      "Using gtab_data\\output\\google_anchorbanks\\google_anchorbank_geo=_timeframe=2012-01-01 2014-08-31.tsv\n",
      "New query 'Political radicalism'\n",
      "New query calibrated!\n",
      "Using gtab_data\\output\\google_anchorbanks\\google_anchorbank_geo=_timeframe=2012-01-01 2014-08-31.tsv\n",
      "New query 'Al-Shabaab'\n",
      "New query calibrated!\n",
      "Using gtab_data\\output\\google_anchorbanks\\google_anchorbank_geo=_timeframe=2012-01-01 2014-08-31.tsv\n",
      "New query 'Recruitment'\n",
      "New query calibrated!\n",
      "Using gtab_data\\output\\google_anchorbanks\\google_anchorbank_geo=_timeframe=2012-01-01 2014-08-31.tsv\n",
      "New query 'Islamist'\n",
      "New query calibrated!\n"
     ]
    }
   ],
   "source": [
    "\n",
    "# Create dommestic dataframe\n",
    "top_30_terrorism_df = create_dataframe(top_30_terrorism_search_queries, geo, t)"
   ]
  },
  {
   "cell_type": "code",
   "execution_count": 60,
   "metadata": {},
   "outputs": [
    {
     "data": {
      "text/html": [
       "<div>\n",
       "<style scoped>\n",
       "    .dataframe tbody tr th:only-of-type {\n",
       "        vertical-align: middle;\n",
       "    }\n",
       "\n",
       "    .dataframe tbody tr th {\n",
       "        vertical-align: top;\n",
       "    }\n",
       "\n",
       "    .dataframe thead th {\n",
       "        text-align: right;\n",
       "    }\n",
       "</style>\n",
       "<table border=\"1\" class=\"dataframe\">\n",
       "  <thead>\n",
       "    <tr style=\"text-align: right;\">\n",
       "      <th></th>\n",
       "      <th>date</th>\n",
       "      <th>max_ratio</th>\n",
       "      <th>max_ratio_hi</th>\n",
       "      <th>max_ratio_lo</th>\n",
       "      <th>article_name</th>\n",
       "      <th>geo</th>\n",
       "    </tr>\n",
       "  </thead>\n",
       "  <tbody>\n",
       "    <tr>\n",
       "      <th>0</th>\n",
       "      <td>2012-01-01</td>\n",
       "      <td>1.575758</td>\n",
       "      <td>1.695447</td>\n",
       "      <td>1.463272</td>\n",
       "      <td>Al Qaeda</td>\n",
       "      <td>worldwide</td>\n",
       "    </tr>\n",
       "    <tr>\n",
       "      <th>1</th>\n",
       "      <td>2012-01-08</td>\n",
       "      <td>1.575758</td>\n",
       "      <td>1.695447</td>\n",
       "      <td>1.463272</td>\n",
       "      <td>Al Qaeda</td>\n",
       "      <td>worldwide</td>\n",
       "    </tr>\n",
       "    <tr>\n",
       "      <th>2</th>\n",
       "      <td>2012-01-15</td>\n",
       "      <td>1.818182</td>\n",
       "      <td>1.946625</td>\n",
       "      <td>1.697395</td>\n",
       "      <td>Al Qaeda</td>\n",
       "      <td>worldwide</td>\n",
       "    </tr>\n",
       "    <tr>\n",
       "      <th>3</th>\n",
       "      <td>2012-01-22</td>\n",
       "      <td>1.575758</td>\n",
       "      <td>1.695447</td>\n",
       "      <td>1.463272</td>\n",
       "      <td>Al Qaeda</td>\n",
       "      <td>worldwide</td>\n",
       "    </tr>\n",
       "    <tr>\n",
       "      <th>4</th>\n",
       "      <td>2012-01-29</td>\n",
       "      <td>1.454545</td>\n",
       "      <td>1.569859</td>\n",
       "      <td>1.346210</td>\n",
       "      <td>Al Qaeda</td>\n",
       "      <td>worldwide</td>\n",
       "    </tr>\n",
       "  </tbody>\n",
       "</table>\n",
       "</div>"
      ],
      "text/plain": [
       "        date  max_ratio  max_ratio_hi  max_ratio_lo article_name        geo\n",
       "0 2012-01-01   1.575758      1.695447      1.463272     Al Qaeda  worldwide\n",
       "1 2012-01-08   1.575758      1.695447      1.463272     Al Qaeda  worldwide\n",
       "2 2012-01-15   1.818182      1.946625      1.697395     Al Qaeda  worldwide\n",
       "3 2012-01-22   1.575758      1.695447      1.463272     Al Qaeda  worldwide\n",
       "4 2012-01-29   1.454545      1.569859      1.346210     Al Qaeda  worldwide"
      ]
     },
     "execution_count": 60,
     "metadata": {},
     "output_type": "execute_result"
    }
   ],
   "source": [
    "# View of created df\n",
    "top_30_terrorism_df.head()"
   ]
  },
  {
   "cell_type": "code",
   "execution_count": 61,
   "metadata": {},
   "outputs": [],
   "source": [
    "# Save dataframe to pickle\n",
    "top_30_terrorism_df.to_pickle(data_path+\"top_30_terrorism.pkl\")"
   ]
  },
  {
   "cell_type": "code",
   "execution_count": 15,
   "metadata": {},
   "outputs": [
    {
     "name": "stdout",
     "output_type": "stream",
     "text": [
      "Using gtab_data\\output\\google_anchorbanks\\google_anchorbank_geo=_timeframe=2012-01-01 2014-08-31.tsv\n",
      "New query '/g/11cr_hd3g5'\n",
      "New query calibrated!\n"
     ]
    }
   ],
   "source": [
    "dff = create_dataframe([\"/g/11cr_hd3g5\"], geo, t)\n"
   ]
  },
  {
   "cell_type": "code",
   "execution_count": 17,
   "metadata": {},
   "outputs": [
    {
     "data": {
      "text/plain": [
       "0.017962285714285726"
      ]
     },
     "execution_count": 17,
     "metadata": {},
     "output_type": "execute_result"
    }
   ],
   "source": [
    "dff.max_ratio.mean()"
   ]
  },
  {
   "cell_type": "code",
   "execution_count": null,
   "metadata": {},
   "outputs": [],
   "source": []
  }
 ],
 "metadata": {
  "kernelspec": {
   "display_name": "Python 3",
   "language": "python",
   "name": "python3"
  },
  "language_info": {
   "codemirror_mode": {
    "name": "ipython",
    "version": 3
   },
   "file_extension": ".py",
   "mimetype": "text/x-python",
   "name": "python",
   "nbconvert_exporter": "python",
   "pygments_lexer": "ipython3",
   "version": "3.8.5"
  }
 },
 "nbformat": 4,
 "nbformat_minor": 4
}
