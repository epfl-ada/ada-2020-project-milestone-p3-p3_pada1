{
 "cells": [
  {
   "cell_type": "code",
   "execution_count": 1,
   "metadata": {},
   "outputs": [],
   "source": [
    "terrorism_search_queries = [\"Al-Qaeda\",\n",
    "                          \"terrorism\",\n",
    "                          \"terror\",\n",
    "                          \"attack\",\n",
    "                          \"iraq\",\n",
    "                          \"afghanistan\",\n",
    "                          \"iran\",\n",
    "                          \"Pakistan\",\n",
    "                          \"Agro\",\n",
    "                          \"Environmental Terrorism\",\n",
    "                          \"Eco-Terrorism\",\n",
    "                          \"Conventional Weapon\",\n",
    "                          \"Weapons Grade\",\n",
    "                          \"Dirty Bomb\",\n",
    "                          \"Nuclear Enrichment\",\n",
    "                          \"Nuclear\",\n",
    "                          \"Chemical Weapon\",\n",
    "                          \"Biological Weapon\",\n",
    "                          \"Ammonium nitrate\",\n",
    "                          \"Improvised Explosive Device\",\n",
    "                          \"Abu Sayyaf\",\n",
    "                          \"Hamas\",\n",
    "                          \"FARC\",\n",
    "                          \"Irish Republican Army\",\n",
    "                          \"Euskadi ta Askatasuna \",\n",
    "                          \"Hezbollah\",\n",
    "                          \"Tamil Tigers\",\n",
    "                          \"PLO\",\n",
    "                          \"Palestine Liberation Front\",\n",
    "                          \"Car bomb\",\n",
    "                          \"Jihad\",\n",
    "                          \"Taliban\",\n",
    "                          \"Suicide bomber\",\n",
    "                          \"Suicide attack\",\n",
    "                          \"AL Qaeda in the Arabian Peninsula\",\n",
    "                          \"Al Qaeda in the Islamic Maghreb\",\n",
    "                          \"Tehrik-i-Taliban Pakistan\",\n",
    "                          \"Yemen\",\n",
    "                          \"Pirates\",\n",
    "                          \"Extremism\",\n",
    "                          \"Somalia\",\n",
    "                          \"Nigeria\",\n",
    "                          \"Political radicalism\",\n",
    "                          \"Al-Shabaab\",\n",
    "                          \"Nationalism\",\n",
    "                          \"Recruitment\",\n",
    "                          \"Fundamentalism\",\n",
    "                          \"Islamist\"]\n",
    "\n",
    "top_30_terrorism_search_queries = [\"Al Qaeda\",\n",
    "                          \"Terrorism\",\n",
    "                          \"Terror\",\n",
    "                          \"Environmental Terrorism\",\n",
    "                          \"Eco-terrorism\",\n",
    "                          \"Conventional Weapon\",\n",
    "                          \"Weapons Grade\",\n",
    "                          \"Dirty Bomb\",\n",
    "                          \"Nuclear Enrichment\",\n",
    "                          \"Nuclear\",\n",
    "                          \"Chemical Weapon\",\n",
    "                          \"Biological Weapon\",\n",
    "                          \"Improvised Explosive Device\",\n",
    "                          \"Abu Sayyaf\",\n",
    "                          \"FARC\",\n",
    "                          \"Euskadi ta Askatasuna \",\n",
    "                          \"Hezbollah\",\n",
    "                          \"Palestine Liberation Front\",\n",
    "                          \"Car bomb\",\n",
    "                          \"Jihad\",\n",
    "                          \"Taliban\",\n",
    "                          \"Suicide bomber\",\n",
    "                          \"Suicide attack\",\n",
    "                          \"AL Qaeda in the Arabian Peninsula\",\n",
    "                          \"Al Qaeda in the Islamic Maghreb\",\n",
    "                          \"Tehrik-i-Taliban Pakistan\",\n",
    "                          \"Political radicalism\",\n",
    "                          \"Al-Shabaab\",\n",
    "                          \"Recruitment\",\n",
    "                          \"Islamist\"]\n",
    "\n",
    "domestic_search_queries = [\"Department of Homeland Security\",\n",
    "                          \"Federal Emergency Management Agency\",\n",
    "                          \"Coast Guard\",\n",
    "                          \"Customs and Border Protection \",\n",
    "                          \"Border patrol\",\n",
    "                          \"Secret Service\",\n",
    "                          \"Bureau of Land Management\",\n",
    "                          \"Homeland defense\",\n",
    "                          \"Espionage\",\n",
    "                          \"Task Force 88\",\n",
    "                          \"Central Intelligence Agency\",\n",
    "                          \"Fusion center\",\n",
    "                          \"DEA\",\n",
    "                          \"Secure Border Initiative \",\n",
    "                          \"Federal Bureau of Investigation\", #TODO: on remplace par FBI?\n",
    "                          \"Alcohol and Tobacco Tax and Trade Bureau\", #TODO: IDEM y a peutetre un acronyme\n",
    "                          \"U.S. Citizenship and Immigration Services\",\n",
    "                          \"Federal Air Marshal Service \",\n",
    "                          \"Transportation Security Administration\",\n",
    "                          \"Air Marshal\",\n",
    "                          \"Federal Aviation Administration\",\n",
    "                          \"National Guard \",\n",
    "                          \"Emergency Management\", #TODO: separe?\n",
    "                          \"U.S. Immigration and Customs Enforcement\",\n",
    "                          \"United Nations\"]"
   ]
  },
  {
   "cell_type": "markdown",
   "metadata": {},
   "source": [
    "# Data Wrangling\n",
    "\n",
    "In this notebook we will create the following datasets:\n",
    "\n",
    "    - 48 Terrorism related search queries [2012-01-01 -> 2014-08-31]\n",
    "    - 25 Domestic related search queries [2012-01-01 -> 2014-08-31]\n",
    "    - top 30 MTurk evaluation terrorism related search queries [2012-01-01 -> 2014-08-31]\n"
   ]
  },
  {
   "cell_type": "markdown",
   "metadata": {},
   "source": [
    "### Imports"
   ]
  },
  {
   "cell_type": "code",
   "execution_count": 2,
   "metadata": {},
   "outputs": [
    {
     "name": "stdout",
     "output_type": "stream",
     "text": [
      "Requirement already satisfied: gtab in d:\\programdata\\anaconda3\\lib\\site-packages (0.4)\n",
      "Requirement already satisfied: pandas in d:\\programdata\\anaconda3\\lib\\site-packages (from gtab) (1.1.1)\n",
      "Requirement already satisfied: numpy in d:\\programdata\\anaconda3\\lib\\site-packages (from gtab) (1.19.1)\n",
      "Requirement already satisfied: tqdm in d:\\programdata\\anaconda3\\lib\\site-packages (from gtab) (4.49.0)\n",
      "Requirement already satisfied: networkx in d:\\programdata\\anaconda3\\lib\\site-packages (from gtab) (2.5)\n",
      "Requirement already satisfied: pytrends in d:\\programdata\\anaconda3\\lib\\site-packages (from gtab) (4.7.3)\n",
      "Requirement already satisfied: python-dateutil>=2.7.3 in d:\\programdata\\anaconda3\\lib\\site-packages (from pandas->gtab) (2.8.1)\n",
      "Requirement already satisfied: pytz>=2017.2 in d:\\programdata\\anaconda3\\lib\\site-packages (from pandas->gtab) (2020.1)\n",
      "Requirement already satisfied: decorator>=4.3.0 in d:\\programdata\\anaconda3\\lib\\site-packages (from networkx->gtab) (4.4.2)\n",
      "Requirement already satisfied: requests in d:\\programdata\\anaconda3\\lib\\site-packages (from pytrends->gtab) (2.24.0)\n",
      "Requirement already satisfied: lxml in d:\\programdata\\anaconda3\\lib\\site-packages (from pytrends->gtab) (4.5.2)\n",
      "Requirement already satisfied: six>=1.5 in d:\\programdata\\anaconda3\\lib\\site-packages (from python-dateutil>=2.7.3->pandas->gtab) (1.15.0)\n",
      "Requirement already satisfied: urllib3!=1.25.0,!=1.25.1,<1.26,>=1.21.1 in d:\\programdata\\anaconda3\\lib\\site-packages (from requests->pytrends->gtab) (1.25.10)\n",
      "Requirement already satisfied: certifi>=2017.4.17 in d:\\programdata\\anaconda3\\lib\\site-packages (from requests->pytrends->gtab) (2020.6.20)\n",
      "Requirement already satisfied: chardet<4,>=3.0.2 in d:\\programdata\\anaconda3\\lib\\site-packages (from requests->pytrends->gtab) (3.0.4)\n",
      "Requirement already satisfied: idna<3,>=2.5 in d:\\programdata\\anaconda3\\lib\\site-packages (from requests->pytrends->gtab) (2.10)\n"
     ]
    }
   ],
   "source": [
    "!pip install gtab\n",
    "import gtab\n",
    "import matplotlib.pyplot as plt\n",
    "import pandas as pd\n",
    "import numpy as np"
   ]
  },
  {
   "cell_type": "code",
   "execution_count": 3,
   "metadata": {},
   "outputs": [
    {
     "name": "stdout",
     "output_type": "stream",
     "text": [
      "Directory already exists, loading data from it.\n",
      "Using directory 'gtab_data'\n",
      "Active anchorbank changed to: google_anchorbank_geo=_timeframe=2019-01-01 2020-08-01.tsv\n",
      "\n"
     ]
    }
   ],
   "source": [
    "# Create directory for gtab data\n",
    "my_path = \"gtab_data\"\n",
    "t = gtab.GTAB(dir_path=my_path)\n",
    "\n",
    "# Directory to save data\n",
    "data_path = \"data/\""
   ]
  },
  {
   "cell_type": "code",
   "execution_count": 6,
   "metadata": {},
   "outputs": [],
   "source": [
    "#TODO: should we include until present time for an extended analysis?\n",
    "# Create time frame corresponding to the paper study\n",
    "start_timeframe = \"2012-01-01\"\n",
    "end_timeframe   = \"2014-08-31\" #TODO: si cest borne inclu (ca a l'air detre le cas) sinon =>\"2014-09-01\"\n",
    "timeframe = start_timeframe + \" \" + end_timeframe\n",
    "\n",
    "# We choose the worldwide geolocalisation to mimic wikipedia\n",
    "worldwide = \"\" # empty string corresponds to worldwide"
   ]
  },
  {
   "cell_type": "code",
   "execution_count": 7,
   "metadata": {},
   "outputs": [
    {
     "name": "stdout",
     "output_type": "stream",
     "text": [
      "Existing GTABs:\n",
      "\tgoogle_anchorbank_geo=IT_timeframe=2019-01-01 2020-08-01.tsv\n",
      "\tgoogle_anchorbank_geo=_timeframe=2012-01-01 2014-08-31.tsv\n",
      "\tgoogle_anchorbank_geo=_timeframe=2019-01-01 2020-08-01.tsv\n",
      "Active anchorbank: google_anchorbank_geo=_timeframe=2019-01-01 2020-08-01.tsv\n"
     ]
    }
   ],
   "source": [
    "# List all existing anchorbanks\n",
    "t.list_gtabs()"
   ]
  },
  {
   "cell_type": "markdown",
   "metadata": {},
   "source": [
    "**As you can see the anchorbank which we require does not exist yet. Therefore we will create it!**"
   ]
  },
  {
   "cell_type": "code",
   "execution_count": 9,
   "metadata": {},
   "outputs": [],
   "source": [
    "t.set_options(pytrends_config={\"geo\": worldwide, \"timeframe\": timeframe})"
   ]
  },
  {
   "cell_type": "code",
   "execution_count": 10,
   "metadata": {},
   "outputs": [],
   "source": [
    "#t.create_anchorbank() # takes a while to run since it queries Google Trends. # je sais pas si ca rerun et jai pas envie dessayer"
   ]
  },
  {
   "cell_type": "code",
   "execution_count": 11,
   "metadata": {},
   "outputs": [
    {
     "name": "stdout",
     "output_type": "stream",
     "text": [
      "Active anchorbank changed to: google_anchorbank_geo=_timeframe=2012-01-01 2014-08-31.tsv\n",
      "\n"
     ]
    }
   ],
   "source": [
    "# We apply the global anchor and paper timeframe to gtab \n",
    "t.set_active_gtab(f\"google_anchorbank_geo={worldwide}_timeframe={timeframe}.tsv\")"
   ]
  },
  {
   "cell_type": "code",
   "execution_count": 12,
   "metadata": {},
   "outputs": [],
   "source": [
    "def create_dataframe(search_queries, geo, t):\n",
    "    \"\"\"Creates a dataframe concatenating all search queries interest over time data from google\n",
    "    trends. The data will have as an added collumn the names of the original search and the \n",
    "    geolocalisation of the search query.\n",
    "    The returned dataframe has attributes:\n",
    "    {date, max_ratio  max_ratio_hi  max_ratio_l, article_name, geo}\n",
    "\n",
    "    Args:\n",
    "        search_queries (list[string]): List of all required search queries for the full dataframe\n",
    "        geo (str): geolocalisation of the search query\n",
    "        t (GTAB): GoogleTrendsAnchorBank to use for the queries it needs to be consistent with the geo parameter\n",
    "\n",
    "    Returns:\n",
    "        dataframe: dataframe concatenating all search queries interest over time data from google\n",
    "    trends\n",
    "\n",
    "    \"\"\"\n",
    "    # For each terrorism related search query create the corresponding interest over time google trends data\n",
    "    all_interest_over_time_dfs = [t.new_query(search_query) for search_query in search_queries]\n",
    "    \n",
    "    # Append the name and location to all dataframes\n",
    "    for i, df in enumerate(all_interest_over_time_dfs):\n",
    "        # Add the article name collumn \n",
    "        df[\"article_name\"] = [search_queries[i]]*len(df)\n",
    "        # Add the localisation collumn\n",
    "        df[\"geo\"] = [\"worldwide\"]*len(df)        \n",
    "    \n",
    "    # Concatenate all dfs into one centrale one\n",
    "    return pd.concat(all_interest_over_time_dfs).reset_index()\n",
    "    \n"
   ]
  },
  {
   "cell_type": "markdown",
   "metadata": {},
   "source": [
    "### Terrorism dataset\n",
    "\n",
    "48 Terrorism related search queries [2012-01-01 -> 2014-08-31]"
   ]
  },
  {
   "cell_type": "code",
   "execution_count": 52,
   "metadata": {},
   "outputs": [
    {
     "data": {
      "text/plain": [
       "48"
      ]
     },
     "execution_count": 52,
     "metadata": {},
     "output_type": "execute_result"
    }
   ],
   "source": [
    "# Create the list of all terrorism search queries\n",
    "#TODO: should we preprocess the queries ie. remove uppercase?\n",
    "\n",
    "len(terrorism_search_queries)"
   ]
  },
  {
   "cell_type": "code",
   "execution_count": 53,
   "metadata": {},
   "outputs": [
    {
     "name": "stdout",
     "output_type": "stream",
     "text": [
      "Using gtab_data\\output\\google_anchorbanks\\google_anchorbank_geo=_timeframe=2012-01-01 2014-08-31.tsv\n",
      "New query 'Al-Qaeda'\n",
      "New query calibrated!\n",
      "Using gtab_data\\output\\google_anchorbanks\\google_anchorbank_geo=_timeframe=2012-01-01 2014-08-31.tsv\n",
      "New query 'terrorism'\n",
      "New query calibrated!\n",
      "Using gtab_data\\output\\google_anchorbanks\\google_anchorbank_geo=_timeframe=2012-01-01 2014-08-31.tsv\n",
      "New query 'terror'\n",
      "New query calibrated!\n",
      "Using gtab_data\\output\\google_anchorbanks\\google_anchorbank_geo=_timeframe=2012-01-01 2014-08-31.tsv\n",
      "New query 'attack'\n",
      "New query calibrated!\n",
      "Using gtab_data\\output\\google_anchorbanks\\google_anchorbank_geo=_timeframe=2012-01-01 2014-08-31.tsv\n",
      "New query 'iraq'\n",
      "New query calibrated!\n",
      "Using gtab_data\\output\\google_anchorbanks\\google_anchorbank_geo=_timeframe=2012-01-01 2014-08-31.tsv\n",
      "New query 'afghanistan'\n",
      "New query calibrated!\n",
      "Using gtab_data\\output\\google_anchorbanks\\google_anchorbank_geo=_timeframe=2012-01-01 2014-08-31.tsv\n",
      "New query 'iran'\n",
      "New query calibrated!\n",
      "Using gtab_data\\output\\google_anchorbanks\\google_anchorbank_geo=_timeframe=2012-01-01 2014-08-31.tsv\n",
      "New query 'Pakistan'\n",
      "New query calibrated!\n",
      "Using gtab_data\\output\\google_anchorbanks\\google_anchorbank_geo=_timeframe=2012-01-01 2014-08-31.tsv\n",
      "New query 'Agro'\n",
      "New query calibrated!\n",
      "Using gtab_data\\output\\google_anchorbanks\\google_anchorbank_geo=_timeframe=2012-01-01 2014-08-31.tsv\n",
      "New query 'Environmental Terrorism'\n",
      "New query calibrated!\n",
      "Using gtab_data\\output\\google_anchorbanks\\google_anchorbank_geo=_timeframe=2012-01-01 2014-08-31.tsv\n",
      "New query 'Eco-Terrorism'\n",
      "New query calibrated!\n",
      "Using gtab_data\\output\\google_anchorbanks\\google_anchorbank_geo=_timeframe=2012-01-01 2014-08-31.tsv\n",
      "New query 'Conventional Weapon'\n",
      "New query calibrated!\n",
      "Using gtab_data\\output\\google_anchorbanks\\google_anchorbank_geo=_timeframe=2012-01-01 2014-08-31.tsv\n",
      "New query 'Weapons Grade'\n",
      "New query calibrated!\n",
      "Using gtab_data\\output\\google_anchorbanks\\google_anchorbank_geo=_timeframe=2012-01-01 2014-08-31.tsv\n",
      "New query 'Dirty Bomb'\n",
      "New query calibrated!\n",
      "Using gtab_data\\output\\google_anchorbanks\\google_anchorbank_geo=_timeframe=2012-01-01 2014-08-31.tsv\n",
      "New query 'Nuclear Enrichment'\n",
      "New query calibrated!\n",
      "Using gtab_data\\output\\google_anchorbanks\\google_anchorbank_geo=_timeframe=2012-01-01 2014-08-31.tsv\n",
      "New query 'Nuclear'\n",
      "New query calibrated!\n",
      "Using gtab_data\\output\\google_anchorbanks\\google_anchorbank_geo=_timeframe=2012-01-01 2014-08-31.tsv\n",
      "New query 'Chemical Weapon'\n",
      "New query calibrated!\n",
      "Using gtab_data\\output\\google_anchorbanks\\google_anchorbank_geo=_timeframe=2012-01-01 2014-08-31.tsv\n",
      "New query 'Biological Weapon'\n",
      "New query calibrated!\n",
      "Using gtab_data\\output\\google_anchorbanks\\google_anchorbank_geo=_timeframe=2012-01-01 2014-08-31.tsv\n",
      "New query 'Ammonium nitrate'\n",
      "New query calibrated!\n",
      "Using gtab_data\\output\\google_anchorbanks\\google_anchorbank_geo=_timeframe=2012-01-01 2014-08-31.tsv\n",
      "New query 'Improvised Explosive Device'\n",
      "New query calibrated!\n",
      "Using gtab_data\\output\\google_anchorbanks\\google_anchorbank_geo=_timeframe=2012-01-01 2014-08-31.tsv\n",
      "New query 'Abu Sayyaf'\n",
      "New query calibrated!\n",
      "Using gtab_data\\output\\google_anchorbanks\\google_anchorbank_geo=_timeframe=2012-01-01 2014-08-31.tsv\n",
      "New query 'Hamas'\n",
      "New query calibrated!\n",
      "Using gtab_data\\output\\google_anchorbanks\\google_anchorbank_geo=_timeframe=2012-01-01 2014-08-31.tsv\n",
      "New query 'FARC'\n",
      "New query calibrated!\n",
      "Using gtab_data\\output\\google_anchorbanks\\google_anchorbank_geo=_timeframe=2012-01-01 2014-08-31.tsv\n",
      "New query 'Irish Republican Army'\n",
      "New query calibrated!\n",
      "Using gtab_data\\output\\google_anchorbanks\\google_anchorbank_geo=_timeframe=2012-01-01 2014-08-31.tsv\n",
      "New query 'Euskadi ta Askatasuna '\n",
      "New query calibrated!\n",
      "Using gtab_data\\output\\google_anchorbanks\\google_anchorbank_geo=_timeframe=2012-01-01 2014-08-31.tsv\n",
      "New query 'Hezbollah'\n",
      "New query calibrated!\n",
      "Using gtab_data\\output\\google_anchorbanks\\google_anchorbank_geo=_timeframe=2012-01-01 2014-08-31.tsv\n",
      "New query 'Tamil Tigers'\n",
      "New query calibrated!\n",
      "Using gtab_data\\output\\google_anchorbanks\\google_anchorbank_geo=_timeframe=2012-01-01 2014-08-31.tsv\n",
      "New query 'PLO'\n",
      "New query calibrated!\n",
      "Using gtab_data\\output\\google_anchorbanks\\google_anchorbank_geo=_timeframe=2012-01-01 2014-08-31.tsv\n",
      "New query 'Palestine Liberation Front'\n",
      "New query calibrated!\n",
      "Using gtab_data\\output\\google_anchorbanks\\google_anchorbank_geo=_timeframe=2012-01-01 2014-08-31.tsv\n",
      "New query 'Car bomb'\n",
      "New query calibrated!\n",
      "Using gtab_data\\output\\google_anchorbanks\\google_anchorbank_geo=_timeframe=2012-01-01 2014-08-31.tsv\n",
      "New query 'Jihad'\n",
      "New query calibrated!\n",
      "Using gtab_data\\output\\google_anchorbanks\\google_anchorbank_geo=_timeframe=2012-01-01 2014-08-31.tsv\n",
      "New query 'Taliban'\n",
      "New query calibrated!\n",
      "Using gtab_data\\output\\google_anchorbanks\\google_anchorbank_geo=_timeframe=2012-01-01 2014-08-31.tsv\n",
      "New query 'Suicide bomber'\n",
      "New query calibrated!\n",
      "Using gtab_data\\output\\google_anchorbanks\\google_anchorbank_geo=_timeframe=2012-01-01 2014-08-31.tsv\n",
      "New query 'Suicide attack'\n",
      "New query calibrated!\n",
      "Using gtab_data\\output\\google_anchorbanks\\google_anchorbank_geo=_timeframe=2012-01-01 2014-08-31.tsv\n",
      "New query 'AL Qaeda in the Arabian Peninsula'\n",
      "New query calibrated!\n",
      "Using gtab_data\\output\\google_anchorbanks\\google_anchorbank_geo=_timeframe=2012-01-01 2014-08-31.tsv\n",
      "New query 'Al Qaeda in the Islamic Maghreb'\n",
      "New query calibrated!\n",
      "Using gtab_data\\output\\google_anchorbanks\\google_anchorbank_geo=_timeframe=2012-01-01 2014-08-31.tsv\n",
      "New query 'Tehrik-i-Taliban Pakistan'\n",
      "New query calibrated!\n",
      "Using gtab_data\\output\\google_anchorbanks\\google_anchorbank_geo=_timeframe=2012-01-01 2014-08-31.tsv\n",
      "New query 'Yemen'\n",
      "New query calibrated!\n",
      "Using gtab_data\\output\\google_anchorbanks\\google_anchorbank_geo=_timeframe=2012-01-01 2014-08-31.tsv\n",
      "New query 'Pirates'\n",
      "New query calibrated!\n",
      "Using gtab_data\\output\\google_anchorbanks\\google_anchorbank_geo=_timeframe=2012-01-01 2014-08-31.tsv\n",
      "New query 'Extremism'\n",
      "New query calibrated!\n",
      "Using gtab_data\\output\\google_anchorbanks\\google_anchorbank_geo=_timeframe=2012-01-01 2014-08-31.tsv\n",
      "New query 'Somalia'\n",
      "New query calibrated!\n",
      "Using gtab_data\\output\\google_anchorbanks\\google_anchorbank_geo=_timeframe=2012-01-01 2014-08-31.tsv\n",
      "New query 'Nigeria'\n",
      "New query calibrated!\n",
      "Using gtab_data\\output\\google_anchorbanks\\google_anchorbank_geo=_timeframe=2012-01-01 2014-08-31.tsv\n",
      "New query 'Political radicalism'\n",
      "New query calibrated!\n",
      "Using gtab_data\\output\\google_anchorbanks\\google_anchorbank_geo=_timeframe=2012-01-01 2014-08-31.tsv\n",
      "New query 'Al-Shabaab'\n",
      "New query calibrated!\n",
      "Using gtab_data\\output\\google_anchorbanks\\google_anchorbank_geo=_timeframe=2012-01-01 2014-08-31.tsv\n",
      "New query 'Nationalism'\n",
      "New query calibrated!\n",
      "Using gtab_data\\output\\google_anchorbanks\\google_anchorbank_geo=_timeframe=2012-01-01 2014-08-31.tsv\n",
      "New query 'Recruitment'\n",
      "New query calibrated!\n",
      "Using gtab_data\\output\\google_anchorbanks\\google_anchorbank_geo=_timeframe=2012-01-01 2014-08-31.tsv\n",
      "New query 'Fundamentalism'\n",
      "New query calibrated!\n",
      "Using gtab_data\\output\\google_anchorbanks\\google_anchorbank_geo=_timeframe=2012-01-01 2014-08-31.tsv\n",
      "New query 'Islamist'\n",
      "New query calibrated!\n"
     ]
    }
   ],
   "source": [
    "# Create terrorism dataframe\n",
    "terrorism_df = create_dataframe(terrorism_search_queries, geo, t)"
   ]
  },
  {
   "cell_type": "code",
   "execution_count": 56,
   "metadata": {},
   "outputs": [
    {
     "data": {
      "text/html": [
       "<div>\n",
       "<style scoped>\n",
       "    .dataframe tbody tr th:only-of-type {\n",
       "        vertical-align: middle;\n",
       "    }\n",
       "\n",
       "    .dataframe tbody tr th {\n",
       "        vertical-align: top;\n",
       "    }\n",
       "\n",
       "    .dataframe thead th {\n",
       "        text-align: right;\n",
       "    }\n",
       "</style>\n",
       "<table border=\"1\" class=\"dataframe\">\n",
       "  <thead>\n",
       "    <tr style=\"text-align: right;\">\n",
       "      <th></th>\n",
       "      <th>date</th>\n",
       "      <th>max_ratio</th>\n",
       "      <th>max_ratio_hi</th>\n",
       "      <th>max_ratio_lo</th>\n",
       "      <th>article_name</th>\n",
       "      <th>geo</th>\n",
       "    </tr>\n",
       "  </thead>\n",
       "  <tbody>\n",
       "    <tr>\n",
       "      <th>0</th>\n",
       "      <td>2012-01-01</td>\n",
       "      <td>0.21</td>\n",
       "      <td>0.215</td>\n",
       "      <td>0.205</td>\n",
       "      <td>Al-Qaeda</td>\n",
       "      <td>worldwide</td>\n",
       "    </tr>\n",
       "    <tr>\n",
       "      <th>1</th>\n",
       "      <td>2012-01-08</td>\n",
       "      <td>0.25</td>\n",
       "      <td>0.255</td>\n",
       "      <td>0.245</td>\n",
       "      <td>Al-Qaeda</td>\n",
       "      <td>worldwide</td>\n",
       "    </tr>\n",
       "    <tr>\n",
       "      <th>2</th>\n",
       "      <td>2012-01-15</td>\n",
       "      <td>0.25</td>\n",
       "      <td>0.255</td>\n",
       "      <td>0.245</td>\n",
       "      <td>Al-Qaeda</td>\n",
       "      <td>worldwide</td>\n",
       "    </tr>\n",
       "    <tr>\n",
       "      <th>3</th>\n",
       "      <td>2012-01-22</td>\n",
       "      <td>0.28</td>\n",
       "      <td>0.285</td>\n",
       "      <td>0.275</td>\n",
       "      <td>Al-Qaeda</td>\n",
       "      <td>worldwide</td>\n",
       "    </tr>\n",
       "    <tr>\n",
       "      <th>4</th>\n",
       "      <td>2012-01-29</td>\n",
       "      <td>0.25</td>\n",
       "      <td>0.255</td>\n",
       "      <td>0.245</td>\n",
       "      <td>Al-Qaeda</td>\n",
       "      <td>worldwide</td>\n",
       "    </tr>\n",
       "  </tbody>\n",
       "</table>\n",
       "</div>"
      ],
      "text/plain": [
       "        date  max_ratio  max_ratio_hi  max_ratio_lo article_name        geo\n",
       "0 2012-01-01       0.21         0.215         0.205     Al-Qaeda  worldwide\n",
       "1 2012-01-08       0.25         0.255         0.245     Al-Qaeda  worldwide\n",
       "2 2012-01-15       0.25         0.255         0.245     Al-Qaeda  worldwide\n",
       "3 2012-01-22       0.28         0.285         0.275     Al-Qaeda  worldwide\n",
       "4 2012-01-29       0.25         0.255         0.245     Al-Qaeda  worldwide"
      ]
     },
     "execution_count": 56,
     "metadata": {},
     "output_type": "execute_result"
    }
   ],
   "source": [
    "# View of created df\n",
    "terrorism_df.head()"
   ]
  },
  {
   "cell_type": "code",
   "execution_count": 57,
   "metadata": {},
   "outputs": [],
   "source": [
    "# Save dataframe to pickle\n",
    "terrorism_df.to_pickle(data_path+\"terrorism.pkl\")"
   ]
  },
  {
   "cell_type": "markdown",
   "metadata": {},
   "source": [
    "### Domestic dataset\n",
    "\n",
    "25 Domestic related search queries [2012-01-01 -> 2014-08-31]"
   ]
  },
  {
   "cell_type": "code",
   "execution_count": 50,
   "metadata": {},
   "outputs": [
    {
     "data": {
      "text/plain": [
       "25"
      ]
     },
     "execution_count": 50,
     "metadata": {},
     "output_type": "execute_result"
    }
   ],
   "source": [
    "# Create the list of all terrorism search queries\n",
    "#TODO: should we preprocess the queries ie. remove uppercase?\n",
    "\n",
    "len(domestic_search_queries)"
   ]
  },
  {
   "cell_type": "code",
   "execution_count": null,
   "metadata": {},
   "outputs": [],
   "source": [
    "# Create dommestic dataframe\n",
    "dommestic_df = create_dataframe(domestic_search_queries, geo, t)"
   ]
  },
  {
   "cell_type": "code",
   "execution_count": null,
   "metadata": {},
   "outputs": [],
   "source": [
    "# View of created df\n",
    "dommestic_df.head()"
   ]
  },
  {
   "cell_type": "code",
   "execution_count": null,
   "metadata": {},
   "outputs": [],
   "source": [
    "# Save dataframe to pickle\n",
    "dommestic_df.to_pickle(data_path+\"dommestic.pkl\")"
   ]
  },
  {
   "cell_type": "markdown",
   "metadata": {},
   "source": [
    "### Top 30 Terrorism dataset\n",
    "\n",
    "top 30 MTurk evaluation terrorism related search queries [2012-01-01 -> 2014-08-31]"
   ]
  },
  {
   "cell_type": "code",
   "execution_count": 58,
   "metadata": {},
   "outputs": [
    {
     "data": {
      "text/plain": [
       "34"
      ]
     },
     "execution_count": 58,
     "metadata": {},
     "output_type": "execute_result"
    }
   ],
   "source": [
    "# Create the list of all terrorism search queries\n",
    "#TODO: should we preprocess the queries ie. remove uppercase?\n",
    "\n",
    "len(top_30_terrorism_search_queries)"
   ]
  },
  {
   "cell_type": "code",
   "execution_count": 59,
   "metadata": {
    "scrolled": true
   },
   "outputs": [
    {
     "name": "stdout",
     "output_type": "stream",
     "text": [
      "Using gtab_data\\output\\google_anchorbanks\\google_anchorbank_geo=_timeframe=2012-01-01 2014-08-31.tsv\n",
      "New query 'Al Qaeda'\n",
      "New query calibrated!\n",
      "Using gtab_data\\output\\google_anchorbanks\\google_anchorbank_geo=_timeframe=2012-01-01 2014-08-31.tsv\n",
      "New query 'Terrorism'\n",
      "New query calibrated!\n",
      "Using gtab_data\\output\\google_anchorbanks\\google_anchorbank_geo=_timeframe=2012-01-01 2014-08-31.tsv\n",
      "New query 'Terror'\n",
      "New query calibrated!\n",
      "Using gtab_data\\output\\google_anchorbanks\\google_anchorbank_geo=_timeframe=2012-01-01 2014-08-31.tsv\n",
      "New query 'Environmental Terrorism'\n",
      "New query calibrated!\n",
      "Using gtab_data\\output\\google_anchorbanks\\google_anchorbank_geo=_timeframe=2012-01-01 2014-08-31.tsv\n",
      "New query 'Eco-terrorism'\n",
      "New query calibrated!\n",
      "Using gtab_data\\output\\google_anchorbanks\\google_anchorbank_geo=_timeframe=2012-01-01 2014-08-31.tsv\n",
      "New query 'Pakistan'\n",
      "New query calibrated!\n",
      "Using gtab_data\\output\\google_anchorbanks\\google_anchorbank_geo=_timeframe=2012-01-01 2014-08-31.tsv\n",
      "New query 'Agro'\n",
      "New query calibrated!\n",
      "Using gtab_data\\output\\google_anchorbanks\\google_anchorbank_geo=_timeframe=2012-01-01 2014-08-31.tsv\n",
      "New query 'Environmental Terrorism'\n",
      "New query calibrated!\n",
      "Using gtab_data\\output\\google_anchorbanks\\google_anchorbank_geo=_timeframe=2012-01-01 2014-08-31.tsv\n",
      "New query 'Eco-Terrorism'\n",
      "New query calibrated!\n",
      "Using gtab_data\\output\\google_anchorbanks\\google_anchorbank_geo=_timeframe=2012-01-01 2014-08-31.tsv\n",
      "New query 'Conventional Weapon'\n",
      "New query calibrated!\n",
      "Using gtab_data\\output\\google_anchorbanks\\google_anchorbank_geo=_timeframe=2012-01-01 2014-08-31.tsv\n",
      "New query 'Weapons Grade'\n",
      "New query calibrated!\n",
      "Using gtab_data\\output\\google_anchorbanks\\google_anchorbank_geo=_timeframe=2012-01-01 2014-08-31.tsv\n",
      "New query 'Dirty Bomb'\n",
      "New query calibrated!\n",
      "Using gtab_data\\output\\google_anchorbanks\\google_anchorbank_geo=_timeframe=2012-01-01 2014-08-31.tsv\n",
      "New query 'Nuclear Enrichment'\n",
      "New query calibrated!\n",
      "Using gtab_data\\output\\google_anchorbanks\\google_anchorbank_geo=_timeframe=2012-01-01 2014-08-31.tsv\n",
      "New query 'Nuclear'\n",
      "New query calibrated!\n",
      "Using gtab_data\\output\\google_anchorbanks\\google_anchorbank_geo=_timeframe=2012-01-01 2014-08-31.tsv\n",
      "New query 'Chemical Weapon'\n",
      "New query calibrated!\n",
      "Using gtab_data\\output\\google_anchorbanks\\google_anchorbank_geo=_timeframe=2012-01-01 2014-08-31.tsv\n",
      "New query 'Biological Weapon'\n",
      "New query calibrated!\n",
      "Using gtab_data\\output\\google_anchorbanks\\google_anchorbank_geo=_timeframe=2012-01-01 2014-08-31.tsv\n",
      "New query 'Improvised Explosive Device'\n",
      "New query calibrated!\n",
      "Using gtab_data\\output\\google_anchorbanks\\google_anchorbank_geo=_timeframe=2012-01-01 2014-08-31.tsv\n",
      "New query 'Abu Sayyaf'\n",
      "New query calibrated!\n",
      "Using gtab_data\\output\\google_anchorbanks\\google_anchorbank_geo=_timeframe=2012-01-01 2014-08-31.tsv\n",
      "New query 'FARC'\n",
      "New query calibrated!\n",
      "Using gtab_data\\output\\google_anchorbanks\\google_anchorbank_geo=_timeframe=2012-01-01 2014-08-31.tsv\n",
      "New query 'Euskadi ta Askatasuna '\n",
      "New query calibrated!\n",
      "Using gtab_data\\output\\google_anchorbanks\\google_anchorbank_geo=_timeframe=2012-01-01 2014-08-31.tsv\n",
      "New query 'Hezbollah'\n",
      "New query calibrated!\n",
      "Using gtab_data\\output\\google_anchorbanks\\google_anchorbank_geo=_timeframe=2012-01-01 2014-08-31.tsv\n",
      "New query 'Palestine Liberation Front'\n",
      "New query calibrated!\n",
      "Using gtab_data\\output\\google_anchorbanks\\google_anchorbank_geo=_timeframe=2012-01-01 2014-08-31.tsv\n",
      "New query 'Car bomb'\n",
      "New query calibrated!\n",
      "Using gtab_data\\output\\google_anchorbanks\\google_anchorbank_geo=_timeframe=2012-01-01 2014-08-31.tsv\n",
      "New query 'Jihad'\n",
      "New query calibrated!\n",
      "Using gtab_data\\output\\google_anchorbanks\\google_anchorbank_geo=_timeframe=2012-01-01 2014-08-31.tsv\n",
      "New query 'Taliban'\n",
      "New query calibrated!\n",
      "Using gtab_data\\output\\google_anchorbanks\\google_anchorbank_geo=_timeframe=2012-01-01 2014-08-31.tsv\n",
      "New query 'Suicide bomber'\n",
      "New query calibrated!\n",
      "Using gtab_data\\output\\google_anchorbanks\\google_anchorbank_geo=_timeframe=2012-01-01 2014-08-31.tsv\n",
      "New query 'Suicide attack'\n",
      "New query calibrated!\n",
      "Using gtab_data\\output\\google_anchorbanks\\google_anchorbank_geo=_timeframe=2012-01-01 2014-08-31.tsv\n",
      "New query 'AL Qaeda in the Arabian Peninsula'\n",
      "New query calibrated!\n",
      "Using gtab_data\\output\\google_anchorbanks\\google_anchorbank_geo=_timeframe=2012-01-01 2014-08-31.tsv\n",
      "New query 'Al Qaeda in the Islamic Maghreb'\n",
      "New query calibrated!\n",
      "Using gtab_data\\output\\google_anchorbanks\\google_anchorbank_geo=_timeframe=2012-01-01 2014-08-31.tsv\n",
      "New query 'Tehrik-i-Taliban Pakistan'\n",
      "New query calibrated!\n",
      "Using gtab_data\\output\\google_anchorbanks\\google_anchorbank_geo=_timeframe=2012-01-01 2014-08-31.tsv\n",
      "New query 'Political radicalism'\n",
      "New query calibrated!\n",
      "Using gtab_data\\output\\google_anchorbanks\\google_anchorbank_geo=_timeframe=2012-01-01 2014-08-31.tsv\n",
      "New query 'Al-Shabaab'\n",
      "New query calibrated!\n",
      "Using gtab_data\\output\\google_anchorbanks\\google_anchorbank_geo=_timeframe=2012-01-01 2014-08-31.tsv\n",
      "New query 'Recruitment'\n",
      "New query calibrated!\n",
      "Using gtab_data\\output\\google_anchorbanks\\google_anchorbank_geo=_timeframe=2012-01-01 2014-08-31.tsv\n",
      "New query 'Islamist'\n",
      "New query calibrated!\n"
     ]
    }
   ],
   "source": [
    "\n",
    "# Create dommestic dataframe\n",
    "top_30_terrorism_df = create_dataframe(top_30_terrorism_search_queries, geo, t)"
   ]
  },
  {
   "cell_type": "code",
   "execution_count": 60,
   "metadata": {},
   "outputs": [
    {
     "data": {
      "text/html": [
       "<div>\n",
       "<style scoped>\n",
       "    .dataframe tbody tr th:only-of-type {\n",
       "        vertical-align: middle;\n",
       "    }\n",
       "\n",
       "    .dataframe tbody tr th {\n",
       "        vertical-align: top;\n",
       "    }\n",
       "\n",
       "    .dataframe thead th {\n",
       "        text-align: right;\n",
       "    }\n",
       "</style>\n",
       "<table border=\"1\" class=\"dataframe\">\n",
       "  <thead>\n",
       "    <tr style=\"text-align: right;\">\n",
       "      <th></th>\n",
       "      <th>date</th>\n",
       "      <th>max_ratio</th>\n",
       "      <th>max_ratio_hi</th>\n",
       "      <th>max_ratio_lo</th>\n",
       "      <th>article_name</th>\n",
       "      <th>geo</th>\n",
       "    </tr>\n",
       "  </thead>\n",
       "  <tbody>\n",
       "    <tr>\n",
       "      <th>0</th>\n",
       "      <td>2012-01-01</td>\n",
       "      <td>1.575758</td>\n",
       "      <td>1.695447</td>\n",
       "      <td>1.463272</td>\n",
       "      <td>Al Qaeda</td>\n",
       "      <td>worldwide</td>\n",
       "    </tr>\n",
       "    <tr>\n",
       "      <th>1</th>\n",
       "      <td>2012-01-08</td>\n",
       "      <td>1.575758</td>\n",
       "      <td>1.695447</td>\n",
       "      <td>1.463272</td>\n",
       "      <td>Al Qaeda</td>\n",
       "      <td>worldwide</td>\n",
       "    </tr>\n",
       "    <tr>\n",
       "      <th>2</th>\n",
       "      <td>2012-01-15</td>\n",
       "      <td>1.818182</td>\n",
       "      <td>1.946625</td>\n",
       "      <td>1.697395</td>\n",
       "      <td>Al Qaeda</td>\n",
       "      <td>worldwide</td>\n",
       "    </tr>\n",
       "    <tr>\n",
       "      <th>3</th>\n",
       "      <td>2012-01-22</td>\n",
       "      <td>1.575758</td>\n",
       "      <td>1.695447</td>\n",
       "      <td>1.463272</td>\n",
       "      <td>Al Qaeda</td>\n",
       "      <td>worldwide</td>\n",
       "    </tr>\n",
       "    <tr>\n",
       "      <th>4</th>\n",
       "      <td>2012-01-29</td>\n",
       "      <td>1.454545</td>\n",
       "      <td>1.569859</td>\n",
       "      <td>1.346210</td>\n",
       "      <td>Al Qaeda</td>\n",
       "      <td>worldwide</td>\n",
       "    </tr>\n",
       "  </tbody>\n",
       "</table>\n",
       "</div>"
      ],
      "text/plain": [
       "        date  max_ratio  max_ratio_hi  max_ratio_lo article_name        geo\n",
       "0 2012-01-01   1.575758      1.695447      1.463272     Al Qaeda  worldwide\n",
       "1 2012-01-08   1.575758      1.695447      1.463272     Al Qaeda  worldwide\n",
       "2 2012-01-15   1.818182      1.946625      1.697395     Al Qaeda  worldwide\n",
       "3 2012-01-22   1.575758      1.695447      1.463272     Al Qaeda  worldwide\n",
       "4 2012-01-29   1.454545      1.569859      1.346210     Al Qaeda  worldwide"
      ]
     },
     "execution_count": 60,
     "metadata": {},
     "output_type": "execute_result"
    }
   ],
   "source": [
    "# View of created df\n",
    "top_30_terrorism_df.head()"
   ]
  },
  {
   "cell_type": "code",
   "execution_count": 61,
   "metadata": {},
   "outputs": [],
   "source": [
    "# Save dataframe to pickle\n",
    "top_30_terrorism_df.to_pickle(data_path+\"top_30_terrorism.pkl\")"
   ]
  },
  {
   "cell_type": "code",
   "execution_count": 15,
   "metadata": {},
   "outputs": [
    {
     "name": "stdout",
     "output_type": "stream",
     "text": [
      "Using gtab_data\\output\\google_anchorbanks\\google_anchorbank_geo=_timeframe=2012-01-01 2014-08-31.tsv\n",
      "New query '/g/11cr_hd3g5'\n",
      "New query calibrated!\n"
     ]
    }
   ],
   "source": [
    "dff = create_dataframe([\"/g/11cr_hd3g5\"], geo, t)\n"
   ]
  },
  {
   "cell_type": "code",
   "execution_count": 17,
   "metadata": {},
   "outputs": [
    {
     "data": {
      "text/plain": [
       "0.017962285714285726"
      ]
     },
     "execution_count": 17,
     "metadata": {},
     "output_type": "execute_result"
    }
   ],
   "source": [
    "dff.max_ratio.mean()"
   ]
  },
  {
   "cell_type": "code",
   "execution_count": null,
   "metadata": {},
   "outputs": [],
   "source": []
  }
 ],
 "metadata": {
  "kernelspec": {
   "display_name": "Python 3",
   "language": "python",
   "name": "python3"
  },
  "language_info": {
   "codemirror_mode": {
    "name": "ipython",
    "version": 3
   },
   "file_extension": ".py",
   "mimetype": "text/x-python",
   "name": "python",
   "nbconvert_exporter": "python",
   "pygments_lexer": "ipython3",
   "version": "3.8.5"
  }
 },
 "nbformat": 4,
 "nbformat_minor": 4
}
