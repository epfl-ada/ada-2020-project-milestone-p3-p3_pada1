{
 "cells": [
  {
   "cell_type": "markdown",
   "metadata": {},
   "source": [
    "RIP pour\n",
    "\n",
    "    - Environmental Terrorism\n",
    "    - Secure Border Initiative"
   ]
  },
  {
   "cell_type": "markdown",
   "metadata": {},
   "source": [
    "# Data Wrangling\n",
    "\n",
    "In this notebook we will create the following datasets:\n",
    "\n",
    "    - 48 Terrorism related search queries [2012-01-01 -> 2014-08-31]\n",
    "    - 25 Domestic related search queries [2012-01-01 -> 2014-08-31]\n",
    "    - top 30 MTurk evaluation terrorism related search queries [2012-01-01 -> 2014-08-31]\n",
    "    - 48 Terrorism related search queries [2012-01-01 -> 2020-11-30]\n",
    "    - 25 Domestic related search queries [2012-01-01 -> 2020-11-30]\n",
    "    - top 30 MTurk evaluation terrorism related search queries [2012-01-01 -> 2020-11-30]\n"
   ]
  },
  {
   "cell_type": "markdown",
   "metadata": {},
   "source": [
    "### Imports"
   ]
  },
  {
   "cell_type": "code",
   "execution_count": 2,
   "metadata": {},
   "outputs": [
    {
     "name": "stdout",
     "output_type": "stream",
     "text": [
      "Requirement already satisfied: gtab in d:\\programdata\\anaconda3\\lib\\site-packages (0.4)\n",
      "Requirement already satisfied: networkx in d:\\programdata\\anaconda3\\lib\\site-packages (from gtab) (2.5)\n",
      "Requirement already satisfied: numpy in d:\\programdata\\anaconda3\\lib\\site-packages (from gtab) (1.19.1)\n",
      "Requirement already satisfied: pandas in d:\\programdata\\anaconda3\\lib\\site-packages (from gtab) (1.1.1)\n",
      "Requirement already satisfied: tqdm in d:\\programdata\\anaconda3\\lib\\site-packages (from gtab) (4.49.0)\n",
      "Requirement already satisfied: pytrends in d:\\programdata\\anaconda3\\lib\\site-packages (from gtab) (4.7.3)\n",
      "Requirement already satisfied: decorator>=4.3.0 in d:\\programdata\\anaconda3\\lib\\site-packages (from networkx->gtab) (4.4.2)\n",
      "Requirement already satisfied: pytz>=2017.2 in d:\\programdata\\anaconda3\\lib\\site-packages (from pandas->gtab) (2020.1)\n",
      "Requirement already satisfied: python-dateutil>=2.7.3 in d:\\programdata\\anaconda3\\lib\\site-packages (from pandas->gtab) (2.8.1)\n",
      "Requirement already satisfied: requests in d:\\programdata\\anaconda3\\lib\\site-packages (from pytrends->gtab) (2.24.0)\n",
      "Requirement already satisfied: lxml in d:\\programdata\\anaconda3\\lib\\site-packages (from pytrends->gtab) (4.5.2)\n",
      "Requirement already satisfied: six>=1.5 in d:\\programdata\\anaconda3\\lib\\site-packages (from python-dateutil>=2.7.3->pandas->gtab) (1.15.0)\n",
      "Requirement already satisfied: certifi>=2017.4.17 in d:\\programdata\\anaconda3\\lib\\site-packages (from requests->pytrends->gtab) (2020.6.20)\n",
      "Requirement already satisfied: idna<3,>=2.5 in d:\\programdata\\anaconda3\\lib\\site-packages (from requests->pytrends->gtab) (2.10)\n",
      "Requirement already satisfied: chardet<4,>=3.0.2 in d:\\programdata\\anaconda3\\lib\\site-packages (from requests->pytrends->gtab) (3.0.4)\n",
      "Requirement already satisfied: urllib3!=1.25.0,!=1.25.1,<1.26,>=1.21.1 in d:\\programdata\\anaconda3\\lib\\site-packages (from requests->pytrends->gtab) (1.25.10)\n"
     ]
    }
   ],
   "source": [
    "!pip install gtab\n",
    "import gtab\n",
    "import matplotlib.pyplot as plt\n",
    "import pandas as pd\n",
    "import numpy as np"
   ]
  },
  {
   "cell_type": "code",
   "execution_count": 3,
   "metadata": {},
   "outputs": [],
   "source": [
    "# Directory to save data\n",
    "data_path = \"data/\""
   ]
  },
  {
   "cell_type": "markdown",
   "metadata": {},
   "source": [
    "### Create and set GoogleTrendsAnchorBank for queries"
   ]
  },
  {
   "cell_type": "code",
   "execution_count": 11,
   "metadata": {},
   "outputs": [],
   "source": [
    "def create_and_set_gtab(start_timeframe, end_timeframe, geo, gtab_path = \"gtab_data\"):\n",
    "    \"\"\"Creates and sets a gtab to the required options.\n",
    "    This functions takes a lot of time if the anchorbank was not yet created.\n",
    "    It also creates a directory if needed to the gtab_path\n",
    "\n",
    "    Args:\n",
    "        start_timeframe (str): start of the timeframe for the queries (included)\n",
    "        end_timeframe (str): end of the timeframe for the queries (included)\n",
    "        geo (str): geolocalisation of the search query\n",
    "        gtab_path (str): path to already existing data\n",
    "\n",
    "    Returns:\n",
    "        t (GTAB): GoogleTrendsAnchorBank to use for the queries, consistent with the provided options\n",
    "\n",
    "    \"\"\"\n",
    "    t = gtab.GTAB(dir_path=gtab_path)\n",
    "    # Create time frame\n",
    "    timeframe = start_timeframe + \" \" + end_timeframe\n",
    "    \n",
    "    # Set required options\n",
    "    t.set_options(pytrends_config={\"geo\": geo, \"timeframe\": timeframe})  \n",
    "    \n",
    "    # Create anchorbank if it doesn't already exist\n",
    "    t.create_anchorbank() # takes a while to run since it queries Google Trends. \n",
    "    \n",
    "    # We apply the anchorbank\n",
    "    t.set_active_gtab(f\"google_anchorbank_geo={worldwide}_timeframe={timeframe}.tsv\")\n",
    "    \n",
    "    return t"
   ]
  },
  {
   "cell_type": "code",
   "execution_count": 16,
   "metadata": {},
   "outputs": [
    {
     "name": "stdout",
     "output_type": "stream",
     "text": [
      "Directory already exists, loading data from it.\n",
      "Using directory 'gtab_data'\n",
      "Active anchorbank changed to: google_anchorbank_geo=_timeframe=2019-01-01 2020-08-01.tsv\n",
      "\n",
      "Start AnchorBank init for region  in timeframe 2012-01-01 2014-08-31...\n",
      "GTAB with such parameters already exists! Load it with 'set_active_gtab(filename)' or rename/delete it to create another one with this name.\n",
      "Active anchorbank changed to: google_anchorbank_geo=_timeframe=2012-01-01 2014-08-31.tsv\n",
      "\n"
     ]
    }
   ],
   "source": [
    "#TODO: should we include until present time for an extended analysis?\n",
    "# Create time frame corresponding to the paper study\n",
    "start_timeframe = \"2012-01-01\"\n",
    "end_timeframe   = \"2014-08-31\" #TODO: si cest borne inclu (ca a l'air detre le cas) sinon =>\"2014-09-01\"\n",
    "timeframe = start_timeframe + \" \" + end_timeframe\n",
    "\n",
    "# We choose the worldwide geolocalisation to mimic wikipedia\n",
    "worldwide = \"\" # empty string corresponds to worldwide\n",
    "\n",
    "t = create_and_set_gtab(start_timeframe, end_timeframe, worldwide)"
   ]
  },
  {
   "cell_type": "markdown",
   "metadata": {},
   "source": [
    "## Create paper timeframe dataframes"
   ]
  },
  {
   "cell_type": "code",
   "execution_count": 5,
   "metadata": {},
   "outputs": [],
   "source": [
    "def create_dataframe(search_queries, geo, t):\n",
    "    \"\"\"Creates a dataframe concatenating all search queries interest over time data from google\n",
    "    trends. The data will have as an added collumn the names of the original search and the \n",
    "    geolocalisation of the search query.\n",
    "    The returned dataframe has attributes:\n",
    "    {date, max_ratio  max_ratio_hi  max_ratio_l, article_name, geo}\n",
    "\n",
    "    Args:\n",
    "        search_queries (list[string]): List of all required search queries for the full dataframe\n",
    "        geo (str): geolocalisation of the search query\n",
    "        t (GTAB): GoogleTrendsAnchorBank to use for the queries it needs to be consistent with the geo parameter\n",
    "\n",
    "    Returns:\n",
    "        dataframe: dataframe concatenating all search queries interest over time data from google\n",
    "    trends\n",
    "\n",
    "    \"\"\"\n",
    "    # For each search query create the corresponding interest over time google trends data\n",
    "    all_interest_over_time_dfs = [t.new_query(search_query) for search_query in search_queries]\n",
    "    \n",
    "    # Remove all queries who failed\n",
    "    all_interest_over_time_dfs = [df for df in all_interest_over_time_dfs if type(df) != type(-1)]\n",
    "    \n",
    "    # Append the name and location to all dataframes\n",
    "    for i, df in enumerate(all_interest_over_time_dfs):\n",
    "        # Add the article name collumn \n",
    "        df[\"article_name\"] = [search_queries[i]]*len(df)\n",
    "        # Add the localisation collumn\n",
    "        df[\"geo\"] = [\"worldwide\" if geo == \"\" else geo]*len(df)        \n",
    "    \n",
    "    # Concatenate all dfs into one centrale one\n",
    "    return pd.concat(all_interest_over_time_dfs).reset_index()"
   ]
  },
  {
   "cell_type": "code",
   "execution_count": 6,
   "metadata": {},
   "outputs": [],
   "source": [
    "def get_topics(domain_name, data_path):\n",
    "    \"\"\"Gives the list of all topics corresponding to the search queries for the specific domain.\n",
    "    \n",
    "    Args:\n",
    "         domain_name (str): domain name of the search queries (i.e: terrorism, domestic, top_30_terrorism)\n",
    "         data_path (str): directory path containing the mapping pickle file \n",
    "    \n",
    "    Returns:\n",
    "        list of all topics for this domain\n",
    "    \"\"\"\n",
    "    \n",
    "    mapping_df = pd.read_pickle(data_path+\"mapping.pkl\")\n",
    "    \n",
    "    return mapping_df[mapping_df[\"domain_name\"] == domain_name][\"node_equivalent\"].tolist()"
   ]
  },
  {
   "cell_type": "markdown",
   "metadata": {},
   "source": [
    "### Terrorism dataset\n",
    "\n",
    "48 Terrorism related search queries [2012-01-01 -> 2014-08-31]"
   ]
  },
  {
   "cell_type": "code",
   "execution_count": 7,
   "metadata": {},
   "outputs": [],
   "source": [
    "# Find all topics for this dataset\n",
    "terrorism_topic_queries = get_topics(\"terrorism\", data_path)"
   ]
  },
  {
   "cell_type": "code",
   "execution_count": 35,
   "metadata": {},
   "outputs": [
    {
     "name": "stdout",
     "output_type": "stream",
     "text": [
      "Using gtab_data\\output\\google_anchorbanks\\google_anchorbank_geo=_timeframe=2012-01-01 2014-08-31.tsv\n",
      "New query '/m/0v74'\n",
      "New query calibrated!\n",
      "Using gtab_data\\output\\google_anchorbanks\\google_anchorbank_geo=_timeframe=2012-01-01 2014-08-31.tsv\n",
      "New query '/m/07jq_'\n",
      "New query calibrated!\n",
      "Using gtab_data\\output\\google_anchorbanks\\google_anchorbank_geo=_timeframe=2012-01-01 2014-08-31.tsv\n",
      "New query '/m/07jq_'\n",
      "New query calibrated!\n",
      "Using gtab_data\\output\\google_anchorbanks\\google_anchorbank_geo=_timeframe=2012-01-01 2014-08-31.tsv\n",
      "New query '/m/0gtxdb2'\n",
      "New query calibrated!\n",
      "Using gtab_data\\output\\google_anchorbanks\\google_anchorbank_geo=_timeframe=2012-01-01 2014-08-31.tsv\n",
      "New query '/m/0d05q4'\n",
      "New query calibrated!\n",
      "Using gtab_data\\output\\google_anchorbanks\\google_anchorbank_geo=_timeframe=2012-01-01 2014-08-31.tsv\n",
      "New query '/m/0jdd'\n",
      "New query calibrated!\n",
      "Using gtab_data\\output\\google_anchorbanks\\google_anchorbank_geo=_timeframe=2012-01-01 2014-08-31.tsv\n",
      "New query '/m/03shp'\n",
      "New query calibrated!\n",
      "Using gtab_data\\output\\google_anchorbanks\\google_anchorbank_geo=_timeframe=2012-01-01 2014-08-31.tsv\n",
      "New query '/m/05sb1'\n",
      "New query calibrated!\n",
      "Using gtab_data\\output\\google_anchorbanks\\google_anchorbank_geo=_timeframe=2012-01-01 2014-08-31.tsv\n",
      "New query '/m/019jkv'\n",
      "New query calibrated!\n",
      "Using gtab_data\\output\\google_anchorbanks\\google_anchorbank_geo=_timeframe=2012-01-01 2014-08-31.tsv\n",
      "New query '/m/02w1mcd'\n",
      "\n",
      "Bad keyword '/m/02w1mcd', because The request failed: Google returned a response with code 400.\n",
      "Keyword /m/02w1mcd is bad!\n",
      "Using gtab_data\\output\\google_anchorbanks\\google_anchorbank_geo=_timeframe=2012-01-01 2014-08-31.tsv\n",
      "New query '/m/01s60b'\n",
      "New query calibrated!\n",
      "Using gtab_data\\output\\google_anchorbanks\\google_anchorbank_geo=_timeframe=2012-01-01 2014-08-31.tsv\n",
      "New query '/m/02t93h'\n",
      "New query calibrated!\n",
      "Using gtab_data\\output\\google_anchorbanks\\google_anchorbank_geo=_timeframe=2012-01-01 2014-08-31.tsv\n",
      "New query '/m/0blqm8'\n",
      "New query calibrated!\n",
      "Using gtab_data\\output\\google_anchorbanks\\google_anchorbank_geo=_timeframe=2012-01-01 2014-08-31.tsv\n",
      "New query '/m/0fjf_'\n",
      "New query calibrated!\n",
      "Using gtab_data\\output\\google_anchorbanks\\google_anchorbank_geo=_timeframe=2012-01-01 2014-08-31.tsv\n",
      "New query '/m/04xkp'\n",
      "New query calibrated!\n",
      "Using gtab_data\\output\\google_anchorbanks\\google_anchorbank_geo=_timeframe=2012-01-01 2014-08-31.tsv\n",
      "New query '/m/0bwkbcx'\n",
      "New query calibrated!\n",
      "Using gtab_data\\output\\google_anchorbanks\\google_anchorbank_geo=_timeframe=2012-01-01 2014-08-31.tsv\n",
      "New query '/m/01xmw0'\n",
      "New query calibrated!\n",
      "Using gtab_data\\output\\google_anchorbanks\\google_anchorbank_geo=_timeframe=2012-01-01 2014-08-31.tsv\n",
      "New query '/m/0ny03'\n",
      "New query calibrated!\n",
      "Using gtab_data\\output\\google_anchorbanks\\google_anchorbank_geo=_timeframe=2012-01-01 2014-08-31.tsv\n",
      "New query '/m/01n8xw'\n",
      "New query calibrated!\n",
      "Using gtab_data\\output\\google_anchorbanks\\google_anchorbank_geo=_timeframe=2012-01-01 2014-08-31.tsv\n",
      "New query '/m/0xq_'\n",
      "New query calibrated!\n",
      "Using gtab_data\\output\\google_anchorbanks\\google_anchorbank_geo=_timeframe=2012-01-01 2014-08-31.tsv\n",
      "New query '/m/03m6j'\n",
      "New query calibrated!\n",
      "Using gtab_data\\output\\google_anchorbanks\\google_anchorbank_geo=_timeframe=2012-01-01 2014-08-31.tsv\n",
      "New query '/m/011ys5'\n",
      "New query calibrated!\n",
      "Using gtab_data\\output\\google_anchorbanks\\google_anchorbank_geo=_timeframe=2012-01-01 2014-08-31.tsv\n",
      "New query '/m/05sz6'\n",
      "New query calibrated!\n",
      "Using gtab_data\\output\\google_anchorbanks\\google_anchorbank_geo=_timeframe=2012-01-01 2014-08-31.tsv\n",
      "New query '/m/02pvw'\n",
      "New query calibrated!\n",
      "Using gtab_data\\output\\google_anchorbanks\\google_anchorbank_geo=_timeframe=2012-01-01 2014-08-31.tsv\n",
      "New query '/m/03m7d'\n",
      "New query calibrated!\n",
      "Using gtab_data\\output\\google_anchorbanks\\google_anchorbank_geo=_timeframe=2012-01-01 2014-08-31.tsv\n",
      "New query '/m/04q9w'\n",
      "New query calibrated!\n",
      "Using gtab_data\\output\\google_anchorbanks\\google_anchorbank_geo=_timeframe=2012-01-01 2014-08-31.tsv\n",
      "New query '/m/0jz65'\n",
      "New query calibrated!\n",
      "Using gtab_data\\output\\google_anchorbanks\\google_anchorbank_geo=_timeframe=2012-01-01 2014-08-31.tsv\n",
      "New query '/m/01d_w8'\n",
      "New query calibrated!\n",
      "Using gtab_data\\output\\google_anchorbanks\\google_anchorbank_geo=_timeframe=2012-01-01 2014-08-31.tsv\n",
      "New query '/m/014bmh'\n",
      "New query calibrated!\n",
      "Using gtab_data\\output\\google_anchorbanks\\google_anchorbank_geo=_timeframe=2012-01-01 2014-08-31.tsv\n",
      "New query '/m/0445s'\n",
      "New query calibrated!\n",
      "Using gtab_data\\output\\google_anchorbanks\\google_anchorbank_geo=_timeframe=2012-01-01 2014-08-31.tsv\n",
      "New query '/m/07jqh'\n",
      "New query calibrated!\n",
      "Using gtab_data\\output\\google_anchorbanks\\google_anchorbank_geo=_timeframe=2012-01-01 2014-08-31.tsv\n",
      "New query '/m/078f4'\n",
      "New query calibrated!\n",
      "Using gtab_data\\output\\google_anchorbanks\\google_anchorbank_geo=_timeframe=2012-01-01 2014-08-31.tsv\n",
      "New query '/m/02psd87'\n",
      "New query calibrated!\n",
      "Using gtab_data\\output\\google_anchorbanks\\google_anchorbank_geo=_timeframe=2012-01-01 2014-08-31.tsv\n",
      "New query '/m/02qr9gb'\n",
      "New query calibrated!\n",
      "Using gtab_data\\output\\google_anchorbanks\\google_anchorbank_geo=_timeframe=2012-01-01 2014-08-31.tsv\n",
      "New query '/m/04jhbb_'\n",
      "New query calibrated!\n",
      "Using gtab_data\\output\\google_anchorbanks\\google_anchorbank_geo=_timeframe=2012-01-01 2014-08-31.tsv\n",
      "New query '/m/01z88t'\n",
      "New query calibrated!\n",
      "Using gtab_data\\output\\google_anchorbanks\\google_anchorbank_geo=_timeframe=2012-01-01 2014-08-31.tsv\n",
      "New query '/m/01vksx'\n",
      "New query calibrated!\n",
      "Using gtab_data\\output\\google_anchorbanks\\google_anchorbank_geo=_timeframe=2012-01-01 2014-08-31.tsv\n",
      "New query '/m/027947'\n",
      "New query calibrated!\n",
      "Using gtab_data\\output\\google_anchorbanks\\google_anchorbank_geo=_timeframe=2012-01-01 2014-08-31.tsv\n",
      "New query '/m/06tgw'\n",
      "New query calibrated!\n",
      "Using gtab_data\\output\\google_anchorbanks\\google_anchorbank_geo=_timeframe=2012-01-01 2014-08-31.tsv\n",
      "New query '/m/05cgv'\n",
      "New query calibrated!\n",
      "Using gtab_data\\output\\google_anchorbanks\\google_anchorbank_geo=_timeframe=2012-01-01 2014-08-31.tsv\n",
      "New query '/m/03mhnhh'\n",
      "New query calibrated!\n",
      "Using gtab_data\\output\\google_anchorbanks\\google_anchorbank_geo=_timeframe=2012-01-01 2014-08-31.tsv\n",
      "New query '/m/027ggxz'\n",
      "New query calibrated!\n",
      "Using gtab_data\\output\\google_anchorbanks\\google_anchorbank_geo=_timeframe=2012-01-01 2014-08-31.tsv\n",
      "New query '/m/05gd9'\n",
      "New query calibrated!\n",
      "Using gtab_data\\output\\google_anchorbanks\\google_anchorbank_geo=_timeframe=2012-01-01 2014-08-31.tsv\n",
      "New query '/m/03nw7w'\n",
      "New query calibrated!\n",
      "Using gtab_data\\output\\google_anchorbanks\\google_anchorbank_geo=_timeframe=2012-01-01 2014-08-31.tsv\n",
      "New query '/m/032b8'\n",
      "New query calibrated!\n",
      "Using gtab_data\\output\\google_anchorbanks\\google_anchorbank_geo=_timeframe=2012-01-01 2014-08-31.tsv\n",
      "New query '/m/02qs3j'\n",
      "New query calibrated!\n"
     ]
    }
   ],
   "source": [
    "# Create terrorism dataframe\n",
    "terrorism_df = create_dataframe(terrorism_topic_queries, worldwide, t)\n"
   ]
  },
  {
   "cell_type": "code",
   "execution_count": 36,
   "metadata": {},
   "outputs": [
    {
     "data": {
      "text/html": [
       "<div>\n",
       "<style scoped>\n",
       "    .dataframe tbody tr th:only-of-type {\n",
       "        vertical-align: middle;\n",
       "    }\n",
       "\n",
       "    .dataframe tbody tr th {\n",
       "        vertical-align: top;\n",
       "    }\n",
       "\n",
       "    .dataframe thead th {\n",
       "        text-align: right;\n",
       "    }\n",
       "</style>\n",
       "<table border=\"1\" class=\"dataframe\">\n",
       "  <thead>\n",
       "    <tr style=\"text-align: right;\">\n",
       "      <th></th>\n",
       "      <th>date</th>\n",
       "      <th>max_ratio</th>\n",
       "      <th>max_ratio_hi</th>\n",
       "      <th>max_ratio_lo</th>\n",
       "      <th>article_name</th>\n",
       "      <th>geo</th>\n",
       "    </tr>\n",
       "  </thead>\n",
       "  <tbody>\n",
       "    <tr>\n",
       "      <th>0</th>\n",
       "      <td>2012-01-01</td>\n",
       "      <td>2.934609</td>\n",
       "      <td>3.123105</td>\n",
       "      <td>2.757999</td>\n",
       "      <td>/m/0v74</td>\n",
       "      <td>worldwide</td>\n",
       "    </tr>\n",
       "    <tr>\n",
       "      <th>1</th>\n",
       "      <td>2012-01-08</td>\n",
       "      <td>3.317384</td>\n",
       "      <td>3.521799</td>\n",
       "      <td>3.125733</td>\n",
       "      <td>/m/0v74</td>\n",
       "      <td>worldwide</td>\n",
       "    </tr>\n",
       "    <tr>\n",
       "      <th>2</th>\n",
       "      <td>2012-01-15</td>\n",
       "      <td>3.827751</td>\n",
       "      <td>4.053392</td>\n",
       "      <td>3.616044</td>\n",
       "      <td>/m/0v74</td>\n",
       "      <td>worldwide</td>\n",
       "    </tr>\n",
       "    <tr>\n",
       "      <th>3</th>\n",
       "      <td>2012-01-22</td>\n",
       "      <td>3.572568</td>\n",
       "      <td>3.787596</td>\n",
       "      <td>3.370888</td>\n",
       "      <td>/m/0v74</td>\n",
       "      <td>worldwide</td>\n",
       "    </tr>\n",
       "    <tr>\n",
       "      <th>4</th>\n",
       "      <td>2012-01-29</td>\n",
       "      <td>3.444976</td>\n",
       "      <td>3.654698</td>\n",
       "      <td>3.248310</td>\n",
       "      <td>/m/0v74</td>\n",
       "      <td>worldwide</td>\n",
       "    </tr>\n",
       "  </tbody>\n",
       "</table>\n",
       "</div>"
      ],
      "text/plain": [
       "        date  max_ratio  max_ratio_hi  max_ratio_lo article_name        geo\n",
       "0 2012-01-01   2.934609      3.123105      2.757999      /m/0v74  worldwide\n",
       "1 2012-01-08   3.317384      3.521799      3.125733      /m/0v74  worldwide\n",
       "2 2012-01-15   3.827751      4.053392      3.616044      /m/0v74  worldwide\n",
       "3 2012-01-22   3.572568      3.787596      3.370888      /m/0v74  worldwide\n",
       "4 2012-01-29   3.444976      3.654698      3.248310      /m/0v74  worldwide"
      ]
     },
     "execution_count": 36,
     "metadata": {},
     "output_type": "execute_result"
    }
   ],
   "source": [
    "# View of created df\n",
    "terrorism_df.head()"
   ]
  },
  {
   "cell_type": "code",
   "execution_count": 37,
   "metadata": {},
   "outputs": [],
   "source": [
    "# Save dataframe to pickle\n",
    "terrorism_df.to_pickle(data_path+\"terrorism.pkl\")"
   ]
  },
  {
   "cell_type": "markdown",
   "metadata": {},
   "source": [
    "### Domestic dataset\n",
    "\n",
    "25 Domestic related search queries [2012-01-01 -> 2014-08-31]"
   ]
  },
  {
   "cell_type": "code",
   "execution_count": 8,
   "metadata": {},
   "outputs": [],
   "source": [
    "# Find all topics for this dataset\n",
    "domestic_topic_queries = get_topics(\"domestic\", data_path)"
   ]
  },
  {
   "cell_type": "code",
   "execution_count": 40,
   "metadata": {},
   "outputs": [
    {
     "name": "stdout",
     "output_type": "stream",
     "text": [
      "Using gtab_data\\output\\google_anchorbanks\\google_anchorbank_geo=_timeframe=2012-01-01 2014-08-31.tsv\n",
      "New query '/m/0fytk'\n",
      "New query calibrated!\n",
      "Using gtab_data\\output\\google_anchorbanks\\google_anchorbank_geo=_timeframe=2012-01-01 2014-08-31.tsv\n",
      "New query '/m/0js8z'\n",
      "New query calibrated!\n",
      "Using gtab_data\\output\\google_anchorbanks\\google_anchorbank_geo=_timeframe=2012-01-01 2014-08-31.tsv\n",
      "New query '/m/07xhy'\n",
      "New query calibrated!\n",
      "Using gtab_data\\output\\google_anchorbanks\\google_anchorbank_geo=_timeframe=2012-01-01 2014-08-31.tsv\n",
      "New query '/m/038r8p'\n",
      "New query calibrated!\n",
      "Using gtab_data\\output\\google_anchorbanks\\google_anchorbank_geo=_timeframe=2012-01-01 2014-08-31.tsv\n",
      "New query '/m/02qtlv'\n",
      "New query calibrated!\n",
      "Using gtab_data\\output\\google_anchorbanks\\google_anchorbank_geo=_timeframe=2012-01-01 2014-08-31.tsv\n",
      "New query '/m/0y4n5ll'\n",
      "New query calibrated!\n",
      "Using gtab_data\\output\\google_anchorbanks\\google_anchorbank_geo=_timeframe=2012-01-01 2014-08-31.tsv\n",
      "New query '/m/0f4r5'\n",
      "New query calibrated!\n",
      "Using gtab_data\\output\\google_anchorbanks\\google_anchorbank_geo=_timeframe=2012-01-01 2014-08-31.tsv\n",
      "New query '/m/02vnz'\n",
      "New query calibrated!\n",
      "Using gtab_data\\output\\google_anchorbanks\\google_anchorbank_geo=_timeframe=2012-01-01 2014-08-31.tsv\n",
      "New query '/m/04yd3hg'\n",
      "New query calibrated!\n",
      "Using gtab_data\\output\\google_anchorbanks\\google_anchorbank_geo=_timeframe=2012-01-01 2014-08-31.tsv\n",
      "New query '/m/0d6qjf'\n",
      "New query calibrated!\n",
      "Using gtab_data\\output\\google_anchorbanks\\google_anchorbank_geo=_timeframe=2012-01-01 2014-08-31.tsv\n",
      "New query '/m/02p7v5m'\n",
      "New query calibrated!\n",
      "Using gtab_data\\output\\google_anchorbanks\\google_anchorbank_geo=_timeframe=2012-01-01 2014-08-31.tsv\n",
      "New query '/m/012qj2'\n",
      "New query calibrated!\n",
      "Using gtab_data\\output\\google_anchorbanks\\google_anchorbank_geo=_timeframe=2012-01-01 2014-08-31.tsv\n",
      "New query '/m/02q3_66'\n",
      "\n",
      "Bad keyword '/m/02q3_66', because The request failed: Google returned a response with code 400.\n",
      "Keyword /m/02q3_66 is bad!\n",
      "Using gtab_data\\output\\google_anchorbanks\\google_anchorbank_geo=_timeframe=2012-01-01 2014-08-31.tsv\n",
      "New query '/m/02_1m'\n",
      "New query calibrated!\n",
      "Using gtab_data\\output\\google_anchorbanks\\google_anchorbank_geo=_timeframe=2012-01-01 2014-08-31.tsv\n",
      "New query '/m/020plr'\n",
      "New query calibrated!\n",
      "Using gtab_data\\output\\google_anchorbanks\\google_anchorbank_geo=_timeframe=2012-01-01 2014-08-31.tsv\n",
      "New query '/m/021psw'\n",
      "New query calibrated!\n",
      "Using gtab_data\\output\\google_anchorbanks\\google_anchorbank_geo=_timeframe=2012-01-01 2014-08-31.tsv\n",
      "New query '/m/03__hw'\n",
      "New query calibrated!\n",
      "Using gtab_data\\output\\google_anchorbanks\\google_anchorbank_geo=_timeframe=2012-01-01 2014-08-31.tsv\n",
      "New query '/m/0179dd'\n",
      "New query calibrated!\n",
      "Using gtab_data\\output\\google_anchorbanks\\google_anchorbank_geo=_timeframe=2012-01-01 2014-08-31.tsv\n",
      "New query '/m/03__hw'\n",
      "New query calibrated!\n",
      "Using gtab_data\\output\\google_anchorbanks\\google_anchorbank_geo=_timeframe=2012-01-01 2014-08-31.tsv\n",
      "New query '/m/02_hj'\n",
      "New query calibrated!\n",
      "Using gtab_data\\output\\google_anchorbanks\\google_anchorbank_geo=_timeframe=2012-01-01 2014-08-31.tsv\n",
      "New query '/m/09gs3'\n",
      "New query calibrated!\n",
      "Using gtab_data\\output\\google_anchorbanks\\google_anchorbank_geo=_timeframe=2012-01-01 2014-08-31.tsv\n",
      "New query '/m/052yrz'\n",
      "New query calibrated!\n",
      "Using gtab_data\\output\\google_anchorbanks\\google_anchorbank_geo=_timeframe=2012-01-01 2014-08-31.tsv\n",
      "New query '/m/01fp_h'\n",
      "New query calibrated!\n",
      "Using gtab_data\\output\\google_anchorbanks\\google_anchorbank_geo=_timeframe=2012-01-01 2014-08-31.tsv\n",
      "New query '/m/07t65'\n",
      "New query calibrated!\n"
     ]
    }
   ],
   "source": [
    "# Create dommestic dataframe\n",
    "dommestic_df = create_dataframe(domestic_topic_queries, worldwide, t)"
   ]
  },
  {
   "cell_type": "code",
   "execution_count": 41,
   "metadata": {},
   "outputs": [
    {
     "data": {
      "text/html": [
       "<div>\n",
       "<style scoped>\n",
       "    .dataframe tbody tr th:only-of-type {\n",
       "        vertical-align: middle;\n",
       "    }\n",
       "\n",
       "    .dataframe tbody tr th {\n",
       "        vertical-align: top;\n",
       "    }\n",
       "\n",
       "    .dataframe thead th {\n",
       "        text-align: right;\n",
       "    }\n",
       "</style>\n",
       "<table border=\"1\" class=\"dataframe\">\n",
       "  <thead>\n",
       "    <tr style=\"text-align: right;\">\n",
       "      <th></th>\n",
       "      <th>date</th>\n",
       "      <th>max_ratio</th>\n",
       "      <th>max_ratio_hi</th>\n",
       "      <th>max_ratio_lo</th>\n",
       "      <th>article_name</th>\n",
       "      <th>geo</th>\n",
       "    </tr>\n",
       "  </thead>\n",
       "  <tbody>\n",
       "    <tr>\n",
       "      <th>0</th>\n",
       "      <td>2012-01-01</td>\n",
       "      <td>4.727273</td>\n",
       "      <td>4.960754</td>\n",
       "      <td>4.506877</td>\n",
       "      <td>/m/0fytk</td>\n",
       "      <td>worldwide</td>\n",
       "    </tr>\n",
       "    <tr>\n",
       "      <th>1</th>\n",
       "      <td>2012-01-08</td>\n",
       "      <td>4.969697</td>\n",
       "      <td>5.211931</td>\n",
       "      <td>4.741001</td>\n",
       "      <td>/m/0fytk</td>\n",
       "      <td>worldwide</td>\n",
       "    </tr>\n",
       "    <tr>\n",
       "      <th>2</th>\n",
       "      <td>2012-01-15</td>\n",
       "      <td>4.727273</td>\n",
       "      <td>4.960754</td>\n",
       "      <td>4.506877</td>\n",
       "      <td>/m/0fytk</td>\n",
       "      <td>worldwide</td>\n",
       "    </tr>\n",
       "    <tr>\n",
       "      <th>3</th>\n",
       "      <td>2012-01-22</td>\n",
       "      <td>4.848485</td>\n",
       "      <td>5.086342</td>\n",
       "      <td>4.623939</td>\n",
       "      <td>/m/0fytk</td>\n",
       "      <td>worldwide</td>\n",
       "    </tr>\n",
       "    <tr>\n",
       "      <th>4</th>\n",
       "      <td>2012-01-29</td>\n",
       "      <td>4.969697</td>\n",
       "      <td>5.211931</td>\n",
       "      <td>4.741001</td>\n",
       "      <td>/m/0fytk</td>\n",
       "      <td>worldwide</td>\n",
       "    </tr>\n",
       "  </tbody>\n",
       "</table>\n",
       "</div>"
      ],
      "text/plain": [
       "        date  max_ratio  max_ratio_hi  max_ratio_lo article_name        geo\n",
       "0 2012-01-01   4.727273      4.960754      4.506877     /m/0fytk  worldwide\n",
       "1 2012-01-08   4.969697      5.211931      4.741001     /m/0fytk  worldwide\n",
       "2 2012-01-15   4.727273      4.960754      4.506877     /m/0fytk  worldwide\n",
       "3 2012-01-22   4.848485      5.086342      4.623939     /m/0fytk  worldwide\n",
       "4 2012-01-29   4.969697      5.211931      4.741001     /m/0fytk  worldwide"
      ]
     },
     "execution_count": 41,
     "metadata": {},
     "output_type": "execute_result"
    }
   ],
   "source": [
    "# View of created df\n",
    "dommestic_df.head()"
   ]
  },
  {
   "cell_type": "code",
   "execution_count": 42,
   "metadata": {},
   "outputs": [],
   "source": [
    "# Save dataframe to pickle\n",
    "dommestic_df.to_pickle(data_path+\"dommestic.pkl\")"
   ]
  },
  {
   "cell_type": "markdown",
   "metadata": {},
   "source": [
    "### Top 30 Terrorism dataset\n",
    "\n",
    "top 30 MTurk evaluation terrorism related search queries [2012-01-01 -> 2014-08-31]"
   ]
  },
  {
   "cell_type": "code",
   "execution_count": 9,
   "metadata": {},
   "outputs": [],
   "source": [
    "# Find all topics for this dataset\n",
    "top_30_terrorism_topic_queries = get_topics(\"domestic\", data_path)"
   ]
  },
  {
   "cell_type": "code",
   "execution_count": 44,
   "metadata": {
    "scrolled": true
   },
   "outputs": [
    {
     "name": "stdout",
     "output_type": "stream",
     "text": [
      "Using gtab_data\\output\\google_anchorbanks\\google_anchorbank_geo=_timeframe=2012-01-01 2014-08-31.tsv\n",
      "New query '/m/0fytk'\n",
      "New query calibrated!\n",
      "Using gtab_data\\output\\google_anchorbanks\\google_anchorbank_geo=_timeframe=2012-01-01 2014-08-31.tsv\n",
      "New query '/m/0js8z'\n",
      "New query calibrated!\n",
      "Using gtab_data\\output\\google_anchorbanks\\google_anchorbank_geo=_timeframe=2012-01-01 2014-08-31.tsv\n",
      "New query '/m/07xhy'\n",
      "New query calibrated!\n",
      "Using gtab_data\\output\\google_anchorbanks\\google_anchorbank_geo=_timeframe=2012-01-01 2014-08-31.tsv\n",
      "New query '/m/038r8p'\n",
      "New query calibrated!\n",
      "Using gtab_data\\output\\google_anchorbanks\\google_anchorbank_geo=_timeframe=2012-01-01 2014-08-31.tsv\n",
      "New query '/m/02qtlv'\n",
      "New query calibrated!\n",
      "Using gtab_data\\output\\google_anchorbanks\\google_anchorbank_geo=_timeframe=2012-01-01 2014-08-31.tsv\n",
      "New query '/m/0y4n5ll'\n",
      "New query calibrated!\n",
      "Using gtab_data\\output\\google_anchorbanks\\google_anchorbank_geo=_timeframe=2012-01-01 2014-08-31.tsv\n",
      "New query '/m/0f4r5'\n",
      "New query calibrated!\n",
      "Using gtab_data\\output\\google_anchorbanks\\google_anchorbank_geo=_timeframe=2012-01-01 2014-08-31.tsv\n",
      "New query '/m/02vnz'\n",
      "New query calibrated!\n",
      "Using gtab_data\\output\\google_anchorbanks\\google_anchorbank_geo=_timeframe=2012-01-01 2014-08-31.tsv\n",
      "New query '/m/04yd3hg'\n",
      "New query calibrated!\n",
      "Using gtab_data\\output\\google_anchorbanks\\google_anchorbank_geo=_timeframe=2012-01-01 2014-08-31.tsv\n",
      "New query '/m/0d6qjf'\n",
      "New query calibrated!\n",
      "Using gtab_data\\output\\google_anchorbanks\\google_anchorbank_geo=_timeframe=2012-01-01 2014-08-31.tsv\n",
      "New query '/m/02p7v5m'\n",
      "New query calibrated!\n",
      "Using gtab_data\\output\\google_anchorbanks\\google_anchorbank_geo=_timeframe=2012-01-01 2014-08-31.tsv\n",
      "New query '/m/012qj2'\n",
      "New query calibrated!\n",
      "Using gtab_data\\output\\google_anchorbanks\\google_anchorbank_geo=_timeframe=2012-01-01 2014-08-31.tsv\n",
      "New query '/m/02q3_66'\n",
      "\n",
      "Bad keyword '/m/02q3_66', because The request failed: Google returned a response with code 400.\n",
      "Keyword /m/02q3_66 is bad!\n",
      "Using gtab_data\\output\\google_anchorbanks\\google_anchorbank_geo=_timeframe=2012-01-01 2014-08-31.tsv\n",
      "New query '/m/02_1m'\n",
      "New query calibrated!\n",
      "Using gtab_data\\output\\google_anchorbanks\\google_anchorbank_geo=_timeframe=2012-01-01 2014-08-31.tsv\n",
      "New query '/m/020plr'\n",
      "New query calibrated!\n",
      "Using gtab_data\\output\\google_anchorbanks\\google_anchorbank_geo=_timeframe=2012-01-01 2014-08-31.tsv\n",
      "New query '/m/021psw'\n",
      "New query calibrated!\n",
      "Using gtab_data\\output\\google_anchorbanks\\google_anchorbank_geo=_timeframe=2012-01-01 2014-08-31.tsv\n",
      "New query '/m/03__hw'\n",
      "New query calibrated!\n",
      "Using gtab_data\\output\\google_anchorbanks\\google_anchorbank_geo=_timeframe=2012-01-01 2014-08-31.tsv\n",
      "New query '/m/0179dd'\n",
      "New query calibrated!\n",
      "Using gtab_data\\output\\google_anchorbanks\\google_anchorbank_geo=_timeframe=2012-01-01 2014-08-31.tsv\n",
      "New query '/m/03__hw'\n",
      "New query calibrated!\n",
      "Using gtab_data\\output\\google_anchorbanks\\google_anchorbank_geo=_timeframe=2012-01-01 2014-08-31.tsv\n",
      "New query '/m/02_hj'\n",
      "New query calibrated!\n",
      "Using gtab_data\\output\\google_anchorbanks\\google_anchorbank_geo=_timeframe=2012-01-01 2014-08-31.tsv\n",
      "New query '/m/09gs3'\n",
      "New query calibrated!\n",
      "Using gtab_data\\output\\google_anchorbanks\\google_anchorbank_geo=_timeframe=2012-01-01 2014-08-31.tsv\n",
      "New query '/m/052yrz'\n",
      "New query calibrated!\n",
      "Using gtab_data\\output\\google_anchorbanks\\google_anchorbank_geo=_timeframe=2012-01-01 2014-08-31.tsv\n",
      "New query '/m/01fp_h'\n",
      "New query calibrated!\n",
      "Using gtab_data\\output\\google_anchorbanks\\google_anchorbank_geo=_timeframe=2012-01-01 2014-08-31.tsv\n",
      "New query '/m/07t65'\n",
      "New query calibrated!\n"
     ]
    }
   ],
   "source": [
    "# Create top-30 terrorism dataframe\n",
    "top_30_terrorism_df = create_dataframe(top_30_terrorism_topic_queries, worldwide, t)"
   ]
  },
  {
   "cell_type": "code",
   "execution_count": 45,
   "metadata": {},
   "outputs": [
    {
     "data": {
      "text/html": [
       "<div>\n",
       "<style scoped>\n",
       "    .dataframe tbody tr th:only-of-type {\n",
       "        vertical-align: middle;\n",
       "    }\n",
       "\n",
       "    .dataframe tbody tr th {\n",
       "        vertical-align: top;\n",
       "    }\n",
       "\n",
       "    .dataframe thead th {\n",
       "        text-align: right;\n",
       "    }\n",
       "</style>\n",
       "<table border=\"1\" class=\"dataframe\">\n",
       "  <thead>\n",
       "    <tr style=\"text-align: right;\">\n",
       "      <th></th>\n",
       "      <th>date</th>\n",
       "      <th>max_ratio</th>\n",
       "      <th>max_ratio_hi</th>\n",
       "      <th>max_ratio_lo</th>\n",
       "      <th>article_name</th>\n",
       "      <th>geo</th>\n",
       "    </tr>\n",
       "  </thead>\n",
       "  <tbody>\n",
       "    <tr>\n",
       "      <th>0</th>\n",
       "      <td>2012-01-01</td>\n",
       "      <td>4.727273</td>\n",
       "      <td>4.960754</td>\n",
       "      <td>4.506877</td>\n",
       "      <td>/m/0fytk</td>\n",
       "      <td>worldwide</td>\n",
       "    </tr>\n",
       "    <tr>\n",
       "      <th>1</th>\n",
       "      <td>2012-01-08</td>\n",
       "      <td>4.969697</td>\n",
       "      <td>5.211931</td>\n",
       "      <td>4.741001</td>\n",
       "      <td>/m/0fytk</td>\n",
       "      <td>worldwide</td>\n",
       "    </tr>\n",
       "    <tr>\n",
       "      <th>2</th>\n",
       "      <td>2012-01-15</td>\n",
       "      <td>4.727273</td>\n",
       "      <td>4.960754</td>\n",
       "      <td>4.506877</td>\n",
       "      <td>/m/0fytk</td>\n",
       "      <td>worldwide</td>\n",
       "    </tr>\n",
       "    <tr>\n",
       "      <th>3</th>\n",
       "      <td>2012-01-22</td>\n",
       "      <td>4.848485</td>\n",
       "      <td>5.086342</td>\n",
       "      <td>4.623939</td>\n",
       "      <td>/m/0fytk</td>\n",
       "      <td>worldwide</td>\n",
       "    </tr>\n",
       "    <tr>\n",
       "      <th>4</th>\n",
       "      <td>2012-01-29</td>\n",
       "      <td>4.969697</td>\n",
       "      <td>5.211931</td>\n",
       "      <td>4.741001</td>\n",
       "      <td>/m/0fytk</td>\n",
       "      <td>worldwide</td>\n",
       "    </tr>\n",
       "  </tbody>\n",
       "</table>\n",
       "</div>"
      ],
      "text/plain": [
       "        date  max_ratio  max_ratio_hi  max_ratio_lo article_name        geo\n",
       "0 2012-01-01   4.727273      4.960754      4.506877     /m/0fytk  worldwide\n",
       "1 2012-01-08   4.969697      5.211931      4.741001     /m/0fytk  worldwide\n",
       "2 2012-01-15   4.727273      4.960754      4.506877     /m/0fytk  worldwide\n",
       "3 2012-01-22   4.848485      5.086342      4.623939     /m/0fytk  worldwide\n",
       "4 2012-01-29   4.969697      5.211931      4.741001     /m/0fytk  worldwide"
      ]
     },
     "execution_count": 45,
     "metadata": {},
     "output_type": "execute_result"
    }
   ],
   "source": [
    "# View of created df\n",
    "top_30_terrorism_df.head()"
   ]
  },
  {
   "cell_type": "code",
   "execution_count": 46,
   "metadata": {},
   "outputs": [],
   "source": [
    "# Save dataframe to pickle\n",
    "top_30_terrorism_df.to_pickle(data_path+\"top_30_terrorism.pkl\")"
   ]
  },
  {
   "cell_type": "markdown",
   "metadata": {},
   "source": [
    "## Create present timeframe dataframes"
   ]
  },
  {
   "cell_type": "code",
   "execution_count": 12,
   "metadata": {
    "scrolled": true
   },
   "outputs": [
    {
     "name": "stdout",
     "output_type": "stream",
     "text": [
      "Directory already exists, loading data from it.\n",
      "Using directory 'gtab_data'\n",
      "Active anchorbank changed to: google_anchorbank_geo=_timeframe=2019-01-01 2020-08-01.tsv\n",
      "\n"
     ]
    },
    {
     "name": "stderr",
     "output_type": "stream",
     "text": [
      "\r",
      "  0%|                                                                                          | 0/568 [00:00<?, ?it/s]"
     ]
    },
    {
     "name": "stdout",
     "output_type": "stream",
     "text": [
      "Start AnchorBank init for region  in timeframe 2012-01-01 2020-11-30...\n",
      "Sampling keywords...\n"
     ]
    },
    {
     "name": "stderr",
     "output_type": "stream",
     "text": [
      " 10%|███████▊                                                                         | 55/568 [01:22<11:38,  1.36s/it]"
     ]
    },
    {
     "name": "stdout",
     "output_type": "stream",
     "text": [
      "\n",
      "Bad keyword '/m/0fjfh', because The request failed: Google returned a response with code 400.\n"
     ]
    },
    {
     "name": "stderr",
     "output_type": "stream",
     "text": [
      " 10%|████████▍                                                                        | 59/568 [01:28<11:26,  1.35s/it]"
     ]
    },
    {
     "name": "stdout",
     "output_type": "stream",
     "text": [
      "\n",
      "Bad keyword '/m/013v0m', because The request failed: Google returned a response with code 400.\n"
     ]
    },
    {
     "name": "stderr",
     "output_type": "stream",
     "text": [
      " 13%|██████████▌                                                                      | 74/568 [01:49<11:05,  1.35s/it]"
     ]
    },
    {
     "name": "stdout",
     "output_type": "stream",
     "text": [
      "\n",
      "Bad keyword '/m/02nm6c', because The request failed: Google returned a response with code 400.\n"
     ]
    },
    {
     "name": "stderr",
     "output_type": "stream",
     "text": [
      " 14%|██████████▉                                                                      | 77/568 [01:53<10:41,  1.31s/it]"
     ]
    },
    {
     "name": "stdout",
     "output_type": "stream",
     "text": [
      "\n",
      "Bad keyword '/m/084cz', because The request failed: Google returned a response with code 400.\n"
     ]
    },
    {
     "name": "stderr",
     "output_type": "stream",
     "text": [
      " 26%|█████████████████████▏                                                          | 150/568 [03:41<09:18,  1.34s/it]"
     ]
    },
    {
     "name": "stdout",
     "output_type": "stream",
     "text": [
      "\n",
      "Bad keyword '/m/0k0mp', because The request failed: Google returned a response with code 400.\n"
     ]
    },
    {
     "name": "stderr",
     "output_type": "stream",
     "text": [
      " 27%|█████████████████████▍                                                          | 152/568 [03:44<09:07,  1.32s/it]"
     ]
    },
    {
     "name": "stdout",
     "output_type": "stream",
     "text": [
      "\n",
      "Bad keyword '/m/01bp2v', because The request failed: Google returned a response with code 400.\n"
     ]
    },
    {
     "name": "stderr",
     "output_type": "stream",
     "text": [
      " 44%|███████████████████████████████████▍                                            | 252/568 [06:13<07:20,  1.39s/it]"
     ]
    },
    {
     "name": "stdout",
     "output_type": "stream",
     "text": [
      "\n",
      "Bad keyword '/m/06n9fv', because The request failed: Google returned a response with code 400.\n"
     ]
    },
    {
     "name": "stderr",
     "output_type": "stream",
     "text": [
      " 45%|████████████████████████████████████▏                                           | 257/568 [06:19<06:44,  1.30s/it]"
     ]
    },
    {
     "name": "stdout",
     "output_type": "stream",
     "text": [
      "\n",
      "Bad keyword '/m/04qgp', because The request failed: Google returned a response with code 400.\n"
     ]
    },
    {
     "name": "stderr",
     "output_type": "stream",
     "text": [
      " 54%|███████████████████████████████████████████                                     | 306/568 [07:30<05:48,  1.33s/it]"
     ]
    },
    {
     "name": "stdout",
     "output_type": "stream",
     "text": [
      "\n",
      "Bad keyword '/m/04fzqn3', because The request failed: Google returned a response with code 400.\n"
     ]
    },
    {
     "name": "stderr",
     "output_type": "stream",
     "text": [
      " 57%|█████████████████████████████████████████████▊                                  | 325/568 [07:58<05:32,  1.37s/it]"
     ]
    },
    {
     "name": "stdout",
     "output_type": "stream",
     "text": [
      "\n",
      "Bad keyword '/m/0dfxdrn', because The request failed: Google returned a response with code 400.\n"
     ]
    },
    {
     "name": "stderr",
     "output_type": "stream",
     "text": [
      " 61%|████████████████████████████████████████████████▌                               | 345/568 [08:27<05:04,  1.36s/it]"
     ]
    },
    {
     "name": "stdout",
     "output_type": "stream",
     "text": [
      "\n",
      "Bad keyword '/m/05hxz3p', because The request failed: Google returned a response with code 400.\n"
     ]
    },
    {
     "name": "stderr",
     "output_type": "stream",
     "text": [
      " 61%|████████████████████████████████████████████████▊                               | 347/568 [08:29<04:48,  1.31s/it]"
     ]
    },
    {
     "name": "stdout",
     "output_type": "stream",
     "text": [
      "\n",
      "Bad keyword '/m/09nn_9', because The request failed: Google returned a response with code 400.\n"
     ]
    },
    {
     "name": "stderr",
     "output_type": "stream",
     "text": [
      " 64%|███████████████████████████████████████████████████▍                            | 365/568 [08:56<04:35,  1.36s/it]"
     ]
    },
    {
     "name": "stdout",
     "output_type": "stream",
     "text": [
      "\n",
      "Bad keyword '/m/05n1l9l', because The request failed: Google returned a response with code 400.\n"
     ]
    },
    {
     "name": "stderr",
     "output_type": "stream",
     "text": [
      " 70%|███████████████████████████████████████████████████████▉                        | 397/568 [09:43<03:54,  1.37s/it]"
     ]
    },
    {
     "name": "stdout",
     "output_type": "stream",
     "text": [
      "\n",
      "Bad keyword '/m/02q64zt', because The request failed: Google returned a response with code 400.\n"
     ]
    },
    {
     "name": "stderr",
     "output_type": "stream",
     "text": [
      " 71%|█████████████████████████████████████████████████████████▏                      | 406/568 [09:56<03:36,  1.33s/it]"
     ]
    },
    {
     "name": "stdout",
     "output_type": "stream",
     "text": [
      "\n",
      "Bad keyword '/m/04rc3w', because The request failed: Google returned a response with code 400.\n"
     ]
    },
    {
     "name": "stderr",
     "output_type": "stream",
     "text": [
      " 73%|██████████████████████████████████████████████████████████                      | 412/568 [10:04<03:29,  1.34s/it]"
     ]
    },
    {
     "name": "stdout",
     "output_type": "stream",
     "text": [
      "\n",
      "Bad keyword '/m/05lv45q', because The request failed: Google returned a response with code 400.\n"
     ]
    },
    {
     "name": "stderr",
     "output_type": "stream",
     "text": [
      " 75%|████████████████████████████████████████████████████████████▏                   | 427/568 [10:26<03:09,  1.34s/it]"
     ]
    },
    {
     "name": "stdout",
     "output_type": "stream",
     "text": [
      "\n",
      "Bad keyword '/m/09j5n2', because The request failed: Google returned a response with code 400.\n"
     ]
    },
    {
     "name": "stderr",
     "output_type": "stream",
     "text": [
      " 79%|██████████████████████████████████████████████████████████████▉                 | 447/568 [10:55<02:47,  1.38s/it]"
     ]
    },
    {
     "name": "stdout",
     "output_type": "stream",
     "text": [
      "\n",
      "Bad keyword '/m/0gl3_vx', because The request failed: Google returned a response with code 400.\n"
     ]
    },
    {
     "name": "stderr",
     "output_type": "stream",
     "text": [
      " 80%|████████████████████████████████████████████████████████████████▏               | 456/568 [11:09<02:41,  1.44s/it]"
     ]
    },
    {
     "name": "stdout",
     "output_type": "stream",
     "text": [
      "\n",
      "Bad keyword '/m/06b_y2', because The request failed: Google returned a response with code 400.\n"
     ]
    },
    {
     "name": "stderr",
     "output_type": "stream",
     "text": [
      " 83%|██████████████████████████████████████████████████████████████████▌             | 473/568 [11:33<02:08,  1.35s/it]"
     ]
    },
    {
     "name": "stdout",
     "output_type": "stream",
     "text": [
      "\n",
      "Bad keyword '/m/04y5kpr', because The request failed: Google returned a response with code 400.\n"
     ]
    },
    {
     "name": "stderr",
     "output_type": "stream",
     "text": [
      " 86%|█████████████████████████████████████████████████████████████████████           | 490/568 [11:58<01:55,  1.48s/it]"
     ]
    },
    {
     "name": "stdout",
     "output_type": "stream",
     "text": [
      "\n",
      "Bad keyword '/m/05n4pk1', because The request failed: Google returned a response with code 400.\n"
     ]
    },
    {
     "name": "stderr",
     "output_type": "stream",
     "text": [
      " 89%|██████████████████████████████████████████████████████████████████████▊         | 503/568 [12:17<01:30,  1.39s/it]"
     ]
    },
    {
     "name": "stdout",
     "output_type": "stream",
     "text": [
      "\n",
      "Bad keyword '/m/02pxh01', because The request failed: Google returned a response with code 400.\n"
     ]
    },
    {
     "name": "stderr",
     "output_type": "stream",
     "text": [
      "\r",
      " 89%|██████████████████████████████████████████████████████████████████████▉         | 504/568 [12:18<01:23,  1.30s/it]"
     ]
    },
    {
     "name": "stdout",
     "output_type": "stream",
     "text": [
      "\n",
      "Bad keyword '/m/04bdjb', because The request failed: Google returned a response with code 400.\n"
     ]
    },
    {
     "name": "stderr",
     "output_type": "stream",
     "text": [
      " 89%|███████████████████████████████████████████████████████████████████████▌        | 508/568 [12:24<01:17,  1.30s/it]"
     ]
    },
    {
     "name": "stdout",
     "output_type": "stream",
     "text": [
      "\n",
      "Bad keyword '/m/03ct2_8', because The request failed: Google returned a response with code 400.\n"
     ]
    },
    {
     "name": "stderr",
     "output_type": "stream",
     "text": [
      "\r",
      " 90%|███████████████████████████████████████████████████████████████████████▋        | 509/568 [12:25<01:13,  1.25s/it]"
     ]
    },
    {
     "name": "stdout",
     "output_type": "stream",
     "text": [
      "\n",
      "Bad keyword '/m/083tpm', because The request failed: Google returned a response with code 400.\n"
     ]
    },
    {
     "name": "stderr",
     "output_type": "stream",
     "text": [
      " 91%|████████████████████████████████████████████████████████████████████████▉       | 518/568 [12:39<01:10,  1.41s/it]"
     ]
    },
    {
     "name": "stdout",
     "output_type": "stream",
     "text": [
      "\n",
      "Bad keyword '/m/05n9bv7', because The request failed: Google returned a response with code 400.\n"
     ]
    },
    {
     "name": "stderr",
     "output_type": "stream",
     "text": [
      " 93%|██████████████████████████████████████████████████████████████████████████▏     | 527/568 [12:52<00:56,  1.38s/it]"
     ]
    },
    {
     "name": "stdout",
     "output_type": "stream",
     "text": [
      "\n",
      "Bad keyword '/m/05n7n62', because The request failed: Google returned a response with code 400.\n"
     ]
    },
    {
     "name": "stderr",
     "output_type": "stream",
     "text": [
      " 93%|██████████████████████████████████████████████████████████████████████████▊     | 531/568 [12:58<00:49,  1.34s/it]"
     ]
    },
    {
     "name": "stdout",
     "output_type": "stream",
     "text": [
      "\n",
      "Bad keyword '/m/05n6lws', because The request failed: Google returned a response with code 400.\n"
     ]
    },
    {
     "name": "stderr",
     "output_type": "stream",
     "text": [
      " 95%|███████████████████████████████████████████████████████████████████████████▋    | 537/568 [13:06<00:42,  1.37s/it]"
     ]
    },
    {
     "name": "stdout",
     "output_type": "stream",
     "text": [
      "\n",
      "Bad keyword '/m/07b2rg', because The request failed: Google returned a response with code 400.\n"
     ]
    },
    {
     "name": "stderr",
     "output_type": "stream",
     "text": [
      " 95%|████████████████████████████████████████████████████████████████████████████▏   | 541/568 [13:12<00:35,  1.32s/it]"
     ]
    },
    {
     "name": "stdout",
     "output_type": "stream",
     "text": [
      "\n",
      "Bad keyword '/m/0bq4bp', because The request failed: Google returned a response with code 400.\n"
     ]
    },
    {
     "name": "stderr",
     "output_type": "stream",
     "text": [
      " 96%|█████████████████████████████████████████████████████████████████████████████▏  | 548/568 [13:22<00:27,  1.37s/it]"
     ]
    },
    {
     "name": "stdout",
     "output_type": "stream",
     "text": [
      "\n",
      "Bad keyword '/m/0dfxdcv', because The request failed: Google returned a response with code 400.\n"
     ]
    },
    {
     "name": "stderr",
     "output_type": "stream",
     "text": [
      " 97%|█████████████████████████████████████████████████████████████████████████████▍  | 550/568 [13:25<00:23,  1.30s/it]"
     ]
    },
    {
     "name": "stdout",
     "output_type": "stream",
     "text": [
      "\n",
      "Bad keyword '/m/04f182w', because The request failed: Google returned a response with code 400.\n"
     ]
    },
    {
     "name": "stderr",
     "output_type": "stream",
     "text": [
      "\r",
      " 97%|█████████████████████████████████████████████████████████████████████████████▌  | 551/568 [13:26<00:21,  1.25s/it]"
     ]
    },
    {
     "name": "stdout",
     "output_type": "stream",
     "text": [
      "\n",
      "Bad keyword '/m/05n2v4t', because The request failed: Google returned a response with code 400.\n"
     ]
    },
    {
     "name": "stderr",
     "output_type": "stream",
     "text": [
      " 97%|█████████████████████████████████████████████████████████████████████████████▉  | 553/568 [13:28<00:19,  1.27s/it]"
     ]
    },
    {
     "name": "stdout",
     "output_type": "stream",
     "text": [
      "\n",
      "Bad keyword '/m/05v67qk', because The request failed: Google returned a response with code 400.\n"
     ]
    },
    {
     "name": "stderr",
     "output_type": "stream",
     "text": [
      " 98%|██████████████████████████████████████████████████████████████████████████████▍ | 557/568 [13:34<00:14,  1.29s/it]"
     ]
    },
    {
     "name": "stdout",
     "output_type": "stream",
     "text": [
      "\n",
      "Bad keyword '/m/05n8041', because The request failed: Google returned a response with code 400.\n"
     ]
    },
    {
     "name": "stderr",
     "output_type": "stream",
     "text": [
      " 99%|███████████████████████████████████████████████████████████████████████████████ | 561/568 [13:40<00:10,  1.48s/it]"
     ]
    },
    {
     "name": "stdout",
     "output_type": "stream",
     "text": [
      "\n",
      "Bad keyword '/m/0c0ff8', because The request failed: Google returned a response with code 400.\n"
     ]
    },
    {
     "name": "stderr",
     "output_type": "stream",
     "text": [
      " 99%|███████████████████████████████████████████████████████████████████████████████▍| 564/568 [13:44<00:05,  1.36s/it]"
     ]
    },
    {
     "name": "stdout",
     "output_type": "stream",
     "text": [
      "\n",
      "Bad keyword '/m/0c_lmc1', because The request failed: Google returned a response with code 400.\n"
     ]
    },
    {
     "name": "stderr",
     "output_type": "stream",
     "text": [
      "\r",
      " 99%|███████████████████████████████████████████████████████████████████████████████▌| 565/568 [13:45<00:03,  1.30s/it]"
     ]
    },
    {
     "name": "stdout",
     "output_type": "stream",
     "text": [
      "\n",
      "Bad keyword '/m/05n35c8', because The request failed: Google returned a response with code 400.\n"
     ]
    },
    {
     "name": "stderr",
     "output_type": "stream",
     "text": [
      "100%|████████████████████████████████████████████████████████████████████████████████| 568/568 [13:50<00:00,  1.46s/it]\n",
      "  0%|                                                                                          | 0/525 [00:00<?, ?it/s]"
     ]
    },
    {
     "name": "stdout",
     "output_type": "stream",
     "text": [
      "Querying google...\n"
     ]
    },
    {
     "name": "stderr",
     "output_type": "stream",
     "text": [
      "100%|████████████████████████████████████████████████████████████████████████████████| 525/525 [07:18<00:00,  1.20it/s]\n"
     ]
    },
    {
     "name": "stdout",
     "output_type": "stream",
     "text": [
      "Removing bad queries...\n"
     ]
    },
    {
     "name": "stderr",
     "output_type": "stream",
     "text": [
      "100%|████████████████████████████████████████████████████████████████████████████████████| 6/6 [00:05<00:00,  1.19it/s]\n",
      "100%|████████████████████████████████████████████████████████████████████████████████████| 4/4 [00:03<00:00,  1.18it/s]\n",
      "100%|████████████████████████████████████████████████████████████████████████████████████| 4/4 [00:03<00:00,  1.20it/s]\n",
      "100%|████████████████████████████████████████████████████████████████████████████████████| 4/4 [00:03<00:00,  1.26it/s]\n",
      "100%|████████████████████████████████████████████████████████████████████████████████████| 5/5 [00:04<00:00,  1.23it/s]\n",
      "100%|████████████████████████████████████████████████████████████████████████████████████| 5/5 [00:04<00:00,  1.15it/s]\n",
      "100%|████████████████████████████████████████████████████████████████████████████████████| 4/4 [00:03<00:00,  1.16it/s]\n",
      "100%|████████████████████████████████████████████████████████████████████████████████████| 4/4 [00:03<00:00,  1.20it/s]\n",
      "100%|████████████████████████████████████████████████████████████████████████████████████| 4/4 [00:03<00:00,  1.17it/s]\n",
      "100%|████████████████████████████████████████████████████████████████████████████████████| 4/4 [00:03<00:00,  1.15it/s]\n",
      "100%|████████████████████████████████████████████████████████████████████████████████████| 7/7 [00:06<00:00,  1.14it/s]\n",
      "100%|████████████████████████████████████████████████████████████████████████████████████| 9/9 [00:07<00:00,  1.17it/s]\n",
      "100%|████████████████████████████████████████████████████████████████████████████████████| 4/4 [00:03<00:00,  1.21it/s]\n",
      "100%|████████████████████████████████████████████████████████████████████████████████████| 8/8 [00:06<00:00,  1.18it/s]\n",
      "100%|████████████████████████████████████████████████████████████████████████████████████| 4/4 [00:03<00:00,  1.19it/s]\n",
      "100%|██████████████████████████████████████████████████████████████████████████████████| 16/16 [00:13<00:00,  1.17it/s]\n",
      "100%|████████████████████████████████████████████████████████████████████████████████████| 4/4 [00:03<00:00,  1.22it/s]\n",
      "100%|████████████████████████████████████████████████████████████████████████████████████| 4/4 [00:03<00:00,  1.21it/s]\n",
      "100%|████████████████████████████████████████████████████████████████████████████████████| 4/4 [00:03<00:00,  1.27it/s]\n",
      "100%|████████████████████████████████████████████████████████████████████████████████████| 4/4 [00:03<00:00,  1.12it/s]\n",
      "100%|████████████████████████████████████████████████████████████████████████████████████| 9/9 [00:07<00:00,  1.20it/s]\n",
      "100%|████████████████████████████████████████████████████████████████████████████████████| 4/4 [00:03<00:00,  1.21it/s]\n",
      "100%|████████████████████████████████████████████████████████████████████████████████████| 4/4 [00:03<00:00,  1.13it/s]\n",
      "100%|████████████████████████████████████████████████████████████████████████████████████| 4/4 [00:03<00:00,  1.18it/s]\n",
      "100%|████████████████████████████████████████████████████████████████████████████████████| 5/5 [00:04<00:00,  1.21it/s]\n",
      "100%|████████████████████████████████████████████████████████████████████████████████████| 4/4 [00:03<00:00,  1.22it/s]\n",
      "100%|████████████████████████████████████████████████████████████████████████████████████| 4/4 [00:03<00:00,  1.11it/s]\n",
      "100%|████████████████████████████████████████████████████████████████████████████████████| 7/7 [00:05<00:00,  1.21it/s]\n",
      "100%|████████████████████████████████████████████████████████████████████████████████████| 4/4 [00:03<00:00,  1.11it/s]\n",
      "100%|████████████████████████████████████████████████████████████████████████████████████| 4/4 [00:03<00:00,  1.13it/s]\n",
      "100%|██████████████████████████████████████████████████████████████████████████████████| 13/13 [00:10<00:00,  1.21it/s]\n",
      "100%|████████████████████████████████████████████████████████████████████████████████████| 7/7 [00:05<00:00,  1.19it/s]\n",
      "100%|██████████████████████████████████████████████████████████████████████████████████| 10/10 [00:08<00:00,  1.17it/s]\n",
      "100%|██████████████████████████████████████████████████████████████████████████████████| 14/14 [00:11<00:00,  1.20it/s]\n",
      "100%|████████████████████████████████████████████████████████████████████████████████████| 4/4 [00:03<00:00,  1.26it/s]\n",
      "100%|████████████████████████████████████████████████████████████████████████████████████| 6/6 [00:05<00:00,  1.16it/s]\n",
      "100%|████████████████████████████████████████████████████████████████████████████████████| 8/8 [00:06<00:00,  1.28it/s]\n",
      "100%|████████████████████████████████████████████████████████████████████████████████████| 4/4 [00:03<00:00,  1.16it/s]\n",
      "100%|████████████████████████████████████████████████████████████████████████████████████| 4/4 [00:03<00:00,  1.17it/s]\n",
      "100%|████████████████████████████████████████████████████████████████████████████████████| 4/4 [00:03<00:00,  1.22it/s]\n",
      "100%|████████████████████████████████████████████████████████████████████████████████████| 8/8 [00:06<00:00,  1.20it/s]\n",
      "  0%|                                                                                            | 0/4 [00:00<?, ?it/s]"
     ]
    },
    {
     "name": "stdout",
     "output_type": "stream",
     "text": [
      "Total bad: 119\n",
      "Total bad: 9\n"
     ]
    },
    {
     "name": "stderr",
     "output_type": "stream",
     "text": [
      "100%|████████████████████████████████████████████████████████████████████████████████████| 4/4 [00:03<00:00,  1.14it/s]\n",
      "100%|████████████████████████████████████████████████████████████████████████████████████| 4/4 [00:03<00:00,  1.25it/s]\n",
      "100%|████████████████████████████████████████████████████████████████████████████████████| 4/4 [00:03<00:00,  1.18it/s]\n",
      "100%|████████████████████████████████████████████████████████████████████████████████████| 4/4 [00:03<00:00,  1.15it/s]\n",
      "100%|████████████████████████████████████████████████████████████████████████████████████| 4/4 [00:03<00:00,  1.24it/s]\n",
      "100%|████████████████████████████████████████████████████████████████████████████████████| 5/5 [00:03<00:00,  1.30it/s]\n"
     ]
    },
    {
     "name": "stdout",
     "output_type": "stream",
     "text": [
      "Total bad: 0\n",
      "Diagnostics done!\n",
      "A total of 128 bad keywords removed.\n",
      "Saving google results as 'gtab_data\\data\\internal\\google_results\\google_results_geo=_timeframe=2012-01-01 2020-11-30.pkl'...\n",
      "Total queries (groups of 5 keywords): 417\n"
     ]
    },
    {
     "name": "stderr",
     "output_type": "stream",
     "text": [
      "\r",
      "  0%|                                                                                          | 0/421 [00:00<?, ?it/s]"
     ]
    },
    {
     "name": "stdout",
     "output_type": "stream",
     "text": [
      "Finding paths...\n"
     ]
    },
    {
     "name": "stderr",
     "output_type": "stream",
     "text": [
      "100%|████████████████████████████████████████████████████████████████████████████████| 421/421 [01:15<00:00,  5.60it/s]\n"
     ]
    },
    {
     "name": "stdout",
     "output_type": "stream",
     "text": [
      "Paths done!\n",
      "Err: 2.6645352591003757e-15\n"
     ]
    },
    {
     "name": "stderr",
     "output_type": "stream",
     "text": [
      "\r",
      "  0%|                                                                                           | 0/13 [00:00<?, ?it/s]"
     ]
    },
    {
     "name": "stdout",
     "output_type": "stream",
     "text": [
      "Querying pairs...\n"
     ]
    },
    {
     "name": "stderr",
     "output_type": "stream",
     "text": [
      "100%|██████████████████████████████████████████████████████████████████████████████████| 13/13 [00:11<00:00,  1.16it/s]\n"
     ]
    },
    {
     "name": "stdout",
     "output_type": "stream",
     "text": [
      "Total range: 7.248046221834531e-07\n",
      "Saving anchorbank as 'gtab_data\\output\\google_anchorbanks\\google_anchorbank_geo=_timeframe=2012-01-01 2020-11-30.tsv'...\n",
      "AnchorBank init done.\n",
      "Active anchorbank changed to: google_anchorbank_geo=_timeframe=2012-01-01 2020-11-30.tsv\n",
      "\n"
     ]
    }
   ],
   "source": [
    "# Set start to paper start timeframe and end to present time (Stop at November 2020)\n",
    "start_timeframe = \"2012-01-01\"\n",
    "end_timeframe   = \"2020-11-30\"\n",
    "timeframe = start_timeframe + \" \" + end_timeframe\n",
    "\n",
    "# We choose the worldwide geolocalisation to mimic wikipedia\n",
    "worldwide = \"\" # empty string corresponds to worldwide\n",
    "\n",
    "t = create_and_set_gtab(start_timeframe, end_timeframe, worldwide)"
   ]
  },
  {
   "cell_type": "markdown",
   "metadata": {},
   "source": [
    "### Terrorism dataset\n",
    "\n",
    "48 Terrorism related search queries [2012-01-01 -> 2020-11-30]"
   ]
  },
  {
   "cell_type": "code",
   "execution_count": 13,
   "metadata": {},
   "outputs": [
    {
     "name": "stdout",
     "output_type": "stream",
     "text": [
      "Using gtab_data\\output\\google_anchorbanks\\google_anchorbank_geo=_timeframe=2012-01-01 2020-11-30.tsv\n",
      "New query '/m/0v74'\n",
      "New query calibrated!\n",
      "Using gtab_data\\output\\google_anchorbanks\\google_anchorbank_geo=_timeframe=2012-01-01 2020-11-30.tsv\n",
      "New query '/m/07jq_'\n",
      "New query calibrated!\n",
      "Using gtab_data\\output\\google_anchorbanks\\google_anchorbank_geo=_timeframe=2012-01-01 2020-11-30.tsv\n",
      "New query '/m/07jq_'\n",
      "New query calibrated!\n",
      "Using gtab_data\\output\\google_anchorbanks\\google_anchorbank_geo=_timeframe=2012-01-01 2020-11-30.tsv\n",
      "New query '/m/0gtxdb2'\n",
      "New query calibrated!\n",
      "Using gtab_data\\output\\google_anchorbanks\\google_anchorbank_geo=_timeframe=2012-01-01 2020-11-30.tsv\n",
      "New query '/m/0d05q4'\n",
      "New query calibrated!\n",
      "Using gtab_data\\output\\google_anchorbanks\\google_anchorbank_geo=_timeframe=2012-01-01 2020-11-30.tsv\n",
      "New query '/m/0jdd'\n",
      "New query calibrated!\n",
      "Using gtab_data\\output\\google_anchorbanks\\google_anchorbank_geo=_timeframe=2012-01-01 2020-11-30.tsv\n",
      "New query '/m/03shp'\n",
      "New query calibrated!\n",
      "Using gtab_data\\output\\google_anchorbanks\\google_anchorbank_geo=_timeframe=2012-01-01 2020-11-30.tsv\n",
      "New query '/m/05sb1'\n",
      "New query calibrated!\n",
      "Using gtab_data\\output\\google_anchorbanks\\google_anchorbank_geo=_timeframe=2012-01-01 2020-11-30.tsv\n",
      "New query '/m/019jkv'\n",
      "New query calibrated!\n",
      "Using gtab_data\\output\\google_anchorbanks\\google_anchorbank_geo=_timeframe=2012-01-01 2020-11-30.tsv\n",
      "New query '/m/02w1mcd'\n",
      "\n",
      "Bad keyword '/m/02w1mcd', because The request failed: Google returned a response with code 400.\n",
      "Keyword /m/02w1mcd is bad!\n",
      "Using gtab_data\\output\\google_anchorbanks\\google_anchorbank_geo=_timeframe=2012-01-01 2020-11-30.tsv\n",
      "New query '/m/01s60b'\n",
      "New query calibrated!\n",
      "Using gtab_data\\output\\google_anchorbanks\\google_anchorbank_geo=_timeframe=2012-01-01 2020-11-30.tsv\n",
      "New query '/m/02t93h'\n",
      "New query calibrated!\n",
      "Using gtab_data\\output\\google_anchorbanks\\google_anchorbank_geo=_timeframe=2012-01-01 2020-11-30.tsv\n",
      "New query '/m/0blqm8'\n",
      "New query calibrated!\n",
      "Using gtab_data\\output\\google_anchorbanks\\google_anchorbank_geo=_timeframe=2012-01-01 2020-11-30.tsv\n",
      "New query '/m/0fjf_'\n",
      "New query calibrated!\n",
      "Using gtab_data\\output\\google_anchorbanks\\google_anchorbank_geo=_timeframe=2012-01-01 2020-11-30.tsv\n",
      "New query '/m/04xkp'\n",
      "New query calibrated!\n",
      "Using gtab_data\\output\\google_anchorbanks\\google_anchorbank_geo=_timeframe=2012-01-01 2020-11-30.tsv\n",
      "New query '/m/0bwkbcx'\n",
      "New query calibrated!\n",
      "Using gtab_data\\output\\google_anchorbanks\\google_anchorbank_geo=_timeframe=2012-01-01 2020-11-30.tsv\n",
      "New query '/m/01xmw0'\n",
      "New query calibrated!\n",
      "Using gtab_data\\output\\google_anchorbanks\\google_anchorbank_geo=_timeframe=2012-01-01 2020-11-30.tsv\n",
      "New query '/m/0ny03'\n",
      "New query calibrated!\n",
      "Using gtab_data\\output\\google_anchorbanks\\google_anchorbank_geo=_timeframe=2012-01-01 2020-11-30.tsv\n",
      "New query '/m/01n8xw'\n",
      "New query calibrated!\n",
      "Using gtab_data\\output\\google_anchorbanks\\google_anchorbank_geo=_timeframe=2012-01-01 2020-11-30.tsv\n",
      "New query '/m/0xq_'\n",
      "New query calibrated!\n",
      "Using gtab_data\\output\\google_anchorbanks\\google_anchorbank_geo=_timeframe=2012-01-01 2020-11-30.tsv\n",
      "New query '/m/03m6j'\n",
      "New query calibrated!\n",
      "Using gtab_data\\output\\google_anchorbanks\\google_anchorbank_geo=_timeframe=2012-01-01 2020-11-30.tsv\n",
      "New query '/m/011ys5'\n",
      "New query calibrated!\n",
      "Using gtab_data\\output\\google_anchorbanks\\google_anchorbank_geo=_timeframe=2012-01-01 2020-11-30.tsv\n",
      "New query '/m/05sz6'\n",
      "New query calibrated!\n",
      "Using gtab_data\\output\\google_anchorbanks\\google_anchorbank_geo=_timeframe=2012-01-01 2020-11-30.tsv\n",
      "New query '/m/02pvw'\n",
      "New query calibrated!\n",
      "Using gtab_data\\output\\google_anchorbanks\\google_anchorbank_geo=_timeframe=2012-01-01 2020-11-30.tsv\n",
      "New query '/m/03m7d'\n",
      "New query calibrated!\n",
      "Using gtab_data\\output\\google_anchorbanks\\google_anchorbank_geo=_timeframe=2012-01-01 2020-11-30.tsv\n",
      "New query '/m/04q9w'\n",
      "New query calibrated!\n",
      "Using gtab_data\\output\\google_anchorbanks\\google_anchorbank_geo=_timeframe=2012-01-01 2020-11-30.tsv\n",
      "New query '/m/0jz65'\n",
      "New query calibrated!\n",
      "Using gtab_data\\output\\google_anchorbanks\\google_anchorbank_geo=_timeframe=2012-01-01 2020-11-30.tsv\n",
      "New query '/m/01d_w8'\n",
      "New query calibrated!\n",
      "Using gtab_data\\output\\google_anchorbanks\\google_anchorbank_geo=_timeframe=2012-01-01 2020-11-30.tsv\n",
      "New query '/m/014bmh'\n",
      "New query calibrated!\n",
      "Using gtab_data\\output\\google_anchorbanks\\google_anchorbank_geo=_timeframe=2012-01-01 2020-11-30.tsv\n",
      "New query '/m/0445s'\n",
      "New query calibrated!\n",
      "Using gtab_data\\output\\google_anchorbanks\\google_anchorbank_geo=_timeframe=2012-01-01 2020-11-30.tsv\n",
      "New query '/m/07jqh'\n",
      "New query calibrated!\n",
      "Using gtab_data\\output\\google_anchorbanks\\google_anchorbank_geo=_timeframe=2012-01-01 2020-11-30.tsv\n",
      "New query '/m/078f4'\n",
      "New query calibrated!\n",
      "Using gtab_data\\output\\google_anchorbanks\\google_anchorbank_geo=_timeframe=2012-01-01 2020-11-30.tsv\n",
      "New query '/m/02psd87'\n",
      "New query calibrated!\n",
      "Using gtab_data\\output\\google_anchorbanks\\google_anchorbank_geo=_timeframe=2012-01-01 2020-11-30.tsv\n",
      "New query '/m/02qr9gb'\n",
      "New query calibrated!\n",
      "Using gtab_data\\output\\google_anchorbanks\\google_anchorbank_geo=_timeframe=2012-01-01 2020-11-30.tsv\n",
      "New query '/m/04jhbb_'\n",
      "New query calibrated!\n",
      "Using gtab_data\\output\\google_anchorbanks\\google_anchorbank_geo=_timeframe=2012-01-01 2020-11-30.tsv\n",
      "New query '/m/01z88t'\n",
      "New query calibrated!\n",
      "Using gtab_data\\output\\google_anchorbanks\\google_anchorbank_geo=_timeframe=2012-01-01 2020-11-30.tsv\n",
      "New query '/m/01vksx'\n",
      "New query calibrated!\n",
      "Using gtab_data\\output\\google_anchorbanks\\google_anchorbank_geo=_timeframe=2012-01-01 2020-11-30.tsv\n",
      "New query '/m/027947'\n",
      "New query calibrated!\n",
      "Using gtab_data\\output\\google_anchorbanks\\google_anchorbank_geo=_timeframe=2012-01-01 2020-11-30.tsv\n",
      "New query '/m/06tgw'\n",
      "New query calibrated!\n",
      "Using gtab_data\\output\\google_anchorbanks\\google_anchorbank_geo=_timeframe=2012-01-01 2020-11-30.tsv\n",
      "New query '/m/05cgv'\n",
      "New query calibrated!\n",
      "Using gtab_data\\output\\google_anchorbanks\\google_anchorbank_geo=_timeframe=2012-01-01 2020-11-30.tsv\n",
      "New query '/m/03mhnhh'\n",
      "New query calibrated!\n",
      "Using gtab_data\\output\\google_anchorbanks\\google_anchorbank_geo=_timeframe=2012-01-01 2020-11-30.tsv\n",
      "New query '/m/027ggxz'\n",
      "New query calibrated!\n",
      "Using gtab_data\\output\\google_anchorbanks\\google_anchorbank_geo=_timeframe=2012-01-01 2020-11-30.tsv\n",
      "New query '/m/05gd9'\n",
      "New query calibrated!\n",
      "Using gtab_data\\output\\google_anchorbanks\\google_anchorbank_geo=_timeframe=2012-01-01 2020-11-30.tsv\n",
      "New query '/m/03nw7w'\n",
      "New query calibrated!\n",
      "Using gtab_data\\output\\google_anchorbanks\\google_anchorbank_geo=_timeframe=2012-01-01 2020-11-30.tsv\n",
      "New query '/m/032b8'\n",
      "New query calibrated!\n",
      "Using gtab_data\\output\\google_anchorbanks\\google_anchorbank_geo=_timeframe=2012-01-01 2020-11-30.tsv\n",
      "New query '/m/02qs3j'\n",
      "New query calibrated!\n"
     ]
    }
   ],
   "source": [
    "# Create terrorism dataframe\n",
    "terrorism_df = create_dataframe(terrorism_topic_queries, worldwide, t)"
   ]
  },
  {
   "cell_type": "code",
   "execution_count": 14,
   "metadata": {},
   "outputs": [],
   "source": [
    "# Save dataframe to pickle\n",
    "terrorism_df.to_pickle(data_path+\"terrorism_present.pkl\")"
   ]
  },
  {
   "cell_type": "markdown",
   "metadata": {},
   "source": [
    "### Domestic dataset\n",
    "\n",
    "25 Domestic related search queries [2012-01-01 -> 2020-11-30]"
   ]
  },
  {
   "cell_type": "code",
   "execution_count": 15,
   "metadata": {},
   "outputs": [
    {
     "name": "stdout",
     "output_type": "stream",
     "text": [
      "Using gtab_data\\output\\google_anchorbanks\\google_anchorbank_geo=_timeframe=2012-01-01 2020-11-30.tsv\n",
      "New query '/m/0fytk'\n",
      "New query calibrated!\n",
      "Using gtab_data\\output\\google_anchorbanks\\google_anchorbank_geo=_timeframe=2012-01-01 2020-11-30.tsv\n",
      "New query '/m/0js8z'\n",
      "New query calibrated!\n",
      "Using gtab_data\\output\\google_anchorbanks\\google_anchorbank_geo=_timeframe=2012-01-01 2020-11-30.tsv\n",
      "New query '/m/07xhy'\n",
      "New query calibrated!\n",
      "Using gtab_data\\output\\google_anchorbanks\\google_anchorbank_geo=_timeframe=2012-01-01 2020-11-30.tsv\n",
      "New query '/m/038r8p'\n",
      "New query calibrated!\n",
      "Using gtab_data\\output\\google_anchorbanks\\google_anchorbank_geo=_timeframe=2012-01-01 2020-11-30.tsv\n",
      "New query '/m/02qtlv'\n",
      "New query calibrated!\n",
      "Using gtab_data\\output\\google_anchorbanks\\google_anchorbank_geo=_timeframe=2012-01-01 2020-11-30.tsv\n",
      "New query '/m/0y4n5ll'\n",
      "New query calibrated!\n",
      "Using gtab_data\\output\\google_anchorbanks\\google_anchorbank_geo=_timeframe=2012-01-01 2020-11-30.tsv\n",
      "New query '/m/0f4r5'\n",
      "New query calibrated!\n",
      "Using gtab_data\\output\\google_anchorbanks\\google_anchorbank_geo=_timeframe=2012-01-01 2020-11-30.tsv\n",
      "New query '/m/02vnz'\n",
      "New query calibrated!\n",
      "Using gtab_data\\output\\google_anchorbanks\\google_anchorbank_geo=_timeframe=2012-01-01 2020-11-30.tsv\n",
      "New query '/m/04yd3hg'\n",
      "New query calibrated!\n",
      "Using gtab_data\\output\\google_anchorbanks\\google_anchorbank_geo=_timeframe=2012-01-01 2020-11-30.tsv\n",
      "New query '/m/0d6qjf'\n",
      "New query calibrated!\n",
      "Using gtab_data\\output\\google_anchorbanks\\google_anchorbank_geo=_timeframe=2012-01-01 2020-11-30.tsv\n",
      "New query '/m/02p7v5m'\n",
      "New query calibrated!\n",
      "Using gtab_data\\output\\google_anchorbanks\\google_anchorbank_geo=_timeframe=2012-01-01 2020-11-30.tsv\n",
      "New query '/m/012qj2'\n",
      "New query calibrated!\n",
      "Using gtab_data\\output\\google_anchorbanks\\google_anchorbank_geo=_timeframe=2012-01-01 2020-11-30.tsv\n",
      "New query '/m/02q3_66'\n",
      "\n",
      "Bad keyword '/m/02q3_66', because The request failed: Google returned a response with code 400.\n",
      "Keyword /m/02q3_66 is bad!\n",
      "Using gtab_data\\output\\google_anchorbanks\\google_anchorbank_geo=_timeframe=2012-01-01 2020-11-30.tsv\n",
      "New query '/m/02_1m'\n",
      "New query calibrated!\n",
      "Using gtab_data\\output\\google_anchorbanks\\google_anchorbank_geo=_timeframe=2012-01-01 2020-11-30.tsv\n",
      "New query '/m/020plr'\n",
      "New query calibrated!\n",
      "Using gtab_data\\output\\google_anchorbanks\\google_anchorbank_geo=_timeframe=2012-01-01 2020-11-30.tsv\n",
      "New query '/m/021psw'\n",
      "New query calibrated!\n",
      "Using gtab_data\\output\\google_anchorbanks\\google_anchorbank_geo=_timeframe=2012-01-01 2020-11-30.tsv\n",
      "New query '/m/03__hw'\n",
      "New query calibrated!\n",
      "Using gtab_data\\output\\google_anchorbanks\\google_anchorbank_geo=_timeframe=2012-01-01 2020-11-30.tsv\n",
      "New query '/m/0179dd'\n",
      "New query calibrated!\n",
      "Using gtab_data\\output\\google_anchorbanks\\google_anchorbank_geo=_timeframe=2012-01-01 2020-11-30.tsv\n",
      "New query '/m/03__hw'\n",
      "New query calibrated!\n",
      "Using gtab_data\\output\\google_anchorbanks\\google_anchorbank_geo=_timeframe=2012-01-01 2020-11-30.tsv\n",
      "New query '/m/02_hj'\n",
      "New query calibrated!\n",
      "Using gtab_data\\output\\google_anchorbanks\\google_anchorbank_geo=_timeframe=2012-01-01 2020-11-30.tsv\n",
      "New query '/m/09gs3'\n",
      "New query calibrated!\n",
      "Using gtab_data\\output\\google_anchorbanks\\google_anchorbank_geo=_timeframe=2012-01-01 2020-11-30.tsv\n",
      "New query '/m/052yrz'\n",
      "New query calibrated!\n",
      "Using gtab_data\\output\\google_anchorbanks\\google_anchorbank_geo=_timeframe=2012-01-01 2020-11-30.tsv\n",
      "New query '/m/01fp_h'\n",
      "New query calibrated!\n",
      "Using gtab_data\\output\\google_anchorbanks\\google_anchorbank_geo=_timeframe=2012-01-01 2020-11-30.tsv\n",
      "New query '/m/07t65'\n",
      "New query calibrated!\n"
     ]
    }
   ],
   "source": [
    "# Create dommestic dataframe\n",
    "dommestic_df = create_dataframe(domestic_topic_queries, worldwide, t)"
   ]
  },
  {
   "cell_type": "code",
   "execution_count": 16,
   "metadata": {},
   "outputs": [],
   "source": [
    "# Save dataframe to pickle\n",
    "dommestic_df.to_pickle(data_path+\"dommestic_present.pkl\")"
   ]
  },
  {
   "cell_type": "markdown",
   "metadata": {},
   "source": [
    "### Top 30 Terrorism dataset\n",
    "\n",
    "top 30 MTurk evaluation terrorism related search queries [2012-01-01 -> 2020-11-30]"
   ]
  },
  {
   "cell_type": "code",
   "execution_count": 18,
   "metadata": {},
   "outputs": [
    {
     "name": "stdout",
     "output_type": "stream",
     "text": [
      "Using gtab_data\\output\\google_anchorbanks\\google_anchorbank_geo=_timeframe=2012-01-01 2020-11-30.tsv\n",
      "New query '/m/0fytk'\n",
      "New query calibrated!\n",
      "Using gtab_data\\output\\google_anchorbanks\\google_anchorbank_geo=_timeframe=2012-01-01 2020-11-30.tsv\n",
      "New query '/m/0js8z'\n",
      "New query calibrated!\n",
      "Using gtab_data\\output\\google_anchorbanks\\google_anchorbank_geo=_timeframe=2012-01-01 2020-11-30.tsv\n",
      "New query '/m/07xhy'\n",
      "New query calibrated!\n",
      "Using gtab_data\\output\\google_anchorbanks\\google_anchorbank_geo=_timeframe=2012-01-01 2020-11-30.tsv\n",
      "New query '/m/038r8p'\n",
      "New query calibrated!\n",
      "Using gtab_data\\output\\google_anchorbanks\\google_anchorbank_geo=_timeframe=2012-01-01 2020-11-30.tsv\n",
      "New query '/m/02qtlv'\n",
      "New query calibrated!\n",
      "Using gtab_data\\output\\google_anchorbanks\\google_anchorbank_geo=_timeframe=2012-01-01 2020-11-30.tsv\n",
      "New query '/m/0y4n5ll'\n",
      "New query calibrated!\n",
      "Using gtab_data\\output\\google_anchorbanks\\google_anchorbank_geo=_timeframe=2012-01-01 2020-11-30.tsv\n",
      "New query '/m/0f4r5'\n",
      "New query calibrated!\n",
      "Using gtab_data\\output\\google_anchorbanks\\google_anchorbank_geo=_timeframe=2012-01-01 2020-11-30.tsv\n",
      "New query '/m/02vnz'\n",
      "New query calibrated!\n",
      "Using gtab_data\\output\\google_anchorbanks\\google_anchorbank_geo=_timeframe=2012-01-01 2020-11-30.tsv\n",
      "New query '/m/04yd3hg'\n",
      "New query calibrated!\n",
      "Using gtab_data\\output\\google_anchorbanks\\google_anchorbank_geo=_timeframe=2012-01-01 2020-11-30.tsv\n",
      "New query '/m/0d6qjf'\n",
      "New query calibrated!\n",
      "Using gtab_data\\output\\google_anchorbanks\\google_anchorbank_geo=_timeframe=2012-01-01 2020-11-30.tsv\n",
      "New query '/m/02p7v5m'\n",
      "New query calibrated!\n",
      "Using gtab_data\\output\\google_anchorbanks\\google_anchorbank_geo=_timeframe=2012-01-01 2020-11-30.tsv\n",
      "New query '/m/012qj2'\n",
      "New query calibrated!\n",
      "Using gtab_data\\output\\google_anchorbanks\\google_anchorbank_geo=_timeframe=2012-01-01 2020-11-30.tsv\n",
      "New query '/m/02q3_66'\n",
      "\n",
      "Bad keyword '/m/02q3_66', because The request failed: Google returned a response with code 400.\n",
      "Keyword /m/02q3_66 is bad!\n",
      "Using gtab_data\\output\\google_anchorbanks\\google_anchorbank_geo=_timeframe=2012-01-01 2020-11-30.tsv\n",
      "New query '/m/02_1m'\n",
      "New query calibrated!\n",
      "Using gtab_data\\output\\google_anchorbanks\\google_anchorbank_geo=_timeframe=2012-01-01 2020-11-30.tsv\n",
      "New query '/m/020plr'\n",
      "New query calibrated!\n",
      "Using gtab_data\\output\\google_anchorbanks\\google_anchorbank_geo=_timeframe=2012-01-01 2020-11-30.tsv\n",
      "New query '/m/021psw'\n",
      "New query calibrated!\n",
      "Using gtab_data\\output\\google_anchorbanks\\google_anchorbank_geo=_timeframe=2012-01-01 2020-11-30.tsv\n",
      "New query '/m/03__hw'\n",
      "New query calibrated!\n",
      "Using gtab_data\\output\\google_anchorbanks\\google_anchorbank_geo=_timeframe=2012-01-01 2020-11-30.tsv\n",
      "New query '/m/0179dd'\n",
      "New query calibrated!\n",
      "Using gtab_data\\output\\google_anchorbanks\\google_anchorbank_geo=_timeframe=2012-01-01 2020-11-30.tsv\n",
      "New query '/m/03__hw'\n",
      "New query calibrated!\n",
      "Using gtab_data\\output\\google_anchorbanks\\google_anchorbank_geo=_timeframe=2012-01-01 2020-11-30.tsv\n",
      "New query '/m/02_hj'\n",
      "New query calibrated!\n",
      "Using gtab_data\\output\\google_anchorbanks\\google_anchorbank_geo=_timeframe=2012-01-01 2020-11-30.tsv\n",
      "New query '/m/09gs3'\n",
      "New query calibrated!\n",
      "Using gtab_data\\output\\google_anchorbanks\\google_anchorbank_geo=_timeframe=2012-01-01 2020-11-30.tsv\n",
      "New query '/m/052yrz'\n",
      "New query calibrated!\n",
      "Using gtab_data\\output\\google_anchorbanks\\google_anchorbank_geo=_timeframe=2012-01-01 2020-11-30.tsv\n",
      "New query '/m/01fp_h'\n",
      "New query calibrated!\n",
      "Using gtab_data\\output\\google_anchorbanks\\google_anchorbank_geo=_timeframe=2012-01-01 2020-11-30.tsv\n",
      "New query '/m/07t65'\n",
      "New query calibrated!\n"
     ]
    }
   ],
   "source": [
    "# Create top-30 terrorism dataframe\n",
    "top_30_terrorism_df = create_dataframe(top_30_terrorism_topic_queries, worldwide, t)"
   ]
  },
  {
   "cell_type": "code",
   "execution_count": 19,
   "metadata": {},
   "outputs": [],
   "source": [
    "# Save dataframe to pickle\n",
    "top_30_terrorism_df.to_pickle(data_path+\"top_30_terrorism_present.pkl\")"
   ]
  },
  {
   "cell_type": "markdown",
   "metadata": {},
   "source": [
    "## Create present timeframe dataframes for different countries"
   ]
  },
  {
   "cell_type": "code",
   "execution_count": 20,
   "metadata": {
    "scrolled": true
   },
   "outputs": [],
   "source": [
    "#TODO: Artur refaire a partir dici\n",
    "# Set start to paper start timeframe and end to present time (Stop at November 2020)\n",
    "start_timeframe = \"2012-01-01\"\n",
    "end_timeframe   = \"2020-11-30\"\n",
    "timeframe = start_timeframe + \" \" + end_timeframe\n",
    "# Create anchorbanks for US, Canada, Australie, UK + Suisse"
   ]
  },
  {
   "cell_type": "code",
   "execution_count": 21,
   "metadata": {},
   "outputs": [],
   "source": [
    "%%capture\n",
    "# United States anchorbank\n",
    "t_US = create_and_set_gtab(start_timeframe, end_timeframe, \"US\")"
   ]
  },
  {
   "cell_type": "code",
   "execution_count": 22,
   "metadata": {},
   "outputs": [
    {
     "ename": "ConnectionError",
     "evalue": "Code 429: Query limit reached on this IP!",
     "output_type": "error",
     "traceback": [
      "\u001b[1;31m---------------------------------------------------------------------------\u001b[0m",
      "\u001b[1;31mResponseError\u001b[0m                             Traceback (most recent call last)",
      "\u001b[1;32mD:\\ProgramData\\Anaconda3\\lib\\site-packages\\gtab\\core.py\u001b[0m in \u001b[0;36m_check_keyword\u001b[1;34m(self, keyword)\u001b[0m\n\u001b[0;32m    132\u001b[0m         \u001b[1;32mtry\u001b[0m\u001b[1;33m:\u001b[0m\u001b[1;33m\u001b[0m\u001b[1;33m\u001b[0m\u001b[0m\n\u001b[1;32m--> 133\u001b[1;33m             \u001b[0mrez\u001b[0m \u001b[1;33m=\u001b[0m \u001b[0mself\u001b[0m\u001b[1;33m.\u001b[0m\u001b[0m_query_google\u001b[0m\u001b[1;33m(\u001b[0m\u001b[0mkeywords\u001b[0m\u001b[1;33m=\u001b[0m\u001b[0mkeyword\u001b[0m\u001b[1;33m)\u001b[0m\u001b[1;33m\u001b[0m\u001b[1;33m\u001b[0m\u001b[0m\n\u001b[0m\u001b[0;32m    134\u001b[0m             \u001b[1;32mreturn\u001b[0m \u001b[0mself\u001b[0m\u001b[1;33m.\u001b[0m\u001b[0m_is_not_blacklisted\u001b[0m\u001b[1;33m(\u001b[0m\u001b[0mkeyword\u001b[0m\u001b[1;33m)\u001b[0m \u001b[1;32mand\u001b[0m \u001b[1;32mnot\u001b[0m \u001b[0mrez\u001b[0m\u001b[1;33m.\u001b[0m\u001b[0mempty\u001b[0m\u001b[1;33m\u001b[0m\u001b[1;33m\u001b[0m\u001b[0m\n",
      "\u001b[1;32mD:\\ProgramData\\Anaconda3\\lib\\site-packages\\gtab\\core.py\u001b[0m in \u001b[0;36m_query_google\u001b[1;34m(self, keywords)\u001b[0m\n\u001b[0;32m    122\u001b[0m \u001b[1;33m\u001b[0m\u001b[0m\n\u001b[1;32m--> 123\u001b[1;33m         \u001b[0mself\u001b[0m\u001b[1;33m.\u001b[0m\u001b[0mpytrends\u001b[0m\u001b[1;33m.\u001b[0m\u001b[0mbuild_payload\u001b[0m\u001b[1;33m(\u001b[0m\u001b[0mkw_list\u001b[0m\u001b[1;33m=\u001b[0m\u001b[0mkeywords\u001b[0m\u001b[1;33m,\u001b[0m \u001b[1;33m**\u001b[0m\u001b[0mself\u001b[0m\u001b[1;33m.\u001b[0m\u001b[0mCONFIG\u001b[0m\u001b[1;33m[\u001b[0m\u001b[1;34m'PYTRENDS'\u001b[0m\u001b[1;33m]\u001b[0m\u001b[1;33m)\u001b[0m\u001b[1;33m\u001b[0m\u001b[1;33m\u001b[0m\u001b[0m\n\u001b[0m\u001b[0;32m    124\u001b[0m         \u001b[0mret\u001b[0m \u001b[1;33m=\u001b[0m \u001b[0mself\u001b[0m\u001b[1;33m.\u001b[0m\u001b[0mpytrends\u001b[0m\u001b[1;33m.\u001b[0m\u001b[0minterest_over_time\u001b[0m\u001b[1;33m(\u001b[0m\u001b[1;33m)\u001b[0m\u001b[1;33m\u001b[0m\u001b[1;33m\u001b[0m\u001b[0m\n",
      "\u001b[1;32mD:\\ProgramData\\Anaconda3\\lib\\site-packages\\pytrends\\request.py\u001b[0m in \u001b[0;36mbuild_payload\u001b[1;34m(self, kw_list, cat, timeframe, geo, gprop)\u001b[0m\n\u001b[0;32m    168\u001b[0m         \u001b[1;31m# get tokens\u001b[0m\u001b[1;33m\u001b[0m\u001b[1;33m\u001b[0m\u001b[1;33m\u001b[0m\u001b[0m\n\u001b[1;32m--> 169\u001b[1;33m         \u001b[0mself\u001b[0m\u001b[1;33m.\u001b[0m\u001b[0m_tokens\u001b[0m\u001b[1;33m(\u001b[0m\u001b[1;33m)\u001b[0m\u001b[1;33m\u001b[0m\u001b[1;33m\u001b[0m\u001b[0m\n\u001b[0m\u001b[0;32m    170\u001b[0m         \u001b[1;32mreturn\u001b[0m\u001b[1;33m\u001b[0m\u001b[1;33m\u001b[0m\u001b[0m\n",
      "\u001b[1;32mD:\\ProgramData\\Anaconda3\\lib\\site-packages\\pytrends\\request.py\u001b[0m in \u001b[0;36m_tokens\u001b[1;34m(self)\u001b[0m\n\u001b[0;32m    174\u001b[0m         \u001b[1;31m# make the request and parse the returned json\u001b[0m\u001b[1;33m\u001b[0m\u001b[1;33m\u001b[0m\u001b[1;33m\u001b[0m\u001b[0m\n\u001b[1;32m--> 175\u001b[1;33m         widget_dict = self._get_data(\n\u001b[0m\u001b[0;32m    176\u001b[0m             \u001b[0murl\u001b[0m\u001b[1;33m=\u001b[0m\u001b[0mTrendReq\u001b[0m\u001b[1;33m.\u001b[0m\u001b[0mGENERAL_URL\u001b[0m\u001b[1;33m,\u001b[0m\u001b[1;33m\u001b[0m\u001b[1;33m\u001b[0m\u001b[0m\n",
      "\u001b[1;32mD:\\ProgramData\\Anaconda3\\lib\\site-packages\\pytrends\\request.py\u001b[0m in \u001b[0;36m_get_data\u001b[1;34m(self, url, method, trim_chars, **kwargs)\u001b[0m\n\u001b[0;32m    144\u001b[0m             \u001b[1;31m# error\u001b[0m\u001b[1;33m\u001b[0m\u001b[1;33m\u001b[0m\u001b[1;33m\u001b[0m\u001b[0m\n\u001b[1;32m--> 145\u001b[1;33m             raise exceptions.ResponseError(\n\u001b[0m\u001b[0;32m    146\u001b[0m                 \u001b[1;34m'The request failed: Google returned a '\u001b[0m\u001b[1;33m\u001b[0m\u001b[1;33m\u001b[0m\u001b[0m\n",
      "\u001b[1;31mResponseError\u001b[0m: The request failed: Google returned a response with code 429.",
      "\nDuring handling of the above exception, another exception occurred:\n",
      "\u001b[1;31mConnectionError\u001b[0m                           Traceback (most recent call last)",
      "\u001b[1;32m<ipython-input-22-af251f03aa0f>\u001b[0m in \u001b[0;36m<module>\u001b[1;34m\u001b[0m\n\u001b[0;32m      1\u001b[0m \u001b[1;31m# Canada anchorbank\u001b[0m\u001b[1;33m\u001b[0m\u001b[1;33m\u001b[0m\u001b[1;33m\u001b[0m\u001b[0m\n\u001b[1;32m----> 2\u001b[1;33m \u001b[0mt_CA\u001b[0m \u001b[1;33m=\u001b[0m \u001b[0mcreate_and_set_gtab\u001b[0m\u001b[1;33m(\u001b[0m\u001b[0mstart_timeframe\u001b[0m\u001b[1;33m,\u001b[0m \u001b[0mend_timeframe\u001b[0m\u001b[1;33m,\u001b[0m \u001b[1;34m\"CA\"\u001b[0m\u001b[1;33m)\u001b[0m\u001b[1;33m\u001b[0m\u001b[1;33m\u001b[0m\u001b[0m\n\u001b[0m",
      "\u001b[1;32m<ipython-input-11-7cf7f998814e>\u001b[0m in \u001b[0;36mcreate_and_set_gtab\u001b[1;34m(start_timeframe, end_timeframe, geo, gtab_path)\u001b[0m\n\u001b[0;32m     22\u001b[0m \u001b[1;33m\u001b[0m\u001b[0m\n\u001b[0;32m     23\u001b[0m     \u001b[1;31m# Create anchorbank if it doesn't already exist\u001b[0m\u001b[1;33m\u001b[0m\u001b[1;33m\u001b[0m\u001b[1;33m\u001b[0m\u001b[0m\n\u001b[1;32m---> 24\u001b[1;33m     \u001b[0mt\u001b[0m\u001b[1;33m.\u001b[0m\u001b[0mcreate_anchorbank\u001b[0m\u001b[1;33m(\u001b[0m\u001b[1;33m)\u001b[0m \u001b[1;31m# takes a while to run since it queries Google Trends.\u001b[0m\u001b[1;33m\u001b[0m\u001b[1;33m\u001b[0m\u001b[0m\n\u001b[0m\u001b[0;32m     25\u001b[0m \u001b[1;33m\u001b[0m\u001b[0m\n\u001b[0;32m     26\u001b[0m     \u001b[1;31m# We apply the anchorbank\u001b[0m\u001b[1;33m\u001b[0m\u001b[1;33m\u001b[0m\u001b[1;33m\u001b[0m\u001b[0m\n",
      "\u001b[1;32mD:\\ProgramData\\Anaconda3\\lib\\site-packages\\gtab\\core.py\u001b[0m in \u001b[0;36mcreate_anchorbank\u001b[1;34m(self, verbose, keep_diagnostics)\u001b[0m\n\u001b[0;32m    791\u001b[0m                                   f\"google_anchorbank_{self._make_file_suffix()}.tsv\")\n\u001b[0;32m    792\u001b[0m         \u001b[1;32mif\u001b[0m \u001b[1;32mnot\u001b[0m \u001b[0mos\u001b[0m\u001b[1;33m.\u001b[0m\u001b[0mpath\u001b[0m\u001b[1;33m.\u001b[0m\u001b[0mexists\u001b[0m\u001b[1;33m(\u001b[0m\u001b[0mfname_base\u001b[0m\u001b[1;33m)\u001b[0m\u001b[1;33m:\u001b[0m\u001b[1;33m\u001b[0m\u001b[1;33m\u001b[0m\u001b[0m\n\u001b[1;32m--> 793\u001b[1;33m             \u001b[0mgoogle_results\u001b[0m \u001b[1;33m=\u001b[0m \u001b[0mself\u001b[0m\u001b[1;33m.\u001b[0m\u001b[0m_get_google_results\u001b[0m\u001b[1;33m(\u001b[0m\u001b[1;33m)\u001b[0m\u001b[1;33m\u001b[0m\u001b[1;33m\u001b[0m\u001b[0m\n\u001b[0m\u001b[0;32m    794\u001b[0m             \u001b[1;32mif\u001b[0m \u001b[0mkeep_diagnostics\u001b[0m\u001b[1;33m:\u001b[0m\u001b[1;33m\u001b[0m\u001b[1;33m\u001b[0m\u001b[0m\n\u001b[0;32m    795\u001b[0m                 \u001b[0mself\u001b[0m\u001b[1;33m.\u001b[0m\u001b[0mgoogle_results\u001b[0m \u001b[1;33m=\u001b[0m \u001b[0mgoogle_results\u001b[0m\u001b[1;33m\u001b[0m\u001b[1;33m\u001b[0m\u001b[0m\n",
      "\u001b[1;32mD:\\ProgramData\\Anaconda3\\lib\\site-packages\\gtab\\core.py\u001b[0m in \u001b[0;36m_get_google_results\u001b[1;34m(self)\u001b[0m\n\u001b[0;32m    292\u001b[0m \u001b[1;33m\u001b[0m\u001b[0m\n\u001b[0;32m    293\u001b[0m                 \u001b[0mkeywords\u001b[0m \u001b[1;33m=\u001b[0m \u001b[0mself\u001b[0m\u001b[1;33m.\u001b[0m\u001b[0mHITRAFFIC\u001b[0m \u001b[1;33m+\u001b[0m \u001b[0msamples\u001b[0m\u001b[1;33m\u001b[0m\u001b[1;33m\u001b[0m\u001b[0m\n\u001b[1;32m--> 294\u001b[1;33m                 \u001b[0mkeywords\u001b[0m \u001b[1;33m=\u001b[0m \u001b[1;33m[\u001b[0m\u001b[0mk\u001b[0m \u001b[1;32mfor\u001b[0m \u001b[0mk\u001b[0m \u001b[1;32min\u001b[0m \u001b[0mtqdm\u001b[0m\u001b[1;33m(\u001b[0m\u001b[0mkeywords\u001b[0m\u001b[1;33m,\u001b[0m \u001b[0mtotal\u001b[0m\u001b[1;33m=\u001b[0m\u001b[0mlen\u001b[0m\u001b[1;33m(\u001b[0m\u001b[0mkeywords\u001b[0m\u001b[1;33m)\u001b[0m\u001b[1;33m)\u001b[0m \u001b[1;32mif\u001b[0m \u001b[0mself\u001b[0m\u001b[1;33m.\u001b[0m\u001b[0m_check_keyword\u001b[0m\u001b[1;33m(\u001b[0m\u001b[0mk\u001b[0m\u001b[1;33m)\u001b[0m\u001b[1;33m]\u001b[0m\u001b[1;33m\u001b[0m\u001b[1;33m\u001b[0m\u001b[0m\n\u001b[0m\u001b[0;32m    295\u001b[0m \u001b[1;33m\u001b[0m\u001b[0m\n\u001b[0;32m    296\u001b[0m             \u001b[1;32melse\u001b[0m\u001b[1;33m:\u001b[0m\u001b[1;33m\u001b[0m\u001b[1;33m\u001b[0m\u001b[0m\n",
      "\u001b[1;32mD:\\ProgramData\\Anaconda3\\lib\\site-packages\\gtab\\core.py\u001b[0m in \u001b[0;36m<listcomp>\u001b[1;34m(.0)\u001b[0m\n\u001b[0;32m    292\u001b[0m \u001b[1;33m\u001b[0m\u001b[0m\n\u001b[0;32m    293\u001b[0m                 \u001b[0mkeywords\u001b[0m \u001b[1;33m=\u001b[0m \u001b[0mself\u001b[0m\u001b[1;33m.\u001b[0m\u001b[0mHITRAFFIC\u001b[0m \u001b[1;33m+\u001b[0m \u001b[0msamples\u001b[0m\u001b[1;33m\u001b[0m\u001b[1;33m\u001b[0m\u001b[0m\n\u001b[1;32m--> 294\u001b[1;33m                 \u001b[0mkeywords\u001b[0m \u001b[1;33m=\u001b[0m \u001b[1;33m[\u001b[0m\u001b[0mk\u001b[0m \u001b[1;32mfor\u001b[0m \u001b[0mk\u001b[0m \u001b[1;32min\u001b[0m \u001b[0mtqdm\u001b[0m\u001b[1;33m(\u001b[0m\u001b[0mkeywords\u001b[0m\u001b[1;33m,\u001b[0m \u001b[0mtotal\u001b[0m\u001b[1;33m=\u001b[0m\u001b[0mlen\u001b[0m\u001b[1;33m(\u001b[0m\u001b[0mkeywords\u001b[0m\u001b[1;33m)\u001b[0m\u001b[1;33m)\u001b[0m \u001b[1;32mif\u001b[0m \u001b[0mself\u001b[0m\u001b[1;33m.\u001b[0m\u001b[0m_check_keyword\u001b[0m\u001b[1;33m(\u001b[0m\u001b[0mk\u001b[0m\u001b[1;33m)\u001b[0m\u001b[1;33m]\u001b[0m\u001b[1;33m\u001b[0m\u001b[1;33m\u001b[0m\u001b[0m\n\u001b[0m\u001b[0;32m    295\u001b[0m \u001b[1;33m\u001b[0m\u001b[0m\n\u001b[0;32m    296\u001b[0m             \u001b[1;32melse\u001b[0m\u001b[1;33m:\u001b[0m\u001b[1;33m\u001b[0m\u001b[1;33m\u001b[0m\u001b[0m\n",
      "\u001b[1;32mD:\\ProgramData\\Anaconda3\\lib\\site-packages\\gtab\\core.py\u001b[0m in \u001b[0;36m_check_keyword\u001b[1;34m(self, keyword)\u001b[0m\n\u001b[0;32m    139\u001b[0m             \u001b[1;32mif\u001b[0m \u001b[1;34m\"response\"\u001b[0m \u001b[1;32min\u001b[0m \u001b[0mdir\u001b[0m\u001b[1;33m(\u001b[0m\u001b[0me\u001b[0m\u001b[1;33m)\u001b[0m\u001b[1;33m:\u001b[0m\u001b[1;33m\u001b[0m\u001b[1;33m\u001b[0m\u001b[0m\n\u001b[0;32m    140\u001b[0m                 \u001b[1;32mif\u001b[0m \u001b[0me\u001b[0m\u001b[1;33m.\u001b[0m\u001b[0mresponse\u001b[0m\u001b[1;33m.\u001b[0m\u001b[0mstatus_code\u001b[0m \u001b[1;33m==\u001b[0m \u001b[1;36m429\u001b[0m\u001b[1;33m:\u001b[0m\u001b[1;33m\u001b[0m\u001b[1;33m\u001b[0m\u001b[0m\n\u001b[1;32m--> 141\u001b[1;33m                     \u001b[1;32mraise\u001b[0m \u001b[0mConnectionError\u001b[0m\u001b[1;33m(\u001b[0m\u001b[1;34m\"Code 429: Query limit reached on this IP!\"\u001b[0m\u001b[1;33m)\u001b[0m\u001b[1;33m\u001b[0m\u001b[1;33m\u001b[0m\u001b[0m\n\u001b[0m\u001b[0;32m    142\u001b[0m \u001b[1;33m\u001b[0m\u001b[0m\n\u001b[0;32m    143\u001b[0m             \u001b[1;32mreturn\u001b[0m \u001b[1;32mFalse\u001b[0m\u001b[1;33m\u001b[0m\u001b[1;33m\u001b[0m\u001b[0m\n",
      "\u001b[1;31mConnectionError\u001b[0m: Code 429: Query limit reached on this IP!"
     ]
    }
   ],
   "source": [
    "%%capture\n",
    "# Canada anchorbank\n",
    "t_CA = create_and_set_gtab(start_timeframe, end_timeframe, \"CA\")\n"
   ]
  },
  {
   "cell_type": "code",
   "execution_count": 23,
   "metadata": {},
   "outputs": [
    {
     "ename": "ConnectionError",
     "evalue": "Code 429: Query limit reached on this IP!",
     "output_type": "error",
     "traceback": [
      "\u001b[1;31m---------------------------------------------------------------------------\u001b[0m",
      "\u001b[1;31mResponseError\u001b[0m                             Traceback (most recent call last)",
      "\u001b[1;32mD:\\ProgramData\\Anaconda3\\lib\\site-packages\\gtab\\core.py\u001b[0m in \u001b[0;36m_check_keyword\u001b[1;34m(self, keyword)\u001b[0m\n\u001b[0;32m    132\u001b[0m         \u001b[1;32mtry\u001b[0m\u001b[1;33m:\u001b[0m\u001b[1;33m\u001b[0m\u001b[1;33m\u001b[0m\u001b[0m\n\u001b[1;32m--> 133\u001b[1;33m             \u001b[0mrez\u001b[0m \u001b[1;33m=\u001b[0m \u001b[0mself\u001b[0m\u001b[1;33m.\u001b[0m\u001b[0m_query_google\u001b[0m\u001b[1;33m(\u001b[0m\u001b[0mkeywords\u001b[0m\u001b[1;33m=\u001b[0m\u001b[0mkeyword\u001b[0m\u001b[1;33m)\u001b[0m\u001b[1;33m\u001b[0m\u001b[1;33m\u001b[0m\u001b[0m\n\u001b[0m\u001b[0;32m    134\u001b[0m             \u001b[1;32mreturn\u001b[0m \u001b[0mself\u001b[0m\u001b[1;33m.\u001b[0m\u001b[0m_is_not_blacklisted\u001b[0m\u001b[1;33m(\u001b[0m\u001b[0mkeyword\u001b[0m\u001b[1;33m)\u001b[0m \u001b[1;32mand\u001b[0m \u001b[1;32mnot\u001b[0m \u001b[0mrez\u001b[0m\u001b[1;33m.\u001b[0m\u001b[0mempty\u001b[0m\u001b[1;33m\u001b[0m\u001b[1;33m\u001b[0m\u001b[0m\n",
      "\u001b[1;32mD:\\ProgramData\\Anaconda3\\lib\\site-packages\\gtab\\core.py\u001b[0m in \u001b[0;36m_query_google\u001b[1;34m(self, keywords)\u001b[0m\n\u001b[0;32m    122\u001b[0m \u001b[1;33m\u001b[0m\u001b[0m\n\u001b[1;32m--> 123\u001b[1;33m         \u001b[0mself\u001b[0m\u001b[1;33m.\u001b[0m\u001b[0mpytrends\u001b[0m\u001b[1;33m.\u001b[0m\u001b[0mbuild_payload\u001b[0m\u001b[1;33m(\u001b[0m\u001b[0mkw_list\u001b[0m\u001b[1;33m=\u001b[0m\u001b[0mkeywords\u001b[0m\u001b[1;33m,\u001b[0m \u001b[1;33m**\u001b[0m\u001b[0mself\u001b[0m\u001b[1;33m.\u001b[0m\u001b[0mCONFIG\u001b[0m\u001b[1;33m[\u001b[0m\u001b[1;34m'PYTRENDS'\u001b[0m\u001b[1;33m]\u001b[0m\u001b[1;33m)\u001b[0m\u001b[1;33m\u001b[0m\u001b[1;33m\u001b[0m\u001b[0m\n\u001b[0m\u001b[0;32m    124\u001b[0m         \u001b[0mret\u001b[0m \u001b[1;33m=\u001b[0m \u001b[0mself\u001b[0m\u001b[1;33m.\u001b[0m\u001b[0mpytrends\u001b[0m\u001b[1;33m.\u001b[0m\u001b[0minterest_over_time\u001b[0m\u001b[1;33m(\u001b[0m\u001b[1;33m)\u001b[0m\u001b[1;33m\u001b[0m\u001b[1;33m\u001b[0m\u001b[0m\n",
      "\u001b[1;32mD:\\ProgramData\\Anaconda3\\lib\\site-packages\\pytrends\\request.py\u001b[0m in \u001b[0;36mbuild_payload\u001b[1;34m(self, kw_list, cat, timeframe, geo, gprop)\u001b[0m\n\u001b[0;32m    168\u001b[0m         \u001b[1;31m# get tokens\u001b[0m\u001b[1;33m\u001b[0m\u001b[1;33m\u001b[0m\u001b[1;33m\u001b[0m\u001b[0m\n\u001b[1;32m--> 169\u001b[1;33m         \u001b[0mself\u001b[0m\u001b[1;33m.\u001b[0m\u001b[0m_tokens\u001b[0m\u001b[1;33m(\u001b[0m\u001b[1;33m)\u001b[0m\u001b[1;33m\u001b[0m\u001b[1;33m\u001b[0m\u001b[0m\n\u001b[0m\u001b[0;32m    170\u001b[0m         \u001b[1;32mreturn\u001b[0m\u001b[1;33m\u001b[0m\u001b[1;33m\u001b[0m\u001b[0m\n",
      "\u001b[1;32mD:\\ProgramData\\Anaconda3\\lib\\site-packages\\pytrends\\request.py\u001b[0m in \u001b[0;36m_tokens\u001b[1;34m(self)\u001b[0m\n\u001b[0;32m    174\u001b[0m         \u001b[1;31m# make the request and parse the returned json\u001b[0m\u001b[1;33m\u001b[0m\u001b[1;33m\u001b[0m\u001b[1;33m\u001b[0m\u001b[0m\n\u001b[1;32m--> 175\u001b[1;33m         widget_dict = self._get_data(\n\u001b[0m\u001b[0;32m    176\u001b[0m             \u001b[0murl\u001b[0m\u001b[1;33m=\u001b[0m\u001b[0mTrendReq\u001b[0m\u001b[1;33m.\u001b[0m\u001b[0mGENERAL_URL\u001b[0m\u001b[1;33m,\u001b[0m\u001b[1;33m\u001b[0m\u001b[1;33m\u001b[0m\u001b[0m\n",
      "\u001b[1;32mD:\\ProgramData\\Anaconda3\\lib\\site-packages\\pytrends\\request.py\u001b[0m in \u001b[0;36m_get_data\u001b[1;34m(self, url, method, trim_chars, **kwargs)\u001b[0m\n\u001b[0;32m    144\u001b[0m             \u001b[1;31m# error\u001b[0m\u001b[1;33m\u001b[0m\u001b[1;33m\u001b[0m\u001b[1;33m\u001b[0m\u001b[0m\n\u001b[1;32m--> 145\u001b[1;33m             raise exceptions.ResponseError(\n\u001b[0m\u001b[0;32m    146\u001b[0m                 \u001b[1;34m'The request failed: Google returned a '\u001b[0m\u001b[1;33m\u001b[0m\u001b[1;33m\u001b[0m\u001b[0m\n",
      "\u001b[1;31mResponseError\u001b[0m: The request failed: Google returned a response with code 429.",
      "\nDuring handling of the above exception, another exception occurred:\n",
      "\u001b[1;31mConnectionError\u001b[0m                           Traceback (most recent call last)",
      "\u001b[1;32m<ipython-input-23-d0d79970f7c9>\u001b[0m in \u001b[0;36m<module>\u001b[1;34m\u001b[0m\n\u001b[0;32m      1\u001b[0m \u001b[1;31m# Australia anchorbank\u001b[0m\u001b[1;33m\u001b[0m\u001b[1;33m\u001b[0m\u001b[1;33m\u001b[0m\u001b[0m\n\u001b[1;32m----> 2\u001b[1;33m \u001b[0mt_AU\u001b[0m \u001b[1;33m=\u001b[0m \u001b[0mcreate_and_set_gtab\u001b[0m\u001b[1;33m(\u001b[0m\u001b[0mstart_timeframe\u001b[0m\u001b[1;33m,\u001b[0m \u001b[0mend_timeframe\u001b[0m\u001b[1;33m,\u001b[0m \u001b[1;34m\"AU\"\u001b[0m\u001b[1;33m)\u001b[0m\u001b[1;33m\u001b[0m\u001b[1;33m\u001b[0m\u001b[0m\n\u001b[0m",
      "\u001b[1;32m<ipython-input-11-7cf7f998814e>\u001b[0m in \u001b[0;36mcreate_and_set_gtab\u001b[1;34m(start_timeframe, end_timeframe, geo, gtab_path)\u001b[0m\n\u001b[0;32m     22\u001b[0m \u001b[1;33m\u001b[0m\u001b[0m\n\u001b[0;32m     23\u001b[0m     \u001b[1;31m# Create anchorbank if it doesn't already exist\u001b[0m\u001b[1;33m\u001b[0m\u001b[1;33m\u001b[0m\u001b[1;33m\u001b[0m\u001b[0m\n\u001b[1;32m---> 24\u001b[1;33m     \u001b[0mt\u001b[0m\u001b[1;33m.\u001b[0m\u001b[0mcreate_anchorbank\u001b[0m\u001b[1;33m(\u001b[0m\u001b[1;33m)\u001b[0m \u001b[1;31m# takes a while to run since it queries Google Trends.\u001b[0m\u001b[1;33m\u001b[0m\u001b[1;33m\u001b[0m\u001b[0m\n\u001b[0m\u001b[0;32m     25\u001b[0m \u001b[1;33m\u001b[0m\u001b[0m\n\u001b[0;32m     26\u001b[0m     \u001b[1;31m# We apply the anchorbank\u001b[0m\u001b[1;33m\u001b[0m\u001b[1;33m\u001b[0m\u001b[1;33m\u001b[0m\u001b[0m\n",
      "\u001b[1;32mD:\\ProgramData\\Anaconda3\\lib\\site-packages\\gtab\\core.py\u001b[0m in \u001b[0;36mcreate_anchorbank\u001b[1;34m(self, verbose, keep_diagnostics)\u001b[0m\n\u001b[0;32m    791\u001b[0m                                   f\"google_anchorbank_{self._make_file_suffix()}.tsv\")\n\u001b[0;32m    792\u001b[0m         \u001b[1;32mif\u001b[0m \u001b[1;32mnot\u001b[0m \u001b[0mos\u001b[0m\u001b[1;33m.\u001b[0m\u001b[0mpath\u001b[0m\u001b[1;33m.\u001b[0m\u001b[0mexists\u001b[0m\u001b[1;33m(\u001b[0m\u001b[0mfname_base\u001b[0m\u001b[1;33m)\u001b[0m\u001b[1;33m:\u001b[0m\u001b[1;33m\u001b[0m\u001b[1;33m\u001b[0m\u001b[0m\n\u001b[1;32m--> 793\u001b[1;33m             \u001b[0mgoogle_results\u001b[0m \u001b[1;33m=\u001b[0m \u001b[0mself\u001b[0m\u001b[1;33m.\u001b[0m\u001b[0m_get_google_results\u001b[0m\u001b[1;33m(\u001b[0m\u001b[1;33m)\u001b[0m\u001b[1;33m\u001b[0m\u001b[1;33m\u001b[0m\u001b[0m\n\u001b[0m\u001b[0;32m    794\u001b[0m             \u001b[1;32mif\u001b[0m \u001b[0mkeep_diagnostics\u001b[0m\u001b[1;33m:\u001b[0m\u001b[1;33m\u001b[0m\u001b[1;33m\u001b[0m\u001b[0m\n\u001b[0;32m    795\u001b[0m                 \u001b[0mself\u001b[0m\u001b[1;33m.\u001b[0m\u001b[0mgoogle_results\u001b[0m \u001b[1;33m=\u001b[0m \u001b[0mgoogle_results\u001b[0m\u001b[1;33m\u001b[0m\u001b[1;33m\u001b[0m\u001b[0m\n",
      "\u001b[1;32mD:\\ProgramData\\Anaconda3\\lib\\site-packages\\gtab\\core.py\u001b[0m in \u001b[0;36m_get_google_results\u001b[1;34m(self)\u001b[0m\n\u001b[0;32m    292\u001b[0m \u001b[1;33m\u001b[0m\u001b[0m\n\u001b[0;32m    293\u001b[0m                 \u001b[0mkeywords\u001b[0m \u001b[1;33m=\u001b[0m \u001b[0mself\u001b[0m\u001b[1;33m.\u001b[0m\u001b[0mHITRAFFIC\u001b[0m \u001b[1;33m+\u001b[0m \u001b[0msamples\u001b[0m\u001b[1;33m\u001b[0m\u001b[1;33m\u001b[0m\u001b[0m\n\u001b[1;32m--> 294\u001b[1;33m                 \u001b[0mkeywords\u001b[0m \u001b[1;33m=\u001b[0m \u001b[1;33m[\u001b[0m\u001b[0mk\u001b[0m \u001b[1;32mfor\u001b[0m \u001b[0mk\u001b[0m \u001b[1;32min\u001b[0m \u001b[0mtqdm\u001b[0m\u001b[1;33m(\u001b[0m\u001b[0mkeywords\u001b[0m\u001b[1;33m,\u001b[0m \u001b[0mtotal\u001b[0m\u001b[1;33m=\u001b[0m\u001b[0mlen\u001b[0m\u001b[1;33m(\u001b[0m\u001b[0mkeywords\u001b[0m\u001b[1;33m)\u001b[0m\u001b[1;33m)\u001b[0m \u001b[1;32mif\u001b[0m \u001b[0mself\u001b[0m\u001b[1;33m.\u001b[0m\u001b[0m_check_keyword\u001b[0m\u001b[1;33m(\u001b[0m\u001b[0mk\u001b[0m\u001b[1;33m)\u001b[0m\u001b[1;33m]\u001b[0m\u001b[1;33m\u001b[0m\u001b[1;33m\u001b[0m\u001b[0m\n\u001b[0m\u001b[0;32m    295\u001b[0m \u001b[1;33m\u001b[0m\u001b[0m\n\u001b[0;32m    296\u001b[0m             \u001b[1;32melse\u001b[0m\u001b[1;33m:\u001b[0m\u001b[1;33m\u001b[0m\u001b[1;33m\u001b[0m\u001b[0m\n",
      "\u001b[1;32mD:\\ProgramData\\Anaconda3\\lib\\site-packages\\gtab\\core.py\u001b[0m in \u001b[0;36m<listcomp>\u001b[1;34m(.0)\u001b[0m\n\u001b[0;32m    292\u001b[0m \u001b[1;33m\u001b[0m\u001b[0m\n\u001b[0;32m    293\u001b[0m                 \u001b[0mkeywords\u001b[0m \u001b[1;33m=\u001b[0m \u001b[0mself\u001b[0m\u001b[1;33m.\u001b[0m\u001b[0mHITRAFFIC\u001b[0m \u001b[1;33m+\u001b[0m \u001b[0msamples\u001b[0m\u001b[1;33m\u001b[0m\u001b[1;33m\u001b[0m\u001b[0m\n\u001b[1;32m--> 294\u001b[1;33m                 \u001b[0mkeywords\u001b[0m \u001b[1;33m=\u001b[0m \u001b[1;33m[\u001b[0m\u001b[0mk\u001b[0m \u001b[1;32mfor\u001b[0m \u001b[0mk\u001b[0m \u001b[1;32min\u001b[0m \u001b[0mtqdm\u001b[0m\u001b[1;33m(\u001b[0m\u001b[0mkeywords\u001b[0m\u001b[1;33m,\u001b[0m \u001b[0mtotal\u001b[0m\u001b[1;33m=\u001b[0m\u001b[0mlen\u001b[0m\u001b[1;33m(\u001b[0m\u001b[0mkeywords\u001b[0m\u001b[1;33m)\u001b[0m\u001b[1;33m)\u001b[0m \u001b[1;32mif\u001b[0m \u001b[0mself\u001b[0m\u001b[1;33m.\u001b[0m\u001b[0m_check_keyword\u001b[0m\u001b[1;33m(\u001b[0m\u001b[0mk\u001b[0m\u001b[1;33m)\u001b[0m\u001b[1;33m]\u001b[0m\u001b[1;33m\u001b[0m\u001b[1;33m\u001b[0m\u001b[0m\n\u001b[0m\u001b[0;32m    295\u001b[0m \u001b[1;33m\u001b[0m\u001b[0m\n\u001b[0;32m    296\u001b[0m             \u001b[1;32melse\u001b[0m\u001b[1;33m:\u001b[0m\u001b[1;33m\u001b[0m\u001b[1;33m\u001b[0m\u001b[0m\n",
      "\u001b[1;32mD:\\ProgramData\\Anaconda3\\lib\\site-packages\\gtab\\core.py\u001b[0m in \u001b[0;36m_check_keyword\u001b[1;34m(self, keyword)\u001b[0m\n\u001b[0;32m    139\u001b[0m             \u001b[1;32mif\u001b[0m \u001b[1;34m\"response\"\u001b[0m \u001b[1;32min\u001b[0m \u001b[0mdir\u001b[0m\u001b[1;33m(\u001b[0m\u001b[0me\u001b[0m\u001b[1;33m)\u001b[0m\u001b[1;33m:\u001b[0m\u001b[1;33m\u001b[0m\u001b[1;33m\u001b[0m\u001b[0m\n\u001b[0;32m    140\u001b[0m                 \u001b[1;32mif\u001b[0m \u001b[0me\u001b[0m\u001b[1;33m.\u001b[0m\u001b[0mresponse\u001b[0m\u001b[1;33m.\u001b[0m\u001b[0mstatus_code\u001b[0m \u001b[1;33m==\u001b[0m \u001b[1;36m429\u001b[0m\u001b[1;33m:\u001b[0m\u001b[1;33m\u001b[0m\u001b[1;33m\u001b[0m\u001b[0m\n\u001b[1;32m--> 141\u001b[1;33m                     \u001b[1;32mraise\u001b[0m \u001b[0mConnectionError\u001b[0m\u001b[1;33m(\u001b[0m\u001b[1;34m\"Code 429: Query limit reached on this IP!\"\u001b[0m\u001b[1;33m)\u001b[0m\u001b[1;33m\u001b[0m\u001b[1;33m\u001b[0m\u001b[0m\n\u001b[0m\u001b[0;32m    142\u001b[0m \u001b[1;33m\u001b[0m\u001b[0m\n\u001b[0;32m    143\u001b[0m             \u001b[1;32mreturn\u001b[0m \u001b[1;32mFalse\u001b[0m\u001b[1;33m\u001b[0m\u001b[1;33m\u001b[0m\u001b[0m\n",
      "\u001b[1;31mConnectionError\u001b[0m: Code 429: Query limit reached on this IP!"
     ]
    }
   ],
   "source": [
    "%%capture\n",
    "# Australia anchorbank\n",
    "t_AU = create_and_set_gtab(start_timeframe, end_timeframe, \"AU\")\n"
   ]
  },
  {
   "cell_type": "code",
   "execution_count": 24,
   "metadata": {},
   "outputs": [
    {
     "ename": "ConnectionError",
     "evalue": "Code 429: Query limit reached on this IP!",
     "output_type": "error",
     "traceback": [
      "\u001b[1;31m---------------------------------------------------------------------------\u001b[0m",
      "\u001b[1;31mResponseError\u001b[0m                             Traceback (most recent call last)",
      "\u001b[1;32mD:\\ProgramData\\Anaconda3\\lib\\site-packages\\gtab\\core.py\u001b[0m in \u001b[0;36m_check_keyword\u001b[1;34m(self, keyword)\u001b[0m\n\u001b[0;32m    132\u001b[0m         \u001b[1;32mtry\u001b[0m\u001b[1;33m:\u001b[0m\u001b[1;33m\u001b[0m\u001b[1;33m\u001b[0m\u001b[0m\n\u001b[1;32m--> 133\u001b[1;33m             \u001b[0mrez\u001b[0m \u001b[1;33m=\u001b[0m \u001b[0mself\u001b[0m\u001b[1;33m.\u001b[0m\u001b[0m_query_google\u001b[0m\u001b[1;33m(\u001b[0m\u001b[0mkeywords\u001b[0m\u001b[1;33m=\u001b[0m\u001b[0mkeyword\u001b[0m\u001b[1;33m)\u001b[0m\u001b[1;33m\u001b[0m\u001b[1;33m\u001b[0m\u001b[0m\n\u001b[0m\u001b[0;32m    134\u001b[0m             \u001b[1;32mreturn\u001b[0m \u001b[0mself\u001b[0m\u001b[1;33m.\u001b[0m\u001b[0m_is_not_blacklisted\u001b[0m\u001b[1;33m(\u001b[0m\u001b[0mkeyword\u001b[0m\u001b[1;33m)\u001b[0m \u001b[1;32mand\u001b[0m \u001b[1;32mnot\u001b[0m \u001b[0mrez\u001b[0m\u001b[1;33m.\u001b[0m\u001b[0mempty\u001b[0m\u001b[1;33m\u001b[0m\u001b[1;33m\u001b[0m\u001b[0m\n",
      "\u001b[1;32mD:\\ProgramData\\Anaconda3\\lib\\site-packages\\gtab\\core.py\u001b[0m in \u001b[0;36m_query_google\u001b[1;34m(self, keywords)\u001b[0m\n\u001b[0;32m    122\u001b[0m \u001b[1;33m\u001b[0m\u001b[0m\n\u001b[1;32m--> 123\u001b[1;33m         \u001b[0mself\u001b[0m\u001b[1;33m.\u001b[0m\u001b[0mpytrends\u001b[0m\u001b[1;33m.\u001b[0m\u001b[0mbuild_payload\u001b[0m\u001b[1;33m(\u001b[0m\u001b[0mkw_list\u001b[0m\u001b[1;33m=\u001b[0m\u001b[0mkeywords\u001b[0m\u001b[1;33m,\u001b[0m \u001b[1;33m**\u001b[0m\u001b[0mself\u001b[0m\u001b[1;33m.\u001b[0m\u001b[0mCONFIG\u001b[0m\u001b[1;33m[\u001b[0m\u001b[1;34m'PYTRENDS'\u001b[0m\u001b[1;33m]\u001b[0m\u001b[1;33m)\u001b[0m\u001b[1;33m\u001b[0m\u001b[1;33m\u001b[0m\u001b[0m\n\u001b[0m\u001b[0;32m    124\u001b[0m         \u001b[0mret\u001b[0m \u001b[1;33m=\u001b[0m \u001b[0mself\u001b[0m\u001b[1;33m.\u001b[0m\u001b[0mpytrends\u001b[0m\u001b[1;33m.\u001b[0m\u001b[0minterest_over_time\u001b[0m\u001b[1;33m(\u001b[0m\u001b[1;33m)\u001b[0m\u001b[1;33m\u001b[0m\u001b[1;33m\u001b[0m\u001b[0m\n",
      "\u001b[1;32mD:\\ProgramData\\Anaconda3\\lib\\site-packages\\pytrends\\request.py\u001b[0m in \u001b[0;36mbuild_payload\u001b[1;34m(self, kw_list, cat, timeframe, geo, gprop)\u001b[0m\n\u001b[0;32m    168\u001b[0m         \u001b[1;31m# get tokens\u001b[0m\u001b[1;33m\u001b[0m\u001b[1;33m\u001b[0m\u001b[1;33m\u001b[0m\u001b[0m\n\u001b[1;32m--> 169\u001b[1;33m         \u001b[0mself\u001b[0m\u001b[1;33m.\u001b[0m\u001b[0m_tokens\u001b[0m\u001b[1;33m(\u001b[0m\u001b[1;33m)\u001b[0m\u001b[1;33m\u001b[0m\u001b[1;33m\u001b[0m\u001b[0m\n\u001b[0m\u001b[0;32m    170\u001b[0m         \u001b[1;32mreturn\u001b[0m\u001b[1;33m\u001b[0m\u001b[1;33m\u001b[0m\u001b[0m\n",
      "\u001b[1;32mD:\\ProgramData\\Anaconda3\\lib\\site-packages\\pytrends\\request.py\u001b[0m in \u001b[0;36m_tokens\u001b[1;34m(self)\u001b[0m\n\u001b[0;32m    174\u001b[0m         \u001b[1;31m# make the request and parse the returned json\u001b[0m\u001b[1;33m\u001b[0m\u001b[1;33m\u001b[0m\u001b[1;33m\u001b[0m\u001b[0m\n\u001b[1;32m--> 175\u001b[1;33m         widget_dict = self._get_data(\n\u001b[0m\u001b[0;32m    176\u001b[0m             \u001b[0murl\u001b[0m\u001b[1;33m=\u001b[0m\u001b[0mTrendReq\u001b[0m\u001b[1;33m.\u001b[0m\u001b[0mGENERAL_URL\u001b[0m\u001b[1;33m,\u001b[0m\u001b[1;33m\u001b[0m\u001b[1;33m\u001b[0m\u001b[0m\n",
      "\u001b[1;32mD:\\ProgramData\\Anaconda3\\lib\\site-packages\\pytrends\\request.py\u001b[0m in \u001b[0;36m_get_data\u001b[1;34m(self, url, method, trim_chars, **kwargs)\u001b[0m\n\u001b[0;32m    144\u001b[0m             \u001b[1;31m# error\u001b[0m\u001b[1;33m\u001b[0m\u001b[1;33m\u001b[0m\u001b[1;33m\u001b[0m\u001b[0m\n\u001b[1;32m--> 145\u001b[1;33m             raise exceptions.ResponseError(\n\u001b[0m\u001b[0;32m    146\u001b[0m                 \u001b[1;34m'The request failed: Google returned a '\u001b[0m\u001b[1;33m\u001b[0m\u001b[1;33m\u001b[0m\u001b[0m\n",
      "\u001b[1;31mResponseError\u001b[0m: The request failed: Google returned a response with code 429.",
      "\nDuring handling of the above exception, another exception occurred:\n",
      "\u001b[1;31mConnectionError\u001b[0m                           Traceback (most recent call last)",
      "\u001b[1;32m<ipython-input-24-89fc1ec08348>\u001b[0m in \u001b[0;36m<module>\u001b[1;34m\u001b[0m\n\u001b[0;32m      1\u001b[0m \u001b[1;31m# United Kingdom anchorbank\u001b[0m\u001b[1;33m\u001b[0m\u001b[1;33m\u001b[0m\u001b[1;33m\u001b[0m\u001b[0m\n\u001b[1;32m----> 2\u001b[1;33m \u001b[0mt_GB\u001b[0m \u001b[1;33m=\u001b[0m \u001b[0mcreate_and_set_gtab\u001b[0m\u001b[1;33m(\u001b[0m\u001b[0mstart_timeframe\u001b[0m\u001b[1;33m,\u001b[0m \u001b[0mend_timeframe\u001b[0m\u001b[1;33m,\u001b[0m \u001b[1;34m\"GB\"\u001b[0m\u001b[1;33m)\u001b[0m\u001b[1;33m\u001b[0m\u001b[1;33m\u001b[0m\u001b[0m\n\u001b[0m",
      "\u001b[1;32m<ipython-input-11-7cf7f998814e>\u001b[0m in \u001b[0;36mcreate_and_set_gtab\u001b[1;34m(start_timeframe, end_timeframe, geo, gtab_path)\u001b[0m\n\u001b[0;32m     22\u001b[0m \u001b[1;33m\u001b[0m\u001b[0m\n\u001b[0;32m     23\u001b[0m     \u001b[1;31m# Create anchorbank if it doesn't already exist\u001b[0m\u001b[1;33m\u001b[0m\u001b[1;33m\u001b[0m\u001b[1;33m\u001b[0m\u001b[0m\n\u001b[1;32m---> 24\u001b[1;33m     \u001b[0mt\u001b[0m\u001b[1;33m.\u001b[0m\u001b[0mcreate_anchorbank\u001b[0m\u001b[1;33m(\u001b[0m\u001b[1;33m)\u001b[0m \u001b[1;31m# takes a while to run since it queries Google Trends.\u001b[0m\u001b[1;33m\u001b[0m\u001b[1;33m\u001b[0m\u001b[0m\n\u001b[0m\u001b[0;32m     25\u001b[0m \u001b[1;33m\u001b[0m\u001b[0m\n\u001b[0;32m     26\u001b[0m     \u001b[1;31m# We apply the anchorbank\u001b[0m\u001b[1;33m\u001b[0m\u001b[1;33m\u001b[0m\u001b[1;33m\u001b[0m\u001b[0m\n",
      "\u001b[1;32mD:\\ProgramData\\Anaconda3\\lib\\site-packages\\gtab\\core.py\u001b[0m in \u001b[0;36mcreate_anchorbank\u001b[1;34m(self, verbose, keep_diagnostics)\u001b[0m\n\u001b[0;32m    791\u001b[0m                                   f\"google_anchorbank_{self._make_file_suffix()}.tsv\")\n\u001b[0;32m    792\u001b[0m         \u001b[1;32mif\u001b[0m \u001b[1;32mnot\u001b[0m \u001b[0mos\u001b[0m\u001b[1;33m.\u001b[0m\u001b[0mpath\u001b[0m\u001b[1;33m.\u001b[0m\u001b[0mexists\u001b[0m\u001b[1;33m(\u001b[0m\u001b[0mfname_base\u001b[0m\u001b[1;33m)\u001b[0m\u001b[1;33m:\u001b[0m\u001b[1;33m\u001b[0m\u001b[1;33m\u001b[0m\u001b[0m\n\u001b[1;32m--> 793\u001b[1;33m             \u001b[0mgoogle_results\u001b[0m \u001b[1;33m=\u001b[0m \u001b[0mself\u001b[0m\u001b[1;33m.\u001b[0m\u001b[0m_get_google_results\u001b[0m\u001b[1;33m(\u001b[0m\u001b[1;33m)\u001b[0m\u001b[1;33m\u001b[0m\u001b[1;33m\u001b[0m\u001b[0m\n\u001b[0m\u001b[0;32m    794\u001b[0m             \u001b[1;32mif\u001b[0m \u001b[0mkeep_diagnostics\u001b[0m\u001b[1;33m:\u001b[0m\u001b[1;33m\u001b[0m\u001b[1;33m\u001b[0m\u001b[0m\n\u001b[0;32m    795\u001b[0m                 \u001b[0mself\u001b[0m\u001b[1;33m.\u001b[0m\u001b[0mgoogle_results\u001b[0m \u001b[1;33m=\u001b[0m \u001b[0mgoogle_results\u001b[0m\u001b[1;33m\u001b[0m\u001b[1;33m\u001b[0m\u001b[0m\n",
      "\u001b[1;32mD:\\ProgramData\\Anaconda3\\lib\\site-packages\\gtab\\core.py\u001b[0m in \u001b[0;36m_get_google_results\u001b[1;34m(self)\u001b[0m\n\u001b[0;32m    292\u001b[0m \u001b[1;33m\u001b[0m\u001b[0m\n\u001b[0;32m    293\u001b[0m                 \u001b[0mkeywords\u001b[0m \u001b[1;33m=\u001b[0m \u001b[0mself\u001b[0m\u001b[1;33m.\u001b[0m\u001b[0mHITRAFFIC\u001b[0m \u001b[1;33m+\u001b[0m \u001b[0msamples\u001b[0m\u001b[1;33m\u001b[0m\u001b[1;33m\u001b[0m\u001b[0m\n\u001b[1;32m--> 294\u001b[1;33m                 \u001b[0mkeywords\u001b[0m \u001b[1;33m=\u001b[0m \u001b[1;33m[\u001b[0m\u001b[0mk\u001b[0m \u001b[1;32mfor\u001b[0m \u001b[0mk\u001b[0m \u001b[1;32min\u001b[0m \u001b[0mtqdm\u001b[0m\u001b[1;33m(\u001b[0m\u001b[0mkeywords\u001b[0m\u001b[1;33m,\u001b[0m \u001b[0mtotal\u001b[0m\u001b[1;33m=\u001b[0m\u001b[0mlen\u001b[0m\u001b[1;33m(\u001b[0m\u001b[0mkeywords\u001b[0m\u001b[1;33m)\u001b[0m\u001b[1;33m)\u001b[0m \u001b[1;32mif\u001b[0m \u001b[0mself\u001b[0m\u001b[1;33m.\u001b[0m\u001b[0m_check_keyword\u001b[0m\u001b[1;33m(\u001b[0m\u001b[0mk\u001b[0m\u001b[1;33m)\u001b[0m\u001b[1;33m]\u001b[0m\u001b[1;33m\u001b[0m\u001b[1;33m\u001b[0m\u001b[0m\n\u001b[0m\u001b[0;32m    295\u001b[0m \u001b[1;33m\u001b[0m\u001b[0m\n\u001b[0;32m    296\u001b[0m             \u001b[1;32melse\u001b[0m\u001b[1;33m:\u001b[0m\u001b[1;33m\u001b[0m\u001b[1;33m\u001b[0m\u001b[0m\n",
      "\u001b[1;32mD:\\ProgramData\\Anaconda3\\lib\\site-packages\\gtab\\core.py\u001b[0m in \u001b[0;36m<listcomp>\u001b[1;34m(.0)\u001b[0m\n\u001b[0;32m    292\u001b[0m \u001b[1;33m\u001b[0m\u001b[0m\n\u001b[0;32m    293\u001b[0m                 \u001b[0mkeywords\u001b[0m \u001b[1;33m=\u001b[0m \u001b[0mself\u001b[0m\u001b[1;33m.\u001b[0m\u001b[0mHITRAFFIC\u001b[0m \u001b[1;33m+\u001b[0m \u001b[0msamples\u001b[0m\u001b[1;33m\u001b[0m\u001b[1;33m\u001b[0m\u001b[0m\n\u001b[1;32m--> 294\u001b[1;33m                 \u001b[0mkeywords\u001b[0m \u001b[1;33m=\u001b[0m \u001b[1;33m[\u001b[0m\u001b[0mk\u001b[0m \u001b[1;32mfor\u001b[0m \u001b[0mk\u001b[0m \u001b[1;32min\u001b[0m \u001b[0mtqdm\u001b[0m\u001b[1;33m(\u001b[0m\u001b[0mkeywords\u001b[0m\u001b[1;33m,\u001b[0m \u001b[0mtotal\u001b[0m\u001b[1;33m=\u001b[0m\u001b[0mlen\u001b[0m\u001b[1;33m(\u001b[0m\u001b[0mkeywords\u001b[0m\u001b[1;33m)\u001b[0m\u001b[1;33m)\u001b[0m \u001b[1;32mif\u001b[0m \u001b[0mself\u001b[0m\u001b[1;33m.\u001b[0m\u001b[0m_check_keyword\u001b[0m\u001b[1;33m(\u001b[0m\u001b[0mk\u001b[0m\u001b[1;33m)\u001b[0m\u001b[1;33m]\u001b[0m\u001b[1;33m\u001b[0m\u001b[1;33m\u001b[0m\u001b[0m\n\u001b[0m\u001b[0;32m    295\u001b[0m \u001b[1;33m\u001b[0m\u001b[0m\n\u001b[0;32m    296\u001b[0m             \u001b[1;32melse\u001b[0m\u001b[1;33m:\u001b[0m\u001b[1;33m\u001b[0m\u001b[1;33m\u001b[0m\u001b[0m\n",
      "\u001b[1;32mD:\\ProgramData\\Anaconda3\\lib\\site-packages\\gtab\\core.py\u001b[0m in \u001b[0;36m_check_keyword\u001b[1;34m(self, keyword)\u001b[0m\n\u001b[0;32m    139\u001b[0m             \u001b[1;32mif\u001b[0m \u001b[1;34m\"response\"\u001b[0m \u001b[1;32min\u001b[0m \u001b[0mdir\u001b[0m\u001b[1;33m(\u001b[0m\u001b[0me\u001b[0m\u001b[1;33m)\u001b[0m\u001b[1;33m:\u001b[0m\u001b[1;33m\u001b[0m\u001b[1;33m\u001b[0m\u001b[0m\n\u001b[0;32m    140\u001b[0m                 \u001b[1;32mif\u001b[0m \u001b[0me\u001b[0m\u001b[1;33m.\u001b[0m\u001b[0mresponse\u001b[0m\u001b[1;33m.\u001b[0m\u001b[0mstatus_code\u001b[0m \u001b[1;33m==\u001b[0m \u001b[1;36m429\u001b[0m\u001b[1;33m:\u001b[0m\u001b[1;33m\u001b[0m\u001b[1;33m\u001b[0m\u001b[0m\n\u001b[1;32m--> 141\u001b[1;33m                     \u001b[1;32mraise\u001b[0m \u001b[0mConnectionError\u001b[0m\u001b[1;33m(\u001b[0m\u001b[1;34m\"Code 429: Query limit reached on this IP!\"\u001b[0m\u001b[1;33m)\u001b[0m\u001b[1;33m\u001b[0m\u001b[1;33m\u001b[0m\u001b[0m\n\u001b[0m\u001b[0;32m    142\u001b[0m \u001b[1;33m\u001b[0m\u001b[0m\n\u001b[0;32m    143\u001b[0m             \u001b[1;32mreturn\u001b[0m \u001b[1;32mFalse\u001b[0m\u001b[1;33m\u001b[0m\u001b[1;33m\u001b[0m\u001b[0m\n",
      "\u001b[1;31mConnectionError\u001b[0m: Code 429: Query limit reached on this IP!"
     ]
    }
   ],
   "source": [
    "%%capture\n",
    "# United Kingdom anchorbank\n",
    "t_GB = create_and_set_gtab(start_timeframe, end_timeframe, \"GB\")\n"
   ]
  },
  {
   "cell_type": "code",
   "execution_count": 25,
   "metadata": {},
   "outputs": [
    {
     "ename": "ConnectionError",
     "evalue": "Code 429: Query limit reached on this IP!",
     "output_type": "error",
     "traceback": [
      "\u001b[1;31m---------------------------------------------------------------------------\u001b[0m",
      "\u001b[1;31mResponseError\u001b[0m                             Traceback (most recent call last)",
      "\u001b[1;32mD:\\ProgramData\\Anaconda3\\lib\\site-packages\\gtab\\core.py\u001b[0m in \u001b[0;36m_check_keyword\u001b[1;34m(self, keyword)\u001b[0m\n\u001b[0;32m    132\u001b[0m         \u001b[1;32mtry\u001b[0m\u001b[1;33m:\u001b[0m\u001b[1;33m\u001b[0m\u001b[1;33m\u001b[0m\u001b[0m\n\u001b[1;32m--> 133\u001b[1;33m             \u001b[0mrez\u001b[0m \u001b[1;33m=\u001b[0m \u001b[0mself\u001b[0m\u001b[1;33m.\u001b[0m\u001b[0m_query_google\u001b[0m\u001b[1;33m(\u001b[0m\u001b[0mkeywords\u001b[0m\u001b[1;33m=\u001b[0m\u001b[0mkeyword\u001b[0m\u001b[1;33m)\u001b[0m\u001b[1;33m\u001b[0m\u001b[1;33m\u001b[0m\u001b[0m\n\u001b[0m\u001b[0;32m    134\u001b[0m             \u001b[1;32mreturn\u001b[0m \u001b[0mself\u001b[0m\u001b[1;33m.\u001b[0m\u001b[0m_is_not_blacklisted\u001b[0m\u001b[1;33m(\u001b[0m\u001b[0mkeyword\u001b[0m\u001b[1;33m)\u001b[0m \u001b[1;32mand\u001b[0m \u001b[1;32mnot\u001b[0m \u001b[0mrez\u001b[0m\u001b[1;33m.\u001b[0m\u001b[0mempty\u001b[0m\u001b[1;33m\u001b[0m\u001b[1;33m\u001b[0m\u001b[0m\n",
      "\u001b[1;32mD:\\ProgramData\\Anaconda3\\lib\\site-packages\\gtab\\core.py\u001b[0m in \u001b[0;36m_query_google\u001b[1;34m(self, keywords)\u001b[0m\n\u001b[0;32m    122\u001b[0m \u001b[1;33m\u001b[0m\u001b[0m\n\u001b[1;32m--> 123\u001b[1;33m         \u001b[0mself\u001b[0m\u001b[1;33m.\u001b[0m\u001b[0mpytrends\u001b[0m\u001b[1;33m.\u001b[0m\u001b[0mbuild_payload\u001b[0m\u001b[1;33m(\u001b[0m\u001b[0mkw_list\u001b[0m\u001b[1;33m=\u001b[0m\u001b[0mkeywords\u001b[0m\u001b[1;33m,\u001b[0m \u001b[1;33m**\u001b[0m\u001b[0mself\u001b[0m\u001b[1;33m.\u001b[0m\u001b[0mCONFIG\u001b[0m\u001b[1;33m[\u001b[0m\u001b[1;34m'PYTRENDS'\u001b[0m\u001b[1;33m]\u001b[0m\u001b[1;33m)\u001b[0m\u001b[1;33m\u001b[0m\u001b[1;33m\u001b[0m\u001b[0m\n\u001b[0m\u001b[0;32m    124\u001b[0m         \u001b[0mret\u001b[0m \u001b[1;33m=\u001b[0m \u001b[0mself\u001b[0m\u001b[1;33m.\u001b[0m\u001b[0mpytrends\u001b[0m\u001b[1;33m.\u001b[0m\u001b[0minterest_over_time\u001b[0m\u001b[1;33m(\u001b[0m\u001b[1;33m)\u001b[0m\u001b[1;33m\u001b[0m\u001b[1;33m\u001b[0m\u001b[0m\n",
      "\u001b[1;32mD:\\ProgramData\\Anaconda3\\lib\\site-packages\\pytrends\\request.py\u001b[0m in \u001b[0;36mbuild_payload\u001b[1;34m(self, kw_list, cat, timeframe, geo, gprop)\u001b[0m\n\u001b[0;32m    168\u001b[0m         \u001b[1;31m# get tokens\u001b[0m\u001b[1;33m\u001b[0m\u001b[1;33m\u001b[0m\u001b[1;33m\u001b[0m\u001b[0m\n\u001b[1;32m--> 169\u001b[1;33m         \u001b[0mself\u001b[0m\u001b[1;33m.\u001b[0m\u001b[0m_tokens\u001b[0m\u001b[1;33m(\u001b[0m\u001b[1;33m)\u001b[0m\u001b[1;33m\u001b[0m\u001b[1;33m\u001b[0m\u001b[0m\n\u001b[0m\u001b[0;32m    170\u001b[0m         \u001b[1;32mreturn\u001b[0m\u001b[1;33m\u001b[0m\u001b[1;33m\u001b[0m\u001b[0m\n",
      "\u001b[1;32mD:\\ProgramData\\Anaconda3\\lib\\site-packages\\pytrends\\request.py\u001b[0m in \u001b[0;36m_tokens\u001b[1;34m(self)\u001b[0m\n\u001b[0;32m    174\u001b[0m         \u001b[1;31m# make the request and parse the returned json\u001b[0m\u001b[1;33m\u001b[0m\u001b[1;33m\u001b[0m\u001b[1;33m\u001b[0m\u001b[0m\n\u001b[1;32m--> 175\u001b[1;33m         widget_dict = self._get_data(\n\u001b[0m\u001b[0;32m    176\u001b[0m             \u001b[0murl\u001b[0m\u001b[1;33m=\u001b[0m\u001b[0mTrendReq\u001b[0m\u001b[1;33m.\u001b[0m\u001b[0mGENERAL_URL\u001b[0m\u001b[1;33m,\u001b[0m\u001b[1;33m\u001b[0m\u001b[1;33m\u001b[0m\u001b[0m\n",
      "\u001b[1;32mD:\\ProgramData\\Anaconda3\\lib\\site-packages\\pytrends\\request.py\u001b[0m in \u001b[0;36m_get_data\u001b[1;34m(self, url, method, trim_chars, **kwargs)\u001b[0m\n\u001b[0;32m    144\u001b[0m             \u001b[1;31m# error\u001b[0m\u001b[1;33m\u001b[0m\u001b[1;33m\u001b[0m\u001b[1;33m\u001b[0m\u001b[0m\n\u001b[1;32m--> 145\u001b[1;33m             raise exceptions.ResponseError(\n\u001b[0m\u001b[0;32m    146\u001b[0m                 \u001b[1;34m'The request failed: Google returned a '\u001b[0m\u001b[1;33m\u001b[0m\u001b[1;33m\u001b[0m\u001b[0m\n",
      "\u001b[1;31mResponseError\u001b[0m: The request failed: Google returned a response with code 429.",
      "\nDuring handling of the above exception, another exception occurred:\n",
      "\u001b[1;31mConnectionError\u001b[0m                           Traceback (most recent call last)",
      "\u001b[1;32m<ipython-input-25-773fb2384083>\u001b[0m in \u001b[0;36m<module>\u001b[1;34m\u001b[0m\n\u001b[0;32m      1\u001b[0m \u001b[1;31m# Switzerland anchorbank\u001b[0m\u001b[1;33m\u001b[0m\u001b[1;33m\u001b[0m\u001b[1;33m\u001b[0m\u001b[0m\n\u001b[1;32m----> 2\u001b[1;33m \u001b[0mt_CH\u001b[0m \u001b[1;33m=\u001b[0m \u001b[0mcreate_and_set_gtab\u001b[0m\u001b[1;33m(\u001b[0m\u001b[0mstart_timeframe\u001b[0m\u001b[1;33m,\u001b[0m \u001b[0mend_timeframe\u001b[0m\u001b[1;33m,\u001b[0m \u001b[1;34m\"CH\"\u001b[0m\u001b[1;33m)\u001b[0m\u001b[1;33m\u001b[0m\u001b[1;33m\u001b[0m\u001b[0m\n\u001b[0m",
      "\u001b[1;32m<ipython-input-11-7cf7f998814e>\u001b[0m in \u001b[0;36mcreate_and_set_gtab\u001b[1;34m(start_timeframe, end_timeframe, geo, gtab_path)\u001b[0m\n\u001b[0;32m     22\u001b[0m \u001b[1;33m\u001b[0m\u001b[0m\n\u001b[0;32m     23\u001b[0m     \u001b[1;31m# Create anchorbank if it doesn't already exist\u001b[0m\u001b[1;33m\u001b[0m\u001b[1;33m\u001b[0m\u001b[1;33m\u001b[0m\u001b[0m\n\u001b[1;32m---> 24\u001b[1;33m     \u001b[0mt\u001b[0m\u001b[1;33m.\u001b[0m\u001b[0mcreate_anchorbank\u001b[0m\u001b[1;33m(\u001b[0m\u001b[1;33m)\u001b[0m \u001b[1;31m# takes a while to run since it queries Google Trends.\u001b[0m\u001b[1;33m\u001b[0m\u001b[1;33m\u001b[0m\u001b[0m\n\u001b[0m\u001b[0;32m     25\u001b[0m \u001b[1;33m\u001b[0m\u001b[0m\n\u001b[0;32m     26\u001b[0m     \u001b[1;31m# We apply the anchorbank\u001b[0m\u001b[1;33m\u001b[0m\u001b[1;33m\u001b[0m\u001b[1;33m\u001b[0m\u001b[0m\n",
      "\u001b[1;32mD:\\ProgramData\\Anaconda3\\lib\\site-packages\\gtab\\core.py\u001b[0m in \u001b[0;36mcreate_anchorbank\u001b[1;34m(self, verbose, keep_diagnostics)\u001b[0m\n\u001b[0;32m    791\u001b[0m                                   f\"google_anchorbank_{self._make_file_suffix()}.tsv\")\n\u001b[0;32m    792\u001b[0m         \u001b[1;32mif\u001b[0m \u001b[1;32mnot\u001b[0m \u001b[0mos\u001b[0m\u001b[1;33m.\u001b[0m\u001b[0mpath\u001b[0m\u001b[1;33m.\u001b[0m\u001b[0mexists\u001b[0m\u001b[1;33m(\u001b[0m\u001b[0mfname_base\u001b[0m\u001b[1;33m)\u001b[0m\u001b[1;33m:\u001b[0m\u001b[1;33m\u001b[0m\u001b[1;33m\u001b[0m\u001b[0m\n\u001b[1;32m--> 793\u001b[1;33m             \u001b[0mgoogle_results\u001b[0m \u001b[1;33m=\u001b[0m \u001b[0mself\u001b[0m\u001b[1;33m.\u001b[0m\u001b[0m_get_google_results\u001b[0m\u001b[1;33m(\u001b[0m\u001b[1;33m)\u001b[0m\u001b[1;33m\u001b[0m\u001b[1;33m\u001b[0m\u001b[0m\n\u001b[0m\u001b[0;32m    794\u001b[0m             \u001b[1;32mif\u001b[0m \u001b[0mkeep_diagnostics\u001b[0m\u001b[1;33m:\u001b[0m\u001b[1;33m\u001b[0m\u001b[1;33m\u001b[0m\u001b[0m\n\u001b[0;32m    795\u001b[0m                 \u001b[0mself\u001b[0m\u001b[1;33m.\u001b[0m\u001b[0mgoogle_results\u001b[0m \u001b[1;33m=\u001b[0m \u001b[0mgoogle_results\u001b[0m\u001b[1;33m\u001b[0m\u001b[1;33m\u001b[0m\u001b[0m\n",
      "\u001b[1;32mD:\\ProgramData\\Anaconda3\\lib\\site-packages\\gtab\\core.py\u001b[0m in \u001b[0;36m_get_google_results\u001b[1;34m(self)\u001b[0m\n\u001b[0;32m    292\u001b[0m \u001b[1;33m\u001b[0m\u001b[0m\n\u001b[0;32m    293\u001b[0m                 \u001b[0mkeywords\u001b[0m \u001b[1;33m=\u001b[0m \u001b[0mself\u001b[0m\u001b[1;33m.\u001b[0m\u001b[0mHITRAFFIC\u001b[0m \u001b[1;33m+\u001b[0m \u001b[0msamples\u001b[0m\u001b[1;33m\u001b[0m\u001b[1;33m\u001b[0m\u001b[0m\n\u001b[1;32m--> 294\u001b[1;33m                 \u001b[0mkeywords\u001b[0m \u001b[1;33m=\u001b[0m \u001b[1;33m[\u001b[0m\u001b[0mk\u001b[0m \u001b[1;32mfor\u001b[0m \u001b[0mk\u001b[0m \u001b[1;32min\u001b[0m \u001b[0mtqdm\u001b[0m\u001b[1;33m(\u001b[0m\u001b[0mkeywords\u001b[0m\u001b[1;33m,\u001b[0m \u001b[0mtotal\u001b[0m\u001b[1;33m=\u001b[0m\u001b[0mlen\u001b[0m\u001b[1;33m(\u001b[0m\u001b[0mkeywords\u001b[0m\u001b[1;33m)\u001b[0m\u001b[1;33m)\u001b[0m \u001b[1;32mif\u001b[0m \u001b[0mself\u001b[0m\u001b[1;33m.\u001b[0m\u001b[0m_check_keyword\u001b[0m\u001b[1;33m(\u001b[0m\u001b[0mk\u001b[0m\u001b[1;33m)\u001b[0m\u001b[1;33m]\u001b[0m\u001b[1;33m\u001b[0m\u001b[1;33m\u001b[0m\u001b[0m\n\u001b[0m\u001b[0;32m    295\u001b[0m \u001b[1;33m\u001b[0m\u001b[0m\n\u001b[0;32m    296\u001b[0m             \u001b[1;32melse\u001b[0m\u001b[1;33m:\u001b[0m\u001b[1;33m\u001b[0m\u001b[1;33m\u001b[0m\u001b[0m\n",
      "\u001b[1;32mD:\\ProgramData\\Anaconda3\\lib\\site-packages\\gtab\\core.py\u001b[0m in \u001b[0;36m<listcomp>\u001b[1;34m(.0)\u001b[0m\n\u001b[0;32m    292\u001b[0m \u001b[1;33m\u001b[0m\u001b[0m\n\u001b[0;32m    293\u001b[0m                 \u001b[0mkeywords\u001b[0m \u001b[1;33m=\u001b[0m \u001b[0mself\u001b[0m\u001b[1;33m.\u001b[0m\u001b[0mHITRAFFIC\u001b[0m \u001b[1;33m+\u001b[0m \u001b[0msamples\u001b[0m\u001b[1;33m\u001b[0m\u001b[1;33m\u001b[0m\u001b[0m\n\u001b[1;32m--> 294\u001b[1;33m                 \u001b[0mkeywords\u001b[0m \u001b[1;33m=\u001b[0m \u001b[1;33m[\u001b[0m\u001b[0mk\u001b[0m \u001b[1;32mfor\u001b[0m \u001b[0mk\u001b[0m \u001b[1;32min\u001b[0m \u001b[0mtqdm\u001b[0m\u001b[1;33m(\u001b[0m\u001b[0mkeywords\u001b[0m\u001b[1;33m,\u001b[0m \u001b[0mtotal\u001b[0m\u001b[1;33m=\u001b[0m\u001b[0mlen\u001b[0m\u001b[1;33m(\u001b[0m\u001b[0mkeywords\u001b[0m\u001b[1;33m)\u001b[0m\u001b[1;33m)\u001b[0m \u001b[1;32mif\u001b[0m \u001b[0mself\u001b[0m\u001b[1;33m.\u001b[0m\u001b[0m_check_keyword\u001b[0m\u001b[1;33m(\u001b[0m\u001b[0mk\u001b[0m\u001b[1;33m)\u001b[0m\u001b[1;33m]\u001b[0m\u001b[1;33m\u001b[0m\u001b[1;33m\u001b[0m\u001b[0m\n\u001b[0m\u001b[0;32m    295\u001b[0m \u001b[1;33m\u001b[0m\u001b[0m\n\u001b[0;32m    296\u001b[0m             \u001b[1;32melse\u001b[0m\u001b[1;33m:\u001b[0m\u001b[1;33m\u001b[0m\u001b[1;33m\u001b[0m\u001b[0m\n",
      "\u001b[1;32mD:\\ProgramData\\Anaconda3\\lib\\site-packages\\gtab\\core.py\u001b[0m in \u001b[0;36m_check_keyword\u001b[1;34m(self, keyword)\u001b[0m\n\u001b[0;32m    139\u001b[0m             \u001b[1;32mif\u001b[0m \u001b[1;34m\"response\"\u001b[0m \u001b[1;32min\u001b[0m \u001b[0mdir\u001b[0m\u001b[1;33m(\u001b[0m\u001b[0me\u001b[0m\u001b[1;33m)\u001b[0m\u001b[1;33m:\u001b[0m\u001b[1;33m\u001b[0m\u001b[1;33m\u001b[0m\u001b[0m\n\u001b[0;32m    140\u001b[0m                 \u001b[1;32mif\u001b[0m \u001b[0me\u001b[0m\u001b[1;33m.\u001b[0m\u001b[0mresponse\u001b[0m\u001b[1;33m.\u001b[0m\u001b[0mstatus_code\u001b[0m \u001b[1;33m==\u001b[0m \u001b[1;36m429\u001b[0m\u001b[1;33m:\u001b[0m\u001b[1;33m\u001b[0m\u001b[1;33m\u001b[0m\u001b[0m\n\u001b[1;32m--> 141\u001b[1;33m                     \u001b[1;32mraise\u001b[0m \u001b[0mConnectionError\u001b[0m\u001b[1;33m(\u001b[0m\u001b[1;34m\"Code 429: Query limit reached on this IP!\"\u001b[0m\u001b[1;33m)\u001b[0m\u001b[1;33m\u001b[0m\u001b[1;33m\u001b[0m\u001b[0m\n\u001b[0m\u001b[0;32m    142\u001b[0m \u001b[1;33m\u001b[0m\u001b[0m\n\u001b[0;32m    143\u001b[0m             \u001b[1;32mreturn\u001b[0m \u001b[1;32mFalse\u001b[0m\u001b[1;33m\u001b[0m\u001b[1;33m\u001b[0m\u001b[0m\n",
      "\u001b[1;31mConnectionError\u001b[0m: Code 429: Query limit reached on this IP!"
     ]
    }
   ],
   "source": [
    "%%capture\n",
    "# Switzerland anchorbank\n",
    "t_CH = create_and_set_gtab(start_timeframe, end_timeframe, \"CH\")"
   ]
  }
 ],
 "metadata": {
  "kernelspec": {
   "display_name": "Python 3",
   "language": "python",
   "name": "python3"
  },
  "language_info": {
   "codemirror_mode": {
    "name": "ipython",
    "version": 3
   },
   "file_extension": ".py",
   "mimetype": "text/x-python",
   "name": "python",
   "nbconvert_exporter": "python",
   "pygments_lexer": "ipython3",
   "version": "3.8.5"
  }
 },
 "nbformat": 4,
 "nbformat_minor": 4
}
